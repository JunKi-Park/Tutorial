{
 "metadata": {
  "language_info": {
   "codemirror_mode": {
    "name": "ipython",
    "version": 3
   },
   "file_extension": ".py",
   "mimetype": "text/x-python",
   "name": "python",
   "nbconvert_exporter": "python",
   "pygments_lexer": "ipython3",
   "version": "3.7.3-final"
  },
  "orig_nbformat": 2,
  "kernelspec": {
   "name": "python3",
   "display_name": "Python 3",
   "language": "python"
  }
 },
 "nbformat": 4,
 "nbformat_minor": 2,
 "cells": [
  {
   "source": [
    "numpy  \n",
    "자료형 list와 비슷, 더 빠르고 메모리를 효율적으로 관리  \n",
    "반복문없이 데이터 배열에 대한 처리를 지원  \n",
    "데이터 과학 도구에 대한 생태계의 핵심   "
   ],
   "cell_type": "markdown",
   "metadata": {}
  },
  {
   "cell_type": "code",
   "execution_count": 1,
   "metadata": {},
   "outputs": [],
   "source": [
    "import numpy as np"
   ]
  },
  {
   "source": [
    "1차원, 2차원 3차원  \n",
    "axis 0 ,1 2차원  \n",
    "axis 0,1 ,2 3차원  "
   ],
   "cell_type": "markdown",
   "metadata": {}
  },
  {
   "cell_type": "code",
   "execution_count": 6,
   "metadata": {},
   "outputs": [
    {
     "output_type": "stream",
     "name": "stdout",
     "text": [
      "[1 2 3 4 5]\n<class 'numpy.ndarray'>\n(5,)\n1 2 3 4 5\n[4 5 6 4 5]\n"
     ]
    }
   ],
   "source": [
    "a1 = np.array([1,2,3,4,5])\n",
    "print(a1)\n",
    "\n",
    "print(type(a1)) #ndarray라는 객체이다. \n",
    "print(a1.shape) # 5개의 element가 있구나, 1차원 배열이구나 \n",
    "print(a1[0],a1[1],a1[2],a1[3],a1[4])\n",
    "a1[0] = 4\n",
    "a1[1]=5\n",
    "a1[2]=6\n",
    "print(a1)"
   ]
  },
  {
   "cell_type": "code",
   "execution_count": 9,
   "metadata": {},
   "outputs": [
    {
     "output_type": "stream",
     "name": "stdout",
     "text": [
      "[[1 2 3]\n [4 5 6]\n [7 8 9]]\n(3, 3)\n1 5 9\n"
     ]
    }
   ],
   "source": [
    "a2 = np.array([ [1,2,3], [4,5,6], [7,8,9] ])\n",
    "print(a2)\n",
    "print(a2.shape) #(3,3)의 array임을 알 수있다. \n",
    "print(a2[0,0],a2[1,1],a2[2,2])"
   ]
  },
  {
   "cell_type": "code",
   "execution_count": 13,
   "metadata": {},
   "outputs": [
    {
     "output_type": "stream",
     "name": "stdout",
     "text": [
      "[[[1 2 3]\n  [4 5 6]\n  [7 8 9]]\n\n [[1 2 3]\n  [4 5 6]\n  [7 8 9]]\n\n [[1 2 3]\n  [4 5 6]\n  [7 8 9]]]\n(3, 3, 3)\n"
     ]
    }
   ],
   "source": [
    "a3 = np.array([ [ [1,2,3], [4,5,6], [7,8,9] ],\n",
    "                [ [1,2,3], [4,5,6], [7,8,9] ],\n",
    "                [ [1,2,3], [4,5,6], [7,8,9] ] ])\n",
    "print(a3)\n",
    "print(a3.shape)"
   ]
  },
  {
   "source": [
    "배열 생성 및 초기화  \n",
    "zeros() : 모든 요소를 0으로 초기화  "
   ],
   "cell_type": "markdown",
   "metadata": {}
  },
  {
   "cell_type": "code",
   "execution_count": 14,
   "metadata": {},
   "outputs": [
    {
     "output_type": "execute_result",
     "data": {
      "text/plain": [
       "array([0., 0., 0., 0., 0., 0., 0., 0., 0., 0.])"
      ]
     },
     "metadata": {},
     "execution_count": 14
    }
   ],
   "source": [
    "np.zeros(10) #10개의 요소를 0으로 채운 배열 선언"
   ]
  },
  {
   "cell_type": "code",
   "execution_count": 17,
   "metadata": {},
   "outputs": [
    {
     "output_type": "execute_result",
     "data": {
      "text/plain": [
       "array([[1., 1., 1.],\n",
       "       [1., 1., 1.],\n",
       "       [1., 1., 1.]])"
      ]
     },
     "metadata": {},
     "execution_count": 17
    }
   ],
   "source": [
    "np.ones((3,3)) #2차원 형태의 모두 1로 채워진 배열"
   ]
  },
  {
   "cell_type": "code",
   "execution_count": 18,
   "metadata": {},
   "outputs": [
    {
     "output_type": "execute_result",
     "data": {
      "text/plain": [
       "array([[1.23, 1.23, 1.23],\n",
       "       [1.23, 1.23, 1.23],\n",
       "       [1.23, 1.23, 1.23]])"
      ]
     },
     "metadata": {},
     "execution_count": 18
    }
   ],
   "source": [
    "np.full((3,3), fill_value=1.23)"
   ]
  },
  {
   "source": [
    "eye() : 단위행렬(identity method)생성  \n",
    "주대각선의 원소가 모두 1이고, 나머지 원소는 모두 0인 정사각 행렬  "
   ],
   "cell_type": "markdown",
   "metadata": {}
  },
  {
   "cell_type": "code",
   "execution_count": 19,
   "metadata": {},
   "outputs": [
    {
     "output_type": "execute_result",
     "data": {
      "text/plain": [
       "array([[1., 0., 0.],\n",
       "       [0., 1., 0.],\n",
       "       [0., 0., 1.]])"
      ]
     },
     "metadata": {},
     "execution_count": 19
    }
   ],
   "source": [
    "np.eye(3)  #단위 행렬은 정사각 행렬이므로, 크기만 지정해주면 된다. "
   ]
  },
  {
   "source": [
    "tri() : 삼각행렬 생성"
   ],
   "cell_type": "markdown",
   "metadata": {}
  },
  {
   "cell_type": "code",
   "execution_count": 20,
   "metadata": {},
   "outputs": [
    {
     "output_type": "execute_result",
     "data": {
      "text/plain": [
       "array([[1., 0., 0.],\n",
       "       [1., 1., 0.],\n",
       "       [1., 1., 1.]])"
      ]
     },
     "metadata": {},
     "execution_count": 20
    }
   ],
   "source": [
    "np.tri(3)"
   ]
  },
  {
   "source": [
    "empty() : 초기화되지 않은 배열 생성  \n",
    "초기화되지 않아서 기존 메모리 위치에 존재하는 값이 있음.  "
   ],
   "cell_type": "markdown",
   "metadata": {}
  },
  {
   "cell_type": "code",
   "execution_count": 22,
   "metadata": {},
   "outputs": [
    {
     "output_type": "execute_result",
     "data": {
      "text/plain": [
       "array([0., 0., 0., 0., 0., 0., 0., 0., 0., 0.])"
      ]
     },
     "metadata": {},
     "execution_count": 22
    }
   ],
   "source": [
    "np.empty(10) #생성되는 배열에 어떤값이 올지 모르기에 주의해야환다. "
   ]
  },
  {
   "source": [
    "_like() :지정된 배열과 shape가 같은 행렬 생성  \n",
    "np.zeros_like()  \n",
    "np.ones_like()  \n",
    "np.full_like()  \n",
    "np.empty_like()  과 같음  \n"
   ],
   "cell_type": "markdown",
   "metadata": {}
  },
  {
   "cell_type": "code",
   "execution_count": 23,
   "metadata": {},
   "outputs": [
    {
     "output_type": "stream",
     "name": "stdout",
     "text": [
      "[4 5 6 4 5]\n"
     ]
    },
    {
     "output_type": "execute_result",
     "data": {
      "text/plain": [
       "array([0, 0, 0, 0, 0])"
      ]
     },
     "metadata": {},
     "execution_count": 23
    }
   ],
   "source": [
    "print(a1)\n",
    "np.zeros_like(a1)"
   ]
  },
  {
   "cell_type": "code",
   "execution_count": 24,
   "metadata": {},
   "outputs": [
    {
     "output_type": "stream",
     "name": "stdout",
     "text": [
      "[[1 2 3]\n [4 5 6]\n [7 8 9]]\n"
     ]
    },
    {
     "output_type": "execute_result",
     "data": {
      "text/plain": [
       "array([[1, 1, 1],\n",
       "       [1, 1, 1],\n",
       "       [1, 1, 1]])"
      ]
     },
     "metadata": {},
     "execution_count": 24
    }
   ],
   "source": [
    "print(a2)\n",
    "np.ones_like(a2)"
   ]
  },
  {
   "cell_type": "code",
   "execution_count": 25,
   "metadata": {},
   "outputs": [
    {
     "output_type": "stream",
     "name": "stdout",
     "text": [
      "[[[1 2 3]\n  [4 5 6]\n  [7 8 9]]\n\n [[1 2 3]\n  [4 5 6]\n  [7 8 9]]\n\n [[1 2 3]\n  [4 5 6]\n  [7 8 9]]]\n"
     ]
    },
    {
     "output_type": "execute_result",
     "data": {
      "text/plain": [
       "array([[[10, 10, 10],\n",
       "        [10, 10, 10],\n",
       "        [10, 10, 10]],\n",
       "\n",
       "       [[10, 10, 10],\n",
       "        [10, 10, 10],\n",
       "        [10, 10, 10]],\n",
       "\n",
       "       [[10, 10, 10],\n",
       "        [10, 10, 10],\n",
       "        [10, 10, 10]]])"
      ]
     },
     "metadata": {},
     "execution_count": 25
    }
   ],
   "source": [
    "print(a3)\n",
    "np.full_like(a3 , 10)"
   ]
  },
  {
   "source": [
    "생성한 값으로 배열 생성  \n",
    "어떤 값을 생성하고 그 값을 가지고 배열을 생성하는 것.  "
   ],
   "cell_type": "markdown",
   "metadata": {}
  },
  {
   "cell_type": "code",
   "execution_count": 26,
   "metadata": {},
   "outputs": [
    {
     "output_type": "execute_result",
     "data": {
      "text/plain": [
       "array([ 0,  2,  4,  6,  8, 10, 12, 14, 16, 18, 20, 22, 24, 26, 28])"
      ]
     },
     "metadata": {},
     "execution_count": 26
    }
   ],
   "source": [
    "#arange() :정수 범위로 배열 생성\n",
    "np.arange(0,30,2)"
   ]
  },
  {
   "cell_type": "code",
   "execution_count": 27,
   "metadata": {},
   "outputs": [
    {
     "output_type": "execute_result",
     "data": {
      "text/plain": [
       "array([0.  , 0.25, 0.5 , 0.75, 1.  ])"
      ]
     },
     "metadata": {},
     "execution_count": 27
    }
   ],
   "source": [
    "#np.linspace() :범위내에서 균등한 간격으로 배열 생성\n",
    "np.linspace(0,1,5)"
   ]
  },
  {
   "cell_type": "code",
   "execution_count": 29,
   "metadata": {},
   "outputs": [
    {
     "output_type": "execute_result",
     "data": {
      "text/plain": [
       "array([ 1.25892541,  1.40400425,  1.565802  ,  1.74624535,  1.94748304,\n",
       "        2.1719114 ,  2.42220294,  2.70133812,  3.0126409 ,  3.35981829,\n",
       "        3.74700446,  4.17881006,  4.66037703,  5.19743987,  5.79639395,\n",
       "        6.46437163,  7.2093272 ,  8.04013161,  8.9666781 , 10.        ])"
      ]
     },
     "metadata": {},
     "execution_count": 29
    }
   ],
   "source": [
    "#logspace() : 범위 내에서 균등간격으로 로그 스케일로 배열 생성\n",
    "np.logspace(0.1,1,20)"
   ]
  },
  {
   "source": [
    "랜덤값으로 배열 생성"
   ],
   "cell_type": "markdown",
   "metadata": {}
  },
  {
   "cell_type": "code",
   "execution_count": 31,
   "metadata": {},
   "outputs": [
    {
     "output_type": "execute_result",
     "data": {
      "text/plain": [
       "array([[0.39494616, 0.50841778, 0.2606716 ],\n",
       "       [0.0607984 , 0.78608491, 0.97150125],\n",
       "       [0.24260684, 0.73451648, 0.75638007]])"
      ]
     },
     "metadata": {},
     "execution_count": 31
    }
   ],
   "source": [
    "#random.random() : 랜덤한 수의 배열 생성 , 실수값으로 \n",
    "np.random.random((3,3))"
   ]
  },
  {
   "cell_type": "code",
   "execution_count": 32,
   "metadata": {},
   "outputs": [
    {
     "output_type": "execute_result",
     "data": {
      "text/plain": [
       "array([[4, 4, 6],\n",
       "       [7, 7, 7],\n",
       "       [0, 7, 1]])"
      ]
     },
     "metadata": {},
     "execution_count": 32
    }
   ],
   "source": [
    "#np.random.randint() : 전수 랜덤 배열 생성\n",
    "np.random.randint(0,10,(3,3)) # 0~10까지 중"
   ]
  },
  {
   "cell_type": "code",
   "execution_count": 33,
   "metadata": {},
   "outputs": [
    {
     "output_type": "execute_result",
     "data": {
      "text/plain": [
       "array([[ 2.38136703, -2.25663425,  0.61584171],\n",
       "       [ 0.43970389, -0.13190584,  0.0712889 ],\n",
       "       [ 0.48728696,  0.06716683, -1.77836521]])"
      ]
     },
     "metadata": {},
     "execution_count": 33
    }
   ],
   "source": [
    "#random.normal() : 정규분표를 고려한 랜덤한 수의 배열 생성\n",
    "#평균 = 0, 표준편차 = 1, (3,3)배열 생성 예시 \n",
    "np.random.normal(0,1,(3,3))"
   ]
  },
  {
   "cell_type": "code",
   "execution_count": 37,
   "metadata": {},
   "outputs": [
    {
     "output_type": "execute_result",
     "data": {
      "text/plain": [
       "array([[0.60388386, 0.83612886, 0.83815802],\n",
       "       [0.55169489, 0.6319693 , 0.3280271 ],\n",
       "       [0.59663753, 0.18300242, 0.99032922]])"
      ]
     },
     "metadata": {},
     "execution_count": 37
    }
   ],
   "source": [
    "#random.rand() :균등분표\n",
    "np.random.rand(3,3)"
   ]
  },
  {
   "cell_type": "code",
   "execution_count": 38,
   "metadata": {},
   "outputs": [
    {
     "output_type": "execute_result",
     "data": {
      "text/plain": [
       "array([[-1.35402874,  0.10705625,  0.6570587 ],\n",
       "       [ 0.58712725, -0.838064  , -0.78515115],\n",
       "       [-2.32372961, -0.33326742, -0.23160433]])"
      ]
     },
     "metadata": {},
     "execution_count": 38
    }
   ],
   "source": [
    "#random.randn() : 표준 정규분포를 고려한 랜덤수의 배열 생성\n",
    "np.random.randn(3,3)"
   ]
  },
  {
   "source": [
    "표준 데이터 타입  \n",
    "dtype의 종류"
   ],
   "cell_type": "markdown",
   "metadata": {}
  },
  {
   "cell_type": "code",
   "execution_count": 40,
   "metadata": {},
   "outputs": [
    {
     "output_type": "execute_result",
     "data": {
      "text/plain": [
       "array([0, 0, 0, 0, 0, 0, 0, 0, 0, 0, 0, 0, 0, 0, 0, 0, 0, 0, 0, 0])"
      ]
     },
     "metadata": {},
     "execution_count": 40
    }
   ],
   "source": [
    "np.zeros(20,dtype=int)"
   ]
  },
  {
   "cell_type": "code",
   "execution_count": 41,
   "metadata": {},
   "outputs": [
    {
     "output_type": "execute_result",
     "data": {
      "text/plain": [
       "array([[ True,  True,  True],\n",
       "       [ True,  True,  True],\n",
       "       [ True,  True,  True]])"
      ]
     },
     "metadata": {},
     "execution_count": 41
    }
   ],
   "source": [
    "np.ones((3,3),dtype = bool)"
   ]
  },
  {
   "cell_type": "code",
   "execution_count": 42,
   "metadata": {},
   "outputs": [
    {
     "output_type": "execute_result",
     "data": {
      "text/plain": [
       "array([[1., 1., 1.],\n",
       "       [1., 1., 1.],\n",
       "       [1., 1., 1.]])"
      ]
     },
     "metadata": {},
     "execution_count": 42
    }
   ],
   "source": [
    "np.full((3,3),fill_value=1.0,dtype=float)"
   ]
  },
  {
   "source": [
    "날짜 시간 배열 생성  "
   ],
   "cell_type": "markdown",
   "metadata": {}
  },
  {
   "cell_type": "code",
   "execution_count": 44,
   "metadata": {},
   "outputs": [
    {
     "output_type": "execute_result",
     "data": {
      "text/plain": [
       "array('2020-01-01', dtype='datetime64[D]')"
      ]
     },
     "metadata": {},
     "execution_count": 44
    }
   ],
   "source": [
    "date = np.array('2020-01-01',dtype = np.datetime64 ) #날짜 시간을 나타내게 하는 type이다. \n",
    "date"
   ]
  },
  {
   "cell_type": "code",
   "execution_count": 45,
   "metadata": {},
   "outputs": [
    {
     "output_type": "execute_result",
     "data": {
      "text/plain": [
       "array(['2020-01-01', '2020-01-02', '2020-01-03', '2020-01-04',\n",
       "       '2020-01-05', '2020-01-06', '2020-01-07', '2020-01-08',\n",
       "       '2020-01-09', '2020-01-10', '2020-01-11', '2020-01-12'],\n",
       "      dtype='datetime64[D]')"
      ]
     },
     "metadata": {},
     "execution_count": 45
    }
   ],
   "source": [
    "date + np.arange(12) #arange에서 생성된 값을 기존 날짜에 추가된 형태로 변환해주기도 한다. "
   ]
  },
  {
   "cell_type": "code",
   "execution_count": 46,
   "metadata": {},
   "outputs": [
    {
     "output_type": "execute_result",
     "data": {
      "text/plain": [
       "numpy.datetime64('2020-06-01T12:00')"
      ]
     },
     "metadata": {},
     "execution_count": 46
    }
   ],
   "source": [
    "datetime = np.datetime64('2020-06-01 12:00')\n",
    "datetime #T라는 대문자 다음에 12:00이라고 표현된다. "
   ]
  },
  {
   "cell_type": "code",
   "execution_count": 47,
   "metadata": {},
   "outputs": [
    {
     "output_type": "execute_result",
     "data": {
      "text/plain": [
       "numpy.datetime64('2020-06-01T12:00:12.340000000')"
      ]
     },
     "metadata": {},
     "execution_count": 47
    }
   ],
   "source": [
    "datetime = np.datetime64('2020-06-01 12:00:12.34','ns')\n",
    "datetime #ns까지 표현한 저장이 이루어지기도 한다. "
   ]
  },
  {
   "source": [
    "배열 조회  "
   ],
   "cell_type": "markdown",
   "metadata": {}
  },
  {
   "cell_type": "code",
   "execution_count": 50,
   "metadata": {},
   "outputs": [],
   "source": [
    "def array_info(array):\n",
    "    print(array)\n",
    "    print(\"ndim : \",array.ndim) #차원 수를 의미한다. \n",
    "    print(\"shape : \", array.shape)\n",
    "    print(\"dtype :\",array.dtype)\n",
    "    print(\"size : \",array.size)\n",
    "    print(\"itemsize : \",array.itemsize) #하나의 요소가 가즌 데이터 크기 \n",
    "    print(\"nbytes : \",array.nbytes)\n",
    "    print(\"strides : \",array.strides) # 하나의 요소로 넘어가는데에 필요한 데이터의 크기를 의미한다. "
   ]
  },
  {
   "cell_type": "code",
   "execution_count": 51,
   "metadata": {},
   "outputs": [
    {
     "output_type": "stream",
     "name": "stdout",
     "text": [
      "[4 5 6 4 5]\nndim :  1\nshape :  (5,)\ndtype : int32\nsize :  5\nitemsize :  4\nnbytes :  20\nstrides :  (4,)\n"
     ]
    }
   ],
   "source": [
    "array_info(a1)"
   ]
  },
  {
   "cell_type": "code",
   "execution_count": 52,
   "metadata": {},
   "outputs": [
    {
     "output_type": "stream",
     "name": "stdout",
     "text": [
      "[[1 2 3]\n [4 5 6]\n [7 8 9]]\nndim :  2\nshape :  (3, 3)\ndtype : int32\nsize :  9\nitemsize :  4\nnbytes :  36\nstrides :  (12, 4)\n"
     ]
    }
   ],
   "source": [
    "array_info(a2)"
   ]
  },
  {
   "cell_type": "code",
   "execution_count": 53,
   "metadata": {},
   "outputs": [
    {
     "output_type": "stream",
     "name": "stdout",
     "text": [
      "[[[1 2 3]\n  [4 5 6]\n  [7 8 9]]\n\n [[1 2 3]\n  [4 5 6]\n  [7 8 9]]\n\n [[1 2 3]\n  [4 5 6]\n  [7 8 9]]]\nndim :  3\nshape :  (3, 3, 3)\ndtype : int32\nsize :  27\nitemsize :  4\nnbytes :  108\nstrides :  (36, 12, 4)\n"
     ]
    }
   ],
   "source": [
    "array_info(a3)"
   ]
  },
  {
   "source": [
    "인덱싱"
   ],
   "cell_type": "markdown",
   "metadata": {}
  },
  {
   "cell_type": "code",
   "execution_count": 59,
   "metadata": {},
   "outputs": [
    {
     "output_type": "stream",
     "name": "stdout",
     "text": [
      "[4 5 6 4 5]\n4\n6\n5\n4\n"
     ]
    }
   ],
   "source": [
    "print(a1)\n",
    "print(a1[0])\n",
    "print(a1[2])\n",
    "print(a1[-1])\n",
    "print(a1[-2])"
   ]
  },
  {
   "cell_type": "code",
   "execution_count": 61,
   "metadata": {},
   "outputs": [
    {
     "output_type": "stream",
     "name": "stdout",
     "text": [
      "[[1 2 3]\n [4 5 6]\n [7 8 9]]\n1\n3\n5\n9\n"
     ]
    }
   ],
   "source": [
    "print(a2)\n",
    "print(a2[0,0])\n",
    "print(a2[0,2])\n",
    "print(a2[1,1])\n",
    "print(a2[2,-1])"
   ]
  },
  {
   "cell_type": "code",
   "execution_count": 63,
   "metadata": {},
   "outputs": [
    {
     "output_type": "stream",
     "name": "stdout",
     "text": [
      "[[[1 2 3]\n  [4 5 6]\n  [7 8 9]]\n\n [[1 2 3]\n  [4 5 6]\n  [7 8 9]]\n\n [[1 2 3]\n  [4 5 6]\n  [7 8 9]]]\n1\n5\n9\n9\n"
     ]
    }
   ],
   "source": [
    "print(a3)\n",
    "print(a3[0,0,0])\n",
    "print(a3[1,1,1])\n",
    "print(a3[2,2,2])\n",
    "print(a3[2,-1,-1])"
   ]
  },
  {
   "source": [
    "슬라이싱"
   ],
   "cell_type": "markdown",
   "metadata": {}
  },
  {
   "cell_type": "code",
   "execution_count": 65,
   "metadata": {},
   "outputs": [
    {
     "output_type": "stream",
     "name": "stdout",
     "text": [
      "[4 5 6 4 5]\n[4 5]\n[4 5 6 4 5]\n[4]\n[4 6 5]\n[5 4 6 5 4]\n"
     ]
    }
   ],
   "source": [
    "#슬라이싱 구문 a[start:stop:step], 기본값 start = 0, stop = ndim, step = 1\n",
    "print(a1)\n",
    "print(a1[0:2]) #2는 카운트 하지 않는다. \n",
    "print(a1[0:])\n",
    "print(a1[:1])\n",
    "print(a1[::2])\n",
    "print(a1[::-1])"
   ]
  },
  {
   "cell_type": "code",
   "execution_count": 66,
   "metadata": {},
   "outputs": [
    {
     "output_type": "stream",
     "name": "stdout",
     "text": [
      "[[1 2 3]\n [4 5 6]\n [7 8 9]]\n[4 5 6]\n[4 5 6]\n[[1 2]\n [4 5]]\n[[6 5 4]\n [9 8 7]]\n[[9 8 7]\n [6 5 4]\n [3 2 1]]\n"
     ]
    }
   ],
   "source": [
    "print(a2)\n",
    "print(a2[1])\n",
    "print(a2[1,:])\n",
    "print(a2[:2, :2])\n",
    "print(a2[1:,::-1])\n",
    "print(a2[::-1, ::-1])"
   ]
  },
  {
   "source": [
    "불리언 인덱싱  \n",
    "\n",
    "True 값인 인덱스의 값만 조회"
   ],
   "cell_type": "markdown",
   "metadata": {}
  },
  {
   "cell_type": "code",
   "execution_count": 69,
   "metadata": {},
   "outputs": [
    {
     "output_type": "stream",
     "name": "stdout",
     "text": [
      "[4 5 6 4 5]\n[5 6 5]\n[4 6 4]\n"
     ]
    }
   ],
   "source": [
    "print(a1)\n",
    "bi = [False, True,True,False,True]\n",
    "print(a1[bi]) #True인 인덱스 위치만 프린트해준다. \n",
    "bi = [True,False,True,True,False]\n",
    "print(a1[bi])"
   ]
  },
  {
   "cell_type": "code",
   "execution_count": 71,
   "metadata": {},
   "outputs": [
    {
     "output_type": "stream",
     "name": "stdout",
     "text": [
      "[[1 2 3]\n [4 5 6]\n [7 8 9]]\n[[False False  True]\n [ True False False]\n [ True  True False]]\n[3 4 7 8]\n"
     ]
    }
   ],
   "source": [
    "print(a2)\n",
    "bi = np.random.randint(0,2,(3,3),dtype=bool) #0,1의 두 가지 값중에서 랜덤으로 선택한다.\n",
    "print(bi)\n",
    "print(a2[bi])\n",
    "#특정 조건을 만족하는 값만 받아오기를 원할때 불리언 읻겡싱을 많이 사용하게 된다."
   ]
  },
  {
   "source": [
    "팬시 인덱싱"
   ],
   "cell_type": "markdown",
   "metadata": {}
  },
  {
   "cell_type": "code",
   "execution_count": 75,
   "metadata": {},
   "outputs": [
    {
     "output_type": "stream",
     "name": "stdout",
     "text": [
      "[4 5 6 4 5]\n4 6\n[4 6]\n[[4 5]\n [6 4]]\n"
     ]
    }
   ],
   "source": [
    "print(a1)\n",
    "print(a1[0],a1[2])\n",
    "ind = [0,2]\n",
    "print(a1[ind]) #인덱스를 묶어서 한번에 전달해준다. \n",
    "ind = np.array([[0,1],\n",
    "                [2,0] ])\n",
    "\n",
    "print(a1[ind]) #인덱스가 이차원으로 선언된다면, a1이 일차원이어도 이차원 배열로 선언된다. "
   ]
  },
  {
   "cell_type": "code",
   "execution_count": 77,
   "metadata": {},
   "outputs": [
    {
     "output_type": "stream",
     "name": "stdout",
     "text": [
      "[[1 2 3]\n [4 5 6]\n [7 8 9]]\n[2 9]\n[[1 2 3]\n [7 8 9]]\n[[2 3]\n [5 6]\n [8 9]]\n[8 9]\n[[5 6]\n [8 9]]\n"
     ]
    }
   ],
   "source": [
    "print(a2)\n",
    "row = np.array([0,2])\n",
    "col = np.array([1,2])\n",
    "print(a2[row,col]) #(0,1). (2,2)의 위치에 존재하는 인덱스의 값을 추출한다. \n",
    "\n",
    "print(a2[row, :])\n",
    "print(a2[: , col])\n",
    "print(a2[2,col])\n",
    "print(a2[1:, col])"
   ]
  },
  {
   "source": [
    "배열 값 삽입/수정/삭제/복사"
   ],
   "cell_type": "markdown",
   "metadata": {}
  },
  {
   "cell_type": "code",
   "execution_count": 80,
   "metadata": {},
   "outputs": [
    {
     "output_type": "stream",
     "name": "stdout",
     "text": [
      "[4 5 6 4 5]\n[10  4  5  6  4  5]\n[4 5 6 4 5]\n[ 4  5 10  6  4  5]\n"
     ]
    }
   ],
   "source": [
    "#배열 값 삽입\n",
    "#insert() : 배열의 특정 위치에 값 삽입\n",
    "#axis를 지정하지 않으면 1차원 배열로 변환\n",
    "#추가할 방향을 axis로 지정\n",
    "#원본 배열 변경없이 새로운 뱌열 반환\n",
    "print(a1)\n",
    "b1 = np.insert(a1,obj = 0,values=10)\n",
    "print(b1)\n",
    "print(a1)\n",
    "c1 = np.insert(a1,2,10)\n",
    "print(c1)"
   ]
  },
  {
   "cell_type": "code",
   "execution_count": 82,
   "metadata": {},
   "outputs": [
    {
     "output_type": "stream",
     "name": "stdout",
     "text": [
      "[[1 2 3]\n [4 5 6]\n [7 8 9]]\n[[ 1  2  3]\n [10 10 10]\n [ 4  5  6]\n [ 7  8  9]]\n[[ 1 10  2  3]\n [ 4 10  5  6]\n [ 7 10  8  9]]\n"
     ]
    }
   ],
   "source": [
    "print(a2)\n",
    "b2 = np.insert(a2 , obj = 1, values=10,axis=0) #axis가 0인 것의 10을 1번째에 추가\n",
    "print(b2)\n",
    "c2 = np.insert(a2,1,10,axis = 1)\n",
    "print(c2)"
   ]
  },
  {
   "cell_type": "code",
   "execution_count": 86,
   "metadata": {},
   "outputs": [
    {
     "output_type": "stream",
     "name": "stdout",
     "text": [
      "[9 0 3 0 0]\n[1 2 3 0 0]\n[9 2 3 0 0]\n[9 0 3 0 0]\n[9 4 3 4 4]\n"
     ]
    }
   ],
   "source": [
    "#배열 값 수정  \n",
    "#배열의 인덱싱으로 접근하여 값 수정\n",
    "print(a1)\n",
    "a1[0] = 1\n",
    "a1[1] = 2\n",
    "a1[2] = 3\n",
    "print(a1)\n",
    "\n",
    "a1[:1] = 9\n",
    "print(a1)\n",
    "\n",
    "i = np.array([1,3,4])\n",
    "a1[i] = 0\n",
    "print(a1)\n",
    "\n",
    "a1[i] += 4\n",
    "print(a1)"
   ]
  },
  {
   "cell_type": "code",
   "execution_count": 90,
   "metadata": {},
   "outputs": [
    {
     "output_type": "stream",
     "name": "stdout",
     "text": [
      "[[1 1 1]\n [4 2 9]\n [7 8 9]]\n[[1 1 1]\n [4 2 9]\n [7 8 3]]\n[[1 1 1]\n [4 2 9]\n [7 8 9]]\n[[1 0 1]\n [4 2 0]\n [7 8 9]]\n"
     ]
    }
   ],
   "source": [
    "print(a2)\n",
    "a2[0,0] = 1\n",
    "a2[1,1] = 2\n",
    "a2[2,2] = 3\n",
    "a2[0] = 1\n",
    "print(a2)\n",
    "\n",
    "a2[1:,2] = 9\n",
    "print(a2)\n",
    "\n",
    "row = np.array([0,1])\n",
    "col = np.array([1,2])\n",
    "a2[row,col] = 0\n",
    "print(a2)"
   ]
  },
  {
   "source": [
    "#배열 값 삭제\n",
    "#delete() : 배열의 특정 위치에 값 삭제\n",
    "#원본 배열 변경없이 새로운 배열 반환\n",
    "print(a1)\n",
    "b1 = np.delete(a1,1)\n",
    "print(b1)\n",
    "print(a1)"
   ],
   "cell_type": "code",
   "metadata": {},
   "execution_count": 92,
   "outputs": [
    {
     "output_type": "stream",
     "name": "stdout",
     "text": [
      "[9 4 3 4 4]\n[9 3 4 4]\n[9 4 3 4 4]\n"
     ]
    }
   ]
  },
  {
   "cell_type": "code",
   "execution_count": 94,
   "metadata": {},
   "outputs": [
    {
     "output_type": "stream",
     "name": "stdout",
     "text": [
      "[[1 0 1]\n [4 2 0]\n [7 8 9]]\n[[1 0 1]\n [7 8 9]]\n[[1 0 1]\n [4 2 0]\n [7 8 9]]\n[[1 1]\n [4 0]\n [7 9]]\n"
     ]
    }
   ],
   "source": [
    "print(a2)\n",
    "b2 = np.delete(a2 , 1 , axis = 0)\n",
    "print(b2)\n",
    "print(a2)\n",
    "\n",
    "c2 = np.delete(a2,1,axis = 1)\n",
    "print(c2)"
   ]
  },
  {
   "cell_type": "code",
   "execution_count": 98,
   "metadata": {},
   "outputs": [
    {
     "output_type": "stream",
     "name": "stdout",
     "text": [
      "[[1 0 1]\n [4 0 0]\n [7 8 9]]\n[[1 0]\n [4 0]]\n[[1 0]\n [4 0]]\n[[1 0]\n [4 0]]\n[[1 0 1]\n [4 0 0]\n [7 8 9]]\n"
     ]
    }
   ],
   "source": [
    "#배열 복사\n",
    "#리스트 자료형과 달리 배열의 슬라이스는 복사본이 아님.\n",
    "print(a2)\n",
    "print(a2[:2 , :2])\n",
    "a2_sub = a2[:2,:2]\n",
    "print(a2_sub)\n",
    "\n",
    "a2_sub[:,1] = 0\n",
    "print(a2_sub)\n",
    "print(a2)\n",
    "#원본 배열이 유지되는 상태에서 사용되기 때문에"
   ]
  },
  {
   "cell_type": "code",
   "execution_count": 99,
   "metadata": {},
   "outputs": [
    {
     "output_type": "stream",
     "name": "stdout",
     "text": [
      "[[1 0 1]\n [4 0 0]\n [7 8 9]]\n[[1 0]\n [4 0]]\n[[1 1]\n [4 1]]\n[[1 0 1]\n [4 0 0]\n [7 8 9]]\n"
     ]
    }
   ],
   "source": [
    "#copy() : 배열이나 하위 배열 내의 값을 복사한다. 동일한 메모리 위치 사용 X\n",
    "print(a2)\n",
    "a2_sub_copy = a2[:2,:2].copy()\n",
    "print(a2_sub_copy)\n",
    "a2_sub_copy[:,1] = 1\n",
    "print(a2_sub_copy)\n",
    "print(a2)\n",
    "#copy된 것과 a2는 서로 별개의 위치에 있다. "
   ]
  },
  {
   "source": [
    "배열 변환\n"
   ],
   "cell_type": "markdown",
   "metadata": {}
  },
  {
   "cell_type": "code",
   "execution_count": 101,
   "metadata": {},
   "outputs": [
    {
     "output_type": "stream",
     "name": "stdout",
     "text": [
      "[[1 0 1]\n [4 0 0]\n [7 8 9]]\n[[1 4 7]\n [0 0 8]\n [1 0 9]]\n"
     ]
    }
   ],
   "source": [
    "#배열 전치 및 축 변경\n",
    "print(a2)\n",
    "print(a2.T) #행과 열의 축이 변경된다 Transpose"
   ]
  },
  {
   "cell_type": "code",
   "execution_count": 102,
   "metadata": {},
   "outputs": [
    {
     "output_type": "stream",
     "name": "stdout",
     "text": [
      "[[[1 2 3]\n  [4 5 6]\n  [7 8 9]]\n\n [[1 2 3]\n  [4 5 6]\n  [7 8 9]]\n\n [[1 2 3]\n  [4 5 6]\n  [7 8 9]]]\n[[[1 1 1]\n  [4 4 4]\n  [7 7 7]]\n\n [[2 2 2]\n  [5 5 5]\n  [8 8 8]]\n\n [[3 3 3]\n  [6 6 6]\n  [9 9 9]]]\n"
     ]
    }
   ],
   "source": [
    "print(a3)\n",
    "print(a3.T)"
   ]
  },
  {
   "cell_type": "code",
   "execution_count": 103,
   "metadata": {},
   "outputs": [
    {
     "output_type": "stream",
     "name": "stdout",
     "text": [
      "[[1 0 1]\n [4 0 0]\n [7 8 9]]\n[[1 4 7]\n [0 0 8]\n [1 0 9]]\n"
     ]
    }
   ],
   "source": [
    "print(a2)\n",
    "print(a2.swapaxes(1,0))"
   ]
  },
  {
   "cell_type": "code",
   "execution_count": 104,
   "metadata": {},
   "outputs": [
    {
     "output_type": "stream",
     "name": "stdout",
     "text": [
      "[[[1 2 3]\n  [4 5 6]\n  [7 8 9]]\n\n [[1 2 3]\n  [4 5 6]\n  [7 8 9]]\n\n [[1 2 3]\n  [4 5 6]\n  [7 8 9]]]\n[[[1 2 3]\n  [1 2 3]\n  [1 2 3]]\n\n [[4 5 6]\n  [4 5 6]\n  [4 5 6]]\n\n [[7 8 9]\n  [7 8 9]\n  [7 8 9]]]\n[[[1 4 7]\n  [2 5 8]\n  [3 6 9]]\n\n [[1 4 7]\n  [2 5 8]\n  [3 6 9]]\n\n [[1 4 7]\n  [2 5 8]\n  [3 6 9]]]\n"
     ]
    }
   ],
   "source": [
    "print(a3)\n",
    "print(a3.swapaxes(0,1))\n",
    "print(a3.swapaxes(1,2)) #어떤 축을 스왑할지 선택할 수 있다. "
   ]
  },
  {
   "source": [
    "#배열 재구조화\n",
    "#reshape() : 배열의 형상을 변경\n",
    "n1 = np.arange(1,10)\n",
    "print(n1)\n",
    "print(n1.reshape(3,3))"
   ],
   "cell_type": "code",
   "metadata": {},
   "execution_count": 105,
   "outputs": [
    {
     "output_type": "stream",
     "name": "stdout",
     "text": [
      "[1 2 3 4 5 6 7 8 9]\n[[1 2 3]\n [4 5 6]\n [7 8 9]]\n"
     ]
    }
   ]
  },
  {
   "cell_type": "code",
   "execution_count": 106,
   "metadata": {},
   "outputs": [
    {
     "output_type": "stream",
     "name": "stdout",
     "text": [
      "[1 2 3 4 5 6 7 8 9]\n[[1 2 3 4 5]]\n[[1]\n [2]\n [3]\n [4]\n [5]]\n"
     ]
    }
   ],
   "source": [
    "#newaxis() : 새로운 축 추가\n",
    "print(n1)\n",
    "print(n1[np.newaxis,:5])\n",
    "print(n1[:5,np.newaxis])"
   ]
  },
  {
   "source": [
    "배열 크기 변경"
   ],
   "cell_type": "markdown",
   "metadata": {}
  },
  {
   "cell_type": "code",
   "execution_count": 112,
   "metadata": {},
   "outputs": [
    {
     "output_type": "stream",
     "name": "stdout",
     "text": [
      "[[8 5 7 8 5]\n [4 7 5 4 9]]\n[[8 5]\n [7 8]\n [5 4]\n [7 5]\n [4 9]]\n"
     ]
    }
   ],
   "source": [
    "n2 = np.random.randint(0,10,(2,5))\n",
    "print(n2)\n",
    "n2.resize((5,2)) #배열의 모양을 변경 시킨다. \n",
    "print(n2)"
   ]
  },
  {
   "cell_type": "code",
   "execution_count": 118,
   "metadata": {},
   "outputs": [
    {
     "output_type": "stream",
     "name": "stdout",
     "text": [
      "[[8 5 7 8 5]\n [4 7 5 4 9]\n [0 0 0 0 0]\n [0 0 0 0 0]\n [0 0 0 0 0]]\n"
     ]
    }
   ],
   "source": [
    "#배열 크기 증가\n",
    "#빈 공간은 0으로 채운다. \n",
    "n2.resize((5,5),refcheck=False)\n",
    "print(n2)"
   ]
  },
  {
   "cell_type": "code",
   "execution_count": 120,
   "metadata": {},
   "outputs": [
    {
     "output_type": "stream",
     "name": "stdout",
     "text": [
      "[[8 5 7]\n [8 5 4]\n [7 5 4]]\n"
     ]
    }
   ],
   "source": [
    "#배열 크기 감소\n",
    "#포함되지 않은 값은 삭제됨\n",
    "n2.resize((3,3),refcheck=False)\n",
    "print(n2)"
   ]
  },
  {
   "cell_type": "code",
   "execution_count": 121,
   "metadata": {},
   "outputs": [
    {
     "output_type": "stream",
     "name": "stdout",
     "text": [
      "[[1 2 3]\n [4 5 6]\n [7 8 9]]\n[[10 11 12]\n [13 14 15]\n [16 17 18]]\n"
     ]
    }
   ],
   "source": [
    "#배열 추가 \n",
    "#append() : 배열의 끝에 값 추가 \n",
    "a2 = np.arange(1,10).reshape(3,3)\n",
    "print(a2)\n",
    "b2 = np.arange(10,19).reshape(3,3)\n",
    "print(b2)"
   ]
  },
  {
   "cell_type": "code",
   "execution_count": 122,
   "metadata": {},
   "outputs": [
    {
     "output_type": "stream",
     "name": "stdout",
     "text": [
      "[ 1  2  3  4  5  6  7  8  9 10 11 12 13 14 15 16 17 18]\n"
     ]
    }
   ],
   "source": [
    "#axis 지정이 없으면 1차원 배열 형태로 변형되어 결합된다. \n",
    "c2 = np.append(a2,b2)\n",
    "print(c2)"
   ]
  },
  {
   "cell_type": "code",
   "execution_count": 127,
   "metadata": {},
   "outputs": [
    {
     "output_type": "stream",
     "name": "stdout",
     "text": [
      "[[ 1  2  3]\n [ 4  5  6]\n [ 7  8  9]\n [10 11 12]\n [13 14 15]\n [16 17 18]]\n[[ 1  2  3 10 11 12]\n [ 4  5  6 13 14 15]\n [ 7  8  9 16 17 18]]\n"
     ]
    }
   ],
   "source": [
    "#axis를 0으로 지정\n",
    "#shape[0]를 제외한 나머지 shape는 같아야 한다. \n",
    "c2 = np.append(a2,b2,axis = 0)\n",
    "print(c2)\n",
    "c2 = np.append(a2,b2,axis=1)\n",
    "print(c2)"
   ]
  },
  {
   "cell_type": "code",
   "execution_count": 128,
   "metadata": {},
   "outputs": [
    {
     "output_type": "execute_result",
     "data": {
      "text/plain": [
       "array([1, 3, 5, 2, 4, 6])"
      ]
     },
     "metadata": {},
     "execution_count": 128
    }
   ],
   "source": [
    "#배열 연결\n",
    "#concatenate() : 튜플이나 배열의 리스트를 인수로 사용해 배열 연결\n",
    "a1 = np.array([1,3,5])\n",
    "b1 = np.array([2,4,6])\n",
    "np.concatenate([a1,b1])"
   ]
  },
  {
   "cell_type": "code",
   "execution_count": 129,
   "metadata": {},
   "outputs": [
    {
     "output_type": "execute_result",
     "data": {
      "text/plain": [
       "array([1, 3, 5, 2, 4, 6, 7, 8, 9])"
      ]
     },
     "metadata": {},
     "execution_count": 129
    }
   ],
   "source": [
    "c1 = np.array([7,8,9])\n",
    "np.concatenate([a1,b1,c1])"
   ]
  },
  {
   "cell_type": "code",
   "execution_count": 131,
   "metadata": {},
   "outputs": [
    {
     "output_type": "execute_result",
     "data": {
      "text/plain": [
       "array([[1, 2, 3],\n",
       "       [4, 5, 6],\n",
       "       [1, 2, 3],\n",
       "       [4, 5, 6]])"
      ]
     },
     "metadata": {},
     "execution_count": 131
    }
   ],
   "source": [
    "a2 = np.array([[1,2,3],\n",
    "                [4,5,6]])\n",
    "np.concatenate([a2,a2])"
   ]
  },
  {
   "cell_type": "code",
   "execution_count": 132,
   "metadata": {},
   "outputs": [
    {
     "output_type": "execute_result",
     "data": {
      "text/plain": [
       "array([[1, 2, 3, 1, 2, 3],\n",
       "       [4, 5, 6, 4, 5, 6]])"
      ]
     },
     "metadata": {},
     "execution_count": 132
    }
   ],
   "source": [
    "a2 = np.array([[1,2,3],\n",
    "                [4,5,6]])\n",
    "np.concatenate([a2,a2],axis = 1) #옆으로 붙는다. axis값을 다르게 줌으로써 확인가능\\"
   ]
  },
  {
   "cell_type": "code",
   "execution_count": 133,
   "metadata": {},
   "outputs": [
    {
     "output_type": "execute_result",
     "data": {
      "text/plain": [
       "array([[1, 2, 3],\n",
       "       [4, 5, 6],\n",
       "       [1, 2, 3],\n",
       "       [4, 5, 6]])"
      ]
     },
     "metadata": {},
     "execution_count": 133
    }
   ],
   "source": [
    "#vstack() : 수직 스택, 1차원으로 연결\n",
    "np.vstack([a2,a2])"
   ]
  },
  {
   "cell_type": "code",
   "execution_count": 134,
   "metadata": {},
   "outputs": [
    {
     "output_type": "execute_result",
     "data": {
      "text/plain": [
       "array([[1, 2, 3, 1, 2, 3],\n",
       "       [4, 5, 6, 4, 5, 6]])"
      ]
     },
     "metadata": {},
     "execution_count": 134
    }
   ],
   "source": [
    "#hstack() #수평으로 2차원 배열 연결\n",
    "np.hstack([a2,a2])"
   ]
  },
  {
   "cell_type": "code",
   "execution_count": 135,
   "metadata": {},
   "outputs": [
    {
     "output_type": "execute_result",
     "data": {
      "text/plain": [
       "array([[[1, 1],\n",
       "        [2, 2],\n",
       "        [3, 3]],\n",
       "\n",
       "       [[4, 4],\n",
       "        [5, 5],\n",
       "        [6, 6]]])"
      ]
     },
     "metadata": {},
     "execution_count": 135
    }
   ],
   "source": [
    "#dstack() : 깊이 스택, 3차원으로 연결\n",
    "np.dstack([a2,a2])"
   ]
  },
  {
   "cell_type": "code",
   "execution_count": 136,
   "metadata": {},
   "outputs": [
    {
     "output_type": "execute_result",
     "data": {
      "text/plain": [
       "array([[[1, 2, 3],\n",
       "        [4, 5, 6]],\n",
       "\n",
       "       [[1, 2, 3],\n",
       "        [4, 5, 6]]])"
      ]
     },
     "metadata": {},
     "execution_count": 136
    }
   ],
   "source": [
    "#stack() : 새로운 차원으로 연결\n",
    "np.stack([a2,a2]) #2차원이 3차원으로 차원이 바뀌어서 표현되었다. "
   ]
  },
  {
   "source": [
    "배열 분할"
   ],
   "cell_type": "markdown",
   "metadata": {}
  },
  {
   "cell_type": "code",
   "execution_count": 139,
   "metadata": {},
   "outputs": [
    {
     "output_type": "stream",
     "name": "stdout",
     "text": [
      "[0 1 2 3 4 5 6 7 8 9]\n[0 1 2 3 4] [5 6 7 8 9]\n[0 1] [2 3] [4 5] [6 7] [8 9]\n"
     ]
    }
   ],
   "source": [
    "#split() : 배열 분할\n",
    "a1 = np.arange(0,10)\n",
    "print(a1)\n",
    "b1, c1 = np.split(a1 , [5]) #스플릿되는 인덱스의 위치를 기반으로 \n",
    "print(b1,c1)\n",
    "\n",
    "b1 ,c1,d1,e1,f1 = np.split(a1,[2,4,6,8]) #스플릿되는 읻겟의 위치를 여러게 지정할 수도 있다. \n",
    "print(b1,c1,d1,e1,f1)"
   ]
  },
  {
   "cell_type": "code",
   "execution_count": 140,
   "metadata": {},
   "outputs": [
    {
     "output_type": "stream",
     "name": "stdout",
     "text": [
      "[[1 2 3]\n [4 5 6]\n [7 8 9]]\n[[1 2 3]\n [4 5 6]]\n[[7 8 9]]\n"
     ]
    }
   ],
   "source": [
    "#vsplit() : 수직 분할,1차원으로 분할\n",
    "a2 = np.arange(1,10).reshape(3,3)\n",
    "print(a2)\n",
    "b2,c2 = np.vsplit(a2,[2])\n",
    "print(b2)\n",
    "print(c2)"
   ]
  },
  {
   "cell_type": "code",
   "execution_count": 141,
   "metadata": {},
   "outputs": [
    {
     "output_type": "stream",
     "name": "stdout",
     "text": [
      "[[1 2 3]\n [4 5 6]\n [7 8 9]]\n[[1 2]\n [4 5]\n [7 8]]\n[[3]\n [6]\n [9]]\n"
     ]
    }
   ],
   "source": [
    "#hsplit() : 수평분할, 2차원으로 분할\n",
    "a2 = np.arange(1,10).reshape(3,3)\n",
    "print(a2)\n",
    "b2,c2 = np.hsplit(a2,[2])\n",
    "print(b2)\n",
    "print(c2)"
   ]
  },
  {
   "cell_type": "code",
   "execution_count": 147,
   "metadata": {},
   "outputs": [
    {
     "output_type": "stream",
     "name": "stdout",
     "text": [
      "[[[ 1  2  3]\n  [ 4  5  6]\n  [ 7  8  9]]\n\n [[10 11 12]\n  [13 14 15]\n  [16 17 18]]\n\n [[19 20 21]\n  [22 23 24]\n  [25 26 27]]]\n[[[ 1  2]\n  [ 4  5]\n  [ 7  8]]\n\n [[10 11]\n  [13 14]\n  [16 17]]\n\n [[19 20]\n  [22 23]\n  [25 26]]]\n[[[ 3]\n  [ 6]\n  [ 9]]\n\n [[12]\n  [15]\n  [18]]\n\n [[21]\n  [24]\n  [27]]]\n"
     ]
    }
   ],
   "source": [
    "#dsplit() : 깊이분할(depth split),3차원으로 분할\n",
    "a3 = np.arange(1,28).reshape(3,3,3)\n",
    "print(a3)\n",
    "b3,c3 = np.dsplit(a3,[2])\n",
    "print(b3)\n",
    "print(c3)"
   ]
  },
  {
   "source": [
    "배열 연산  \n",
    "벡터화 연산을 사용한다.  \n",
    "배열 요소에 대한 반복적인 계산을 효율적으로 수행  \n",
    "numpy의 범용함수를 통해 구현  \n"
   ],
   "cell_type": "markdown",
   "metadata": {}
  },
  {
   "cell_type": "code",
   "execution_count": 150,
   "metadata": {},
   "outputs": [
    {
     "output_type": "stream",
     "name": "stdout",
     "text": [
      "[1 2 3]\n[6 7 8]\n[[1 2 3]\n [4 5 6]\n [7 8 9]]\n[[ 2  4  6]\n [ 5  7  9]\n [ 8 10 12]]\n[[1]\n [2]\n [3]]\n[[2 3 4]\n [3 4 5]\n [4 5 6]]\n"
     ]
    }
   ],
   "source": [
    "#브로드 캐스팅 : 배열의 크기가 서로 다르더라도 동일한 값이 모든 요소에 연산된다. \n",
    "a1 = np.array([1,2,3])\n",
    "print(a1)\n",
    "print(a1+5)\n",
    "a2 = np.arange(1,10).reshape(3,3)\n",
    "print(a2)\n",
    "print(a1 + a2) #서로 차원이 달라도 연산이 가능하다.\n",
    "\n",
    "b2 = np.array([1,2,3]).reshape(3,1)\n",
    "print(b2)\n",
    "print(a1+b2)"
   ]
  },
  {
   "source": [
    "산술연산  "
   ],
   "cell_type": "markdown",
   "metadata": {}
  },
  {
   "cell_type": "code",
   "execution_count": 151,
   "metadata": {},
   "outputs": [
    {
     "output_type": "stream",
     "name": "stdout",
     "text": [
      "[1 2 3 4 5 6 7 8 9]\n[ 2  3  4  5  6  7  8  9 10]\n"
     ]
    }
   ],
   "source": [
    "a1 = np.arange(1,10)\n",
    "print(a1)\n",
    "print(a1+1)\n"
   ]
  },
  {
   "cell_type": "code",
   "execution_count": 164,
   "metadata": {},
   "outputs": [
    {
     "output_type": "stream",
     "name": "stdout",
     "text": [
      "[11 12 13 14 15 16 17 18 19]\n[-1  0  1  2  3  4  5  6  7]\n[-9 -8 -7 -6 -5 -4 -3 -2 -1]\n[-1 -2 -3 -4 -5 -6 -7 -8 -9]\n[-1 -2 -3 -4 -5 -6 -7 -8 -9]\n[ 2  4  6  8 10 12 14 16 18]\n[ 2  4  6  8 10 12 14 16 18]\n[0.5 1.  1.5 2.  2.5 3.  3.5 4.  4.5]\n[0.5 1.  1.5 2.  2.5 3.  3.5 4.  4.5]\n[0 1 1 2 2 3 3 4 4]\n[0 1 1 2 2 3 3 4 4]\n[ 1  4  9 16 25 36 49 64 81]\n[ 1  4  9 16 25 36 49 64 81]\n[1 0 1 0 1 0 1 0 1]\n[1 0 1 0 1 0 1 0 1]\n"
     ]
    }
   ],
   "source": [
    "print(np.add(a1,10))\n",
    "print(a1 - 2)\n",
    "print(np.subtract(a1,10)) #범용함수\n",
    "print(-a1)\n",
    "print(np.negative(a1))\n",
    "\n",
    "print(a1*2)\n",
    "print(np.multiply(a1,2))\n",
    "\n",
    "print(a1 / 2)\n",
    "print(np.divide(a1,2))\n",
    "\n",
    "print(a1//2)\n",
    "print(np.floor_divide(a1,2)) #내림 나눗셈을 한다. \n",
    "\n",
    "print(a1**2)\n",
    "print(np.power(a1,2)) #지수\n",
    "\n",
    "print(a1%2)\n",
    "print(np.mod(a1,2)) #나머지 \n"
   ]
  },
  {
   "cell_type": "code",
   "execution_count": 169,
   "metadata": {},
   "outputs": [
    {
     "output_type": "stream",
     "name": "stdout",
     "text": [
      "[1 2 3 4 5 6 7 8 9]\n[8 2 7 7 9 7 6 5 3]\n[ 9  4 10 11 14 13 13 13 12]\n[-7  0 -4 -3 -4 -1  1  3  6]\n[ 8  4 21 28 45 42 42 40 27]\n[0.125      1.         0.42857143 0.57142857 0.55555556 0.85714286\n 1.16666667 1.6        3.        ]\n[0 1 0 0 0 0 1 1 3]\n[      1       4    2187   16384 1953125  279936  117649   32768     729]\n[1 0 3 4 5 6 1 3 0]\n"
     ]
    }
   ],
   "source": [
    "a1 = np.arange(1,10)\n",
    "print(a1)\n",
    "b1 = np.random.randint(1,10, size = 9)\n",
    "print(b1)\n",
    "\n",
    "print(a1+b1)\n",
    "print(a1-b1)\n",
    "print(a1*b1)\n",
    "print(a1/b1)\n",
    "print(a1//b1)\n",
    "print(a1**b1)\n",
    "print(a1%b1)"
   ]
  },
  {
   "cell_type": "code",
   "execution_count": 171,
   "metadata": {},
   "outputs": [
    {
     "output_type": "stream",
     "name": "stdout",
     "text": [
      "[[1 2 3]\n [4 5 6]\n [7 8 9]]\n[[6 1 3]\n [8 4 6]\n [3 9 2]]\n[[ 7  3  6]\n [12  9 12]\n [10 17 11]]\n[[-5  1  0]\n [-4  1  0]\n [ 4 -1  7]]\n[[ 6  2  9]\n [32 20 36]\n [21 72 18]]\n[[0.16666667 2.         1.        ]\n [0.5        1.25       1.        ]\n [2.33333333 0.88888889 4.5       ]]\n[[0 2 1]\n [0 1 1]\n [2 0 4]]\n[[        1         2        27]\n [    65536       625     46656]\n [      343 134217728        81]]\n[[1 0 0]\n [4 1 0]\n [1 8 1]]\n"
     ]
    }
   ],
   "source": [
    "a2 = np.arange(1,10).reshape(3,3)\n",
    "print(a2)\n",
    "b2 = np.random.randint(1,10,size=(3,3))\n",
    "print(b2)\n",
    "\n",
    "print(a2+b2)\n",
    "print(a2-b2)\n",
    "print(a2*b2)\n",
    "print(a2/b2)\n",
    "print(a2//b2)\n",
    "print(a2**b2)\n",
    "print(a2%b2)"
   ]
  },
  {
   "cell_type": "code",
   "execution_count": 173,
   "metadata": {},
   "outputs": [
    {
     "output_type": "stream",
     "name": "stdout",
     "text": [
      "[-3  9 -3 -9 -6]\n[3 9 3 9 6]\n"
     ]
    }
   ],
   "source": [
    "#절댓값 함수\n",
    "#abs()\n",
    "a1 = np.random.randint(-10,10,size =5)\n",
    "print(a1)\n",
    "print(np.abs(a1))"
   ]
  },
  {
   "cell_type": "code",
   "execution_count": 174,
   "metadata": {},
   "outputs": [
    {
     "output_type": "stream",
     "name": "stdout",
     "text": [
      "[-3  9 -3 -9 -6]\n[nan  3. nan nan nan]\n"
     ]
    }
   ],
   "source": [
    "#제곱.제곱근 함수sqrt()\n",
    "print(a1)\n",
    "print(np.sqrt(a1))"
   ]
  },
  {
   "source": [
    "지수와 로그함수"
   ],
   "cell_type": "markdown",
   "metadata": {}
  },
  {
   "cell_type": "code",
   "execution_count": 175,
   "metadata": {},
   "outputs": [
    {
     "output_type": "stream",
     "name": "stdout",
     "text": [
      "[5 4 9 5 8]\n[ 148.4131591    54.59815003 8103.08392758  148.4131591  2980.95798704]\n[ 32.  16. 512.  32. 256.]\n[25 16 81 25 64]\n"
     ]
    }
   ],
   "source": [
    "a1 = np.random.randint(1,10,size = 5)\n",
    "print(a1)\n",
    "print(np.exp(a1))\n",
    "print(np.exp2(a1))\n",
    "print(np.power(a1,2))"
   ]
  },
  {
   "cell_type": "code",
   "execution_count": 176,
   "metadata": {},
   "outputs": [
    {
     "output_type": "stream",
     "name": "stdout",
     "text": [
      "[5 4 9 5 8]\n[1.60943791 1.38629436 2.19722458 1.60943791 2.07944154]\n[2.32192809 2.         3.169925   2.32192809 3.        ]\n[0.69897    0.60205999 0.95424251 0.69897    0.90308999]\n"
     ]
    }
   ],
   "source": [
    "print(a1)\n",
    "print(np.log(a1))\n",
    "print(np.log2(a1))\n",
    "print(np.log10(a1))"
   ]
  },
  {
   "cell_type": "code",
   "execution_count": 178,
   "metadata": {},
   "outputs": [
    {
     "output_type": "stream",
     "name": "stdout",
     "text": [
      "[0.         1.57079633 3.14159265]\n[0.0000000e+00 1.0000000e+00 1.2246468e-16]\n[ 1.000000e+00  6.123234e-17 -1.000000e+00]\n[ 0.00000000e+00  1.63312394e+16 -1.22464680e-16]\n"
     ]
    }
   ],
   "source": [
    "#삼각함수\n",
    "#sin,cos,tan,arcsin,sinh,deg2rad , rad2deg etc..\n",
    "t = np.linspace(0,np.pi,3)\n",
    "print(t)\n",
    "print(np.sin(t))\n",
    "print(np.cos(t))\n",
    "print(np.tan(t))"
   ]
  },
  {
   "cell_type": "code",
   "execution_count": 179,
   "metadata": {},
   "outputs": [
    {
     "output_type": "stream",
     "name": "stdout",
     "text": [
      "[-1, 0, 1]\n[-1.57079633  0.          1.57079633]\n[3.14159265 1.57079633 0.        ]\n[-0.78539816  0.          0.78539816]\n"
     ]
    }
   ],
   "source": [
    "x = [-1,0,1]\n",
    "print(x)\n",
    "print(np.arcsin(x))\n",
    "print(np.arccos(x))\n",
    "print(np.arctan(x))"
   ]
  },
  {
   "source": [
    "집계함수  "
   ],
   "cell_type": "markdown",
   "metadata": {}
  },
  {
   "cell_type": "code",
   "execution_count": 182,
   "metadata": {},
   "outputs": [
    {
     "output_type": "stream",
     "name": "stdout",
     "text": [
      "[[7 5 3]\n [2 9 3]\n [9 8 9]]\n55 55\n[18 22 15] [18 22 15]\n[15 14 26] [15 14 26]\n"
     ]
    }
   ],
   "source": [
    "#NaN안전 모드 : not a number의미 숫자가 아닌 어떤 값이 떴을 때, 안전모드로 에러를 제외하면서 안전하게 수행되도록 한다. \n",
    "a2 = np.random.randint(1,10,size=(3,3))\n",
    "print(a2)\n",
    "print(a2.sum(), np.sum(a2))\n",
    "print(a2.sum(axis = 0), np.sum(a2,axis = 0))\n",
    "print(a2.sum(axis = 1), np.sum(a2,axis = 1))"
   ]
  },
  {
   "cell_type": "code",
   "execution_count": 183,
   "metadata": {},
   "outputs": [
    {
     "output_type": "stream",
     "name": "stdout",
     "text": [
      "[[7 5 3]\n [2 9 3]\n [9 8 9]]\n[ 7 12 15 17 26 29 38 46 55]\n[[ 7  5  3]\n [ 9 14  6]\n [18 22 15]]\n[[ 7 12 15]\n [ 2 11 14]\n [ 9 17 26]]\n"
     ]
    }
   ],
   "source": [
    "print(a2)\n",
    "print( np.cumsum(a2))\n",
    "print( np.cumsum(a2,axis = 0))\n",
    "print( np.cumsum(a2,axis = 1))"
   ]
  },
  {
   "cell_type": "code",
   "execution_count": 184,
   "metadata": {},
   "outputs": [
    {
     "output_type": "stream",
     "name": "stdout",
     "text": [
      "[[7 5 3]\n [2 9 3]\n [9 8 9]]\n[[-2 -2]\n [ 7 -6]\n [-1  1]]\n[[-5  4  0]\n [ 7 -1  6]]\n[[-2 -2]\n [ 7 -6]\n [-1  1]]\n"
     ]
    }
   ],
   "source": [
    "#diff() : 차분계산\n",
    "print(a2)\n",
    "print( np.diff(a2))\n",
    "print( np.diff(a2,axis = 0))\n",
    "print( np.diff(a2,axis = 1))"
   ]
  },
  {
   "cell_type": "code",
   "execution_count": 185,
   "metadata": {},
   "outputs": [
    {
     "output_type": "stream",
     "name": "stdout",
     "text": [
      "[[7 5 3]\n [2 9 3]\n [9 8 9]]\n3674160\n[126 360  81]\n[105  54 648]\n"
     ]
    }
   ],
   "source": [
    "print(a2)\n",
    "print( np.prod(a2))\n",
    "print( np.prod(a2,axis = 0))\n",
    "print( np.prod(a2,axis = 1))"
   ]
  },
  {
   "cell_type": "code",
   "execution_count": 186,
   "metadata": {},
   "outputs": [
    {
     "output_type": "stream",
     "name": "stdout",
     "text": [
      "[[7 5 3]\n [2 9 3]\n [9 8 9]]\n[      7      35     105     210    1890    5670   51030  408240 3674160]\n[[  7   5   3]\n [ 14  45   9]\n [126 360  81]]\n[[  7  35 105]\n [  2  18  54]\n [  9  72 648]]\n"
     ]
    }
   ],
   "source": [
    "print(a2)\n",
    "print( np.cumprod(a2))\n",
    "print( np.cumprod(a2,axis = 0))\n",
    "print( np.cumprod(a2,axis = 1))"
   ]
  },
  {
   "cell_type": "code",
   "execution_count": 187,
   "metadata": {},
   "outputs": [
    {
     "output_type": "stream",
     "name": "stdout",
     "text": [
      "[[7 5 3]\n [2 9 3]\n [9 8 9]]\n[[1 1 1]\n [1 1 1]\n [1 1 1]]\n[[15 15 15]\n [14 14 14]\n [26 26 26]]\n[[15 15 15]\n [14 14 14]\n [26 26 26]]\n"
     ]
    }
   ],
   "source": [
    "#dot()/matmul() : 점곱, 행렬곱 계산\n",
    "print(a2)\n",
    "b2 = np.ones_like(a2)\n",
    "print(b2)\n",
    "print( np.dot(a2,b2))\n",
    "print( np.matmul(a2,b2))"
   ]
  },
  {
   "cell_type": "code",
   "execution_count": 188,
   "metadata": {},
   "outputs": [
    {
     "output_type": "stream",
     "name": "stdout",
     "text": [
      "[[7 5 3]\n [2 9 3]\n [9 8 9]]\n[[1 1 1]\n [1 1 1]\n [1 1 1]]\n55\n[[[[7 7 7]\n   [7 7 7]\n   [7 7 7]]\n\n  [[5 5 5]\n   [5 5 5]\n   [5 5 5]]\n\n  [[3 3 3]\n   [3 3 3]\n   [3 3 3]]]\n\n\n [[[2 2 2]\n   [2 2 2]\n   [2 2 2]]\n\n  [[9 9 9]\n   [9 9 9]\n   [9 9 9]]\n\n  [[3 3 3]\n   [3 3 3]\n   [3 3 3]]]\n\n\n [[[9 9 9]\n   [9 9 9]\n   [9 9 9]]\n\n  [[8 8 8]\n   [8 8 8]\n   [8 8 8]]\n\n  [[9 9 9]\n   [9 9 9]\n   [9 9 9]]]]\n[[15 15 15]\n [14 14 14]\n [26 26 26]]\n"
     ]
    }
   ],
   "source": [
    "#tensordot() : 텐서곱 게산\n",
    "print(a2)\n",
    "print(b2)\n",
    "print(np.tensordot(a2,b2))\n",
    "print(np.tensordot(a2,b2,axes = 0))\n",
    "print(np.tensordot(a2,b2,axes = 1))\n",
    "#axes = 0 축에따라서 다 곱한 결과이다. \n",
    "#axes = 1 dot()과 같은 결과"
   ]
  },
  {
   "cell_type": "code",
   "execution_count": 189,
   "metadata": {},
   "outputs": [
    {
     "output_type": "stream",
     "name": "stdout",
     "text": [
      "[-3  6 -3]\n"
     ]
    }
   ],
   "source": [
    "#cross() :벡터곱\n",
    "x = [1,2,3]\n",
    "y = [4,5,6]\n",
    "print(np.cross(x,y))"
   ]
  },
  {
   "cell_type": "code",
   "execution_count": 190,
   "metadata": {},
   "outputs": [
    {
     "output_type": "stream",
     "name": "stdout",
     "text": [
      "[[7 5 3]\n [2 9 3]\n [9 8 9]]\n[[1 1 1]\n [1 1 1]\n [1 1 1]]\n[[15 15 15]\n [14 14 14]\n [26 26 26]]\n[[7 7 7 7 7 7 7 7 7]\n [5 5 5 5 5 5 5 5 5]\n [3 3 3 3 3 3 3 3 3]\n [2 2 2 2 2 2 2 2 2]\n [9 9 9 9 9 9 9 9 9]\n [3 3 3 3 3 3 3 3 3]\n [9 9 9 9 9 9 9 9 9]\n [8 8 8 8 8 8 8 8 8]\n [9 9 9 9 9 9 9 9 9]]\n"
     ]
    }
   ],
   "source": [
    "#inner() / outer() : 내적/외적\n",
    "print(a2)\n",
    "print(b2)\n",
    "print(np.inner(a2,b2))\n",
    "print(np.outer(a2,b2))"
   ]
  },
  {
   "cell_type": "code",
   "execution_count": 191,
   "metadata": {},
   "outputs": [
    {
     "output_type": "stream",
     "name": "stdout",
     "text": [
      "[[7 5 3]\n [2 9 3]\n [9 8 9]]\n6.111111111111111\n[6.         7.33333333 5.        ]\n[5.         4.66666667 8.66666667]\n"
     ]
    }
   ],
   "source": [
    "#mean() : 평균 계산\n",
    "print(a2) \n",
    "print(np.mean(a2))\n",
    "print(np.mean(a2,axis = 0))\n",
    "print(np.mean(a2 , axis=1))"
   ]
  },
  {
   "cell_type": "code",
   "execution_count": 192,
   "metadata": {},
   "outputs": [
    {
     "output_type": "stream",
     "name": "stdout",
     "text": [
      "[[7 5 3]\n [2 9 3]\n [9 8 9]]\n7.432098765432098\n[8.66666667 2.88888889 8.        ]\n[2.66666667 9.55555556 0.22222222]\n"
     ]
    }
   ],
   "source": [
    "#var() : 분산 계산\n",
    "\n",
    "print(a2) \n",
    "print(np.var(a2))\n",
    "print(np.var(a2,axis = 0))\n",
    "print(np.var(a2 , axis=1))"
   ]
  },
  {
   "cell_type": "code",
   "execution_count": 193,
   "metadata": {},
   "outputs": [
    {
     "output_type": "stream",
     "name": "stdout",
     "text": [
      "[[7 5 3]\n [2 9 3]\n [9 8 9]]\n2\n[2 5 3]\n[3 2 8]\n"
     ]
    }
   ],
   "source": [
    "#min() : 최소값\n",
    "\n",
    "print(a2) \n",
    "print(np.min(a2))\n",
    "print(np.min(a2,axis = 0))\n",
    "print(np.min(a2 , axis=1))"
   ]
  },
  {
   "cell_type": "code",
   "execution_count": 194,
   "metadata": {},
   "outputs": [
    {
     "output_type": "stream",
     "name": "stdout",
     "text": [
      "[[7 5 3]\n [2 9 3]\n [9 8 9]]\n9\n[9 9 9]\n[7 9 9]\n"
     ]
    }
   ],
   "source": [
    "#max()\n",
    "print(a2) \n",
    "print(np.max(a2))\n",
    "print(np.max(a2,axis = 0))\n",
    "print(np.max(a2 , axis=1))"
   ]
  },
  {
   "cell_type": "code",
   "execution_count": 195,
   "metadata": {},
   "outputs": [
    {
     "output_type": "stream",
     "name": "stdout",
     "text": [
      "[[7 5 3]\n [2 9 3]\n [9 8 9]]\n3\n[1 0 0]\n[2 0 1]\n"
     ]
    }
   ],
   "source": [
    "#argmin() : 최소값의 인덱스 출력\n",
    "\n",
    "print(a2) \n",
    "print(np.argmin(a2))\n",
    "print(np.argmin(a2,axis = 0))\n",
    "print(np.argmin(a2 , axis=1))"
   ]
  },
  {
   "cell_type": "code",
   "execution_count": 196,
   "metadata": {},
   "outputs": [
    {
     "output_type": "stream",
     "name": "stdout",
     "text": [
      "[[7 5 3]\n [2 9 3]\n [9 8 9]]\n4\n[2 1 2]\n[0 1 0]\n"
     ]
    }
   ],
   "source": [
    "#argmax() : 최댓값의 인덱스\n",
    "\n",
    "print(a2) \n",
    "print(np.argmax(a2))\n",
    "print(np.argmax(a2,axis = 0))\n",
    "print(np.argmax(a2 , axis=1))"
   ]
  },
  {
   "cell_type": "code",
   "execution_count": 197,
   "metadata": {},
   "outputs": [
    {
     "output_type": "stream",
     "name": "stdout",
     "text": [
      "[[7 5 3]\n [2 9 3]\n [9 8 9]]\n7.0\n[7. 8. 3.]\n[5. 3. 9.]\n"
     ]
    }
   ],
   "source": [
    "#median() : 중앙값\n",
    "print(a2) \n",
    "print(np.median(a2))\n",
    "print(np.median(a2,axis = 0))\n",
    "print(np.median(a2 , axis=1))\n",
    "#요소 값들 중 중앙 값이 무엇인지 평균과 다르다. "
   ]
  },
  {
   "cell_type": "code",
   "execution_count": 198,
   "metadata": {},
   "outputs": [
    {
     "output_type": "stream",
     "name": "stdout",
     "text": [
      "[0 1 2 3]\n[0.  0.6 1.2 1.8 2.4 3. ]\n[0 1 2 2 3 3]\n[0 0 1 1 2 3]\n[0 1 1 2 2 3]\n[0.  0.5 1.5 1.5 2.5 3. ]\n"
     ]
    }
   ],
   "source": [
    "#percentile() : 백분위 수\n",
    "a1 = np.array([0,1,2,3])\n",
    "print(a1)\n",
    "print(np.percentile(a1,[0,20,40,60,80,100],interpolation='linear'))\n",
    "print(np.percentile(a1,[0,20,40,60,80,100],interpolation='higher'))\n",
    "print(np.percentile(a1,[0,20,40,60,80,100],interpolation='lower'))\n",
    "print(np.percentile(a1,[0,20,40,60,80,100],interpolation='nearest'))\n",
    "print(np.percentile(a1,[0,20,40,60,80,100],interpolation='midpoint'))"
   ]
  },
  {
   "cell_type": "code",
   "execution_count": 199,
   "metadata": {},
   "outputs": [
    {
     "output_type": "stream",
     "name": "stdout",
     "text": [
      "[[False False False]\n [False  True  True]\n [False  True  True]]\nTrue\n[False  True  True]\n[False  True  True]\n"
     ]
    }
   ],
   "source": [
    "#any() : \n",
    "a2 = np.array([[False,False,False],\n",
    "                [False,True,True],\n",
    "                [False,True,True]])\n",
    "print(a2)\n",
    "print(np.any(a2))\n",
    "print(np.any(a2,axis = 0))\n",
    "print(np.any(a2,axis=1))\n",
    "#전체중에 하나라도 True가 존재하면 True를 리턴한다. "
   ]
  },
  {
   "cell_type": "code",
   "execution_count": 201,
   "metadata": {},
   "outputs": [
    {
     "output_type": "stream",
     "name": "stdout",
     "text": [
      "[[False False False]\n [ True  True  True]\n [False  True  True]]\nFalse\n[False False False]\n[False  True False]\n"
     ]
    }
   ],
   "source": [
    "#all() : \n",
    "a2 = np.array([[False,False,False],\n",
    "                [True,True,True],\n",
    "                [False,True,True]])\n",
    "print(a2)\n",
    "print(np.all(a2))\n",
    "print(np.all(a2,axis = 0))\n",
    "print(np.all(a2,axis=1))\n",
    "#전체가 True여야만 True를 리턴한다. "
   ]
  },
  {
   "cell_type": "code",
   "execution_count": 206,
   "metadata": {},
   "outputs": [
    {
     "output_type": "stream",
     "name": "stdout",
     "text": [
      "[1 2 3 4 5 6 7 8 9]\n[False False False False  True False False False False]\n[ True  True  True  True False  True  True  True  True]\n[ True  True  True  True False False False False False]\n[ True  True  True  True  True False False False False]\n[False False False False False  True  True  True  True]\n[False False False False  True  True  True  True  True]\n"
     ]
    }
   ],
   "source": [
    "#비교연산(Comparison operation)\n",
    "a1 = np.arange(1,10)\n",
    "print(a1)\n",
    "print(a1 == 5) #전부를 비교하고 결괏값을 리턴시켜준다. \n",
    "print(a1 != 5)\n",
    "print(a1<5)\n",
    "print(a1<=5)\n",
    "print(a1>5)\n",
    "print(a1>=5)"
   ]
  },
  {
   "cell_type": "code",
   "execution_count": 209,
   "metadata": {},
   "outputs": [
    {
     "output_type": "stream",
     "name": "stdout",
     "text": [
      "[[1 2 3]\n [4 5 6]\n [7 8 9]]\n45\n4\n4\n[1 1 2]\n[0 1 3]\nTrue\n[ True  True  True]\n[False  True  True]\nFalse\n[False False False]\n[False False  True]\n"
     ]
    }
   ],
   "source": [
    "a2 = np.arange(1,10).reshape(3,3)\n",
    "print(a2)\n",
    "\n",
    "print(np.sum(a2))\n",
    "print(np.count_nonzero(a2>5))\n",
    "print(np.sum(a2>5)) #더하는게 아니라, 조건부합하는 경우를 카운트해줌\n",
    "print(np.sum(a2>5,axis = 0))\n",
    "print(np.sum(a2>5 , axis=1))\n",
    "\n",
    "print(np.any(a2>5))\n",
    "print(np.any(a2>5,axis=0))\n",
    "print(np.any(a2>5,axis=1))\n",
    "\n",
    "print(np.all(a2>5))\n",
    "print(np.all(a2>5,axis=0))\n",
    "print(np.all(a2>5,axis=1))"
   ]
  },
  {
   "cell_type": "code",
   "execution_count": 210,
   "metadata": {},
   "outputs": [
    {
     "output_type": "stream",
     "name": "stdout",
     "text": [
      "[1 2 3 4 5]\n[1 2 3 3 4]\n[ True  True  True False False]\n"
     ]
    }
   ],
   "source": [
    "#isclose()\n",
    "a1 = np.array([1,2,3,4,5])\n",
    "print(a1)\n",
    "b1 = np.array([1,2,3,3,4])\n",
    "print(b1)\n",
    "print(np.isclose(a1,b1))"
   ]
  },
  {
   "cell_type": "code",
   "execution_count": 215,
   "metadata": {},
   "outputs": [
    {
     "output_type": "stream",
     "name": "stdout",
     "text": [
      "[ nan   2.  inf   4. -inf]\n[ True False False False False]\n[False False  True False  True]\n[False  True False  True False]\n"
     ]
    }
   ],
   "source": [
    "a1=np.array([np.nan,2, np.inf,4,np.NINF])\n",
    "print(a1)\n",
    "print(np.isnan(a1)) #Nan판별\n",
    "print(np.isinf(a1))  #무한대판별\n",
    "print(np.isfinite(a1)) #무한대가 아닌것만\n"
   ]
  },
  {
   "cell_type": "code",
   "execution_count": 218,
   "metadata": {},
   "outputs": [
    {
     "output_type": "stream",
     "name": "stdout",
     "text": [
      "[[1 2 3]\n [4 5 6]\n [7 8 9]]\n[[False False False]\n [False False  True]\n [ True False False]]\n[6 7]\n[[ True  True  True]\n [ True  True  True]\n [ True  True  True]]\n[1 2 3 4 5 6 7 8 9]\n[[ True  True  True]\n [ True  True False]\n [False  True  True]]\n[1 2 3 4 5 8 9]\n[[ True  True  True]\n [ True  True False]\n [False False False]]\n[1 2 3 4 5]\n"
     ]
    }
   ],
   "source": [
    "a2 = np.arange(1,10).reshape(3,3)\n",
    "print(a2)\n",
    "\n",
    "print((a2>5) & (a2<8))\n",
    "print(a2[(a2>5) & (a2<8)]) #True인 부분에 대한 값이 출력된다. \n",
    "\n",
    "print((a2>5) | (a2<8))\n",
    "print(a2[(a2>5) | (a2<8)]) #True인 부분에 대한 값이 출력된다. \n",
    "\n",
    "print((a2>5) ^ (a2<8)) #XOR표기이다. \n",
    "print(a2[(a2>5) ^ (a2<8)]) #True인 부분에 대한 값이 출력된다. \n",
    "\n",
    "print(~(a2>5)) #NOT표기\n",
    "print(a2[~(a2>5)]) #True인 부분에 대한 값이 출력된다. "
   ]
  },
  {
   "cell_type": "code",
   "execution_count": 220,
   "metadata": {},
   "outputs": [
    {
     "output_type": "stream",
     "name": "stdout",
     "text": [
      "[1 5 3 4 4 5 9 6 9 8]\n[1 3 4 4 5 5 6 8 9 9]\n[1 5 3 4 4 5 9 6 9 8]\n[0 2 3 4 1 5 7 9 6 8]\n[1 5 3 4 4 5 9 6 9 8]\n[1 3 4 4 5 5 6 8 9 9]\n"
     ]
    }
   ],
   "source": [
    "#배열 정렬\n",
    "a1 = np.random.randint(1,10,size = 10)\n",
    "print(a1)\n",
    "print(np.sort(a1))\n",
    "print(a1)\n",
    "print(np.argsort(a1)) #어느 위치의 값이 와야하는지 인덱스를 나타내준다. \n",
    "print(a1)\n",
    "\n",
    "a1.sort()\n",
    "print(a1)"
   ]
  },
  {
   "cell_type": "code",
   "execution_count": 222,
   "metadata": {},
   "outputs": [
    {
     "output_type": "stream",
     "name": "stdout",
     "text": [
      "[[7 2 9]\n [3 5 9]\n [8 7 3]]\n[[3 2 3]\n [7 5 9]\n [8 7 9]]\n[[2 7 9]\n [3 5 9]\n [3 7 8]]\n"
     ]
    }
   ],
   "source": [
    "a2 = np.random.randint(1,10,size=(3,3))\n",
    "print(a2)\n",
    "print(np.sort(a2,axis=0))\n",
    "print(np.sort(a2,axis=1))"
   ]
  },
  {
   "cell_type": "code",
   "execution_count": 227,
   "metadata": {},
   "outputs": [
    {
     "output_type": "stream",
     "name": "stdout",
     "text": [
      "[2 9 4 6 7 1 6 5 6 8]\n[1 2 4 5 6 6 6 7 9 8]\n"
     ]
    }
   ],
   "source": [
    "#부분 정렬 partition() :배열에서 k개의 작은 값을 반환\n",
    "a1 = np.random.randint(1,10,size = 10)\n",
    "print(a1)\n",
    "print(np.partition(a1,3)) #세번째 인덱스까지 작은값을 반환"
   ]
  },
  {
   "cell_type": "code",
   "execution_count": 230,
   "metadata": {},
   "outputs": [
    {
     "output_type": "stream",
     "name": "stdout",
     "text": [
      "[[5 9 7 3 7]\n [4 8 8 4 4]\n [3 1 6 9 6]\n [8 8 3 4 3]\n [1 8 9 5 1]]\n[[3 5 7 7 9]\n [4 4 4 8 8]\n [1 3 6 6 9]\n [3 3 4 8 8]\n [1 1 5 8 9]]\n[[1 8 3 4 3]\n [3 1 6 3 1]\n [4 8 7 4 4]\n [5 8 8 5 6]\n [8 9 9 9 7]]\n[[3 5 7 7 9]\n [4 4 4 8 8]\n [1 3 6 6 9]\n [3 3 4 8 8]\n [1 1 5 8 9]]\n"
     ]
    }
   ],
   "source": [
    "a2 = np.random.randint(1,10,size=(5,5))\n",
    "print(a2)\n",
    "print(np.partition(a2,3))\n",
    "print(np.partition(a2,3,axis = 0))\n",
    "print(np.partition(a2,3,axis=1))"
   ]
  },
  {
   "cell_type": "code",
   "execution_count": 231,
   "metadata": {},
   "outputs": [
    {
     "output_type": "stream",
     "name": "stdout",
     "text": [
      "[[4 8 7 8 3]\n [6 6 1 8 6]\n [6 3 2 8 5]\n [6 6 8 1 1]\n [5 4 8 5 3]]\n"
     ]
    }
   ],
   "source": [
    "#배열 입출력\n",
    "#save(),savez(),load(),loadtxt(),savetxt()\n",
    "a2 = np.random.randint(1,10,size = (5,5))\n",
    "print(a2)\n",
    "np.save(\"a\",a2)"
   ]
  },
  {
   "cell_type": "code",
   "execution_count": 233,
   "metadata": {},
   "outputs": [
    {
     "output_type": "stream",
     "name": "stdout",
     "text": [
      " C ����̺��� �������� �̸��� �����ϴ�.\n ���� �Ϸ� ��ȣ: 9ED5-0E20\n\n c:\\Users\\User\\Desktop\\�ر�\\�ڵ�\\python\\numpy ���͸�\n\n2021-02-03  ���� 02:18    <DIR>          .\n2021-02-03  ���� 02:18    <DIR>          ..\n2021-02-03  ���� 02:18               228 a.npy\n2021-02-01  ���� 10:01            57,990 numpyclass.ipynb\n               2�� ����              58,218 ����Ʈ\n               2�� ���͸�  69,819,244,544 ����Ʈ ����\n"
     ]
    }
   ],
   "source": [
    "ls\n",
    "#한글파일명으로 된 디렉토리는 못 읽어온다. "
   ]
  },
  {
   "cell_type": "code",
   "execution_count": 234,
   "metadata": {},
   "outputs": [
    {
     "output_type": "stream",
     "name": "stdout",
     "text": [
      "[[2 9 7 6 8]\n [6 6 6 7 2]\n [1 8 1 1 7]\n [8 3 7 1 6]\n [7 2 3 5 3]]\n"
     ]
    }
   ],
   "source": [
    "b2 = np.random.randint(1,10,size = (5,5))\n",
    "print(b2)\n",
    "np.savez(\"ab\",a2,b2)"
   ]
  },
  {
   "cell_type": "code",
   "execution_count": 235,
   "metadata": {},
   "outputs": [
    {
     "output_type": "stream",
     "name": "stderr",
     "text": [
      "'ls'��(��) ���� �Ǵ� �ܺ� ����, ������ �� �ִ� ���α׷�, �Ǵ�\n��ġ ������ �ƴմϴ�.\n"
     ]
    }
   ],
   "source": [
    "!ls"
   ]
  },
  {
   "cell_type": "code",
   "execution_count": 236,
   "metadata": {},
   "outputs": [
    {
     "output_type": "stream",
     "name": "stdout",
     "text": [
      "[[4 8 7 8 3]\n [6 6 1 8 6]\n [6 3 2 8 5]\n [6 6 8 1 1]\n [5 4 8 5 3]]\n"
     ]
    }
   ],
   "source": [
    "npy = np.load(\"a.npy\")\n",
    "print(npy)"
   ]
  },
  {
   "cell_type": "code",
   "execution_count": 239,
   "metadata": {},
   "outputs": [
    {
     "output_type": "stream",
     "name": "stdout",
     "text": [
      "['arr_0', 'arr_1']\n[[4 8 7 8 3]\n [6 6 1 8 6]\n [6 3 2 8 5]\n [6 6 8 1 1]\n [5 4 8 5 3]]\n[[2 9 7 6 8]\n [6 6 6 7 2]\n [1 8 1 1 7]\n [8 3 7 1 6]\n [7 2 3 5 3]]\n"
     ]
    }
   ],
   "source": [
    "npz = np.load(\"ab.npz\")\n",
    "print(npz.files) #npz파일 안에 저장되어 있는 배열을 확인할 수 있다. \n",
    "print(npz['arr_0'])\n",
    "print(npz['arr_1']) #이름으로 접근해야 한다. "
   ]
  },
  {
   "cell_type": "code",
   "execution_count": 241,
   "metadata": {},
   "outputs": [
    {
     "output_type": "stream",
     "name": "stdout",
     "text": [
      "[[4 8 7 8 3]\n [6 6 1 8 6]\n [6 3 2 8 5]\n [6 6 8 1 1]\n [5 4 8 5 3]]\n"
     ]
    }
   ],
   "source": [
    "print(a2) #binary가 아닌 텍스트로 저장하고 싶을때\n",
    "np.savetxt(\"a.csv\",a2,delimiter=',') #delimiter :구분자이다. "
   ]
  },
  {
   "cell_type": "code",
   "execution_count": 242,
   "metadata": {},
   "outputs": [
    {
     "output_type": "stream",
     "name": "stderr",
     "text": [
      "'ls'��(��) ���� �Ǵ� �ܺ� ����, ������ �� �ִ� ���α׷�, �Ǵ�\n��ġ ������ �ƴմϴ�.\n"
     ]
    }
   ],
   "source": [
    "!ls"
   ]
  },
  {
   "cell_type": "code",
   "execution_count": 244,
   "metadata": {},
   "outputs": [
    {
     "output_type": "error",
     "ename": "SyntaxError",
     "evalue": "invalid syntax (<ipython-input-244-1da49f54b8d8>, line 1)",
     "traceback": [
      "\u001b[1;36m  File \u001b[1;32m\"<ipython-input-244-1da49f54b8d8>\"\u001b[1;36m, line \u001b[1;32m1\u001b[0m\n\u001b[1;33m    cat a.csv\u001b[0m\n\u001b[1;37m        ^\u001b[0m\n\u001b[1;31mSyntaxError\u001b[0m\u001b[1;31m:\u001b[0m invalid syntax\n"
     ]
    }
   ],
   "source": [
    "!cat a.csv"
   ]
  },
  {
   "cell_type": "code",
   "execution_count": 245,
   "metadata": {},
   "outputs": [
    {
     "output_type": "stream",
     "name": "stdout",
     "text": [
      "[[4. 8. 7. 8. 3.]\n [6. 6. 1. 8. 6.]\n [6. 3. 2. 8. 5.]\n [6. 6. 8. 1. 1.]\n [5. 4. 8. 5. 3.]]\n"
     ]
    }
   ],
   "source": [
    "csv = np.loadtxt(\"a.csv\",delimiter = ',')\n",
    "print(csv)"
   ]
  },
  {
   "cell_type": "code",
   "execution_count": 246,
   "metadata": {},
   "outputs": [
    {
     "output_type": "stream",
     "name": "stdout",
     "text": [
      "[[2 9 7 6 8]\n [6 6 6 7 2]\n [1 8 1 1 7]\n [8 3 7 1 6]\n [7 2 3 5 3]]\n"
     ]
    }
   ],
   "source": [
    "print(b2)\n",
    "np.savetxt(\"b.csv\",b2,delimiter=',', fmt='%.2e',header='c1,c2,c3,c4,c5')\n",
    "#여러가지 포맷을 적용시킬 수 있다. "
   ]
  },
  {
   "cell_type": "code",
   "execution_count": 247,
   "metadata": {},
   "outputs": [
    {
     "output_type": "stream",
     "name": "stdout",
     "text": [
      "[[2. 9. 7. 6. 8.]\n [6. 6. 6. 7. 2.]\n [1. 8. 1. 1. 7.]\n [8. 3. 7. 1. 6.]\n [7. 2. 3. 5. 3.]]\n"
     ]
    }
   ],
   "source": [
    "csv = np.loadtxt(\"b.csv\",delimiter=',')\n",
    "print(csv)"
   ]
  },
  {
   "source": [
    "numpy.org의 documantation을 확인하면서 기능을 확인가능하다. "
   ],
   "cell_type": "markdown",
   "metadata": {}
  }
 ]
}