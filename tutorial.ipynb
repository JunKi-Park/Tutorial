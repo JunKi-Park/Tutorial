{
 "metadata": {
  "language_info": {
   "codemirror_mode": {
    "name": "ipython",
    "version": 3
   },
   "file_extension": ".py",
   "mimetype": "text/x-python",
   "name": "python",
   "nbconvert_exporter": "python",
   "pygments_lexer": "ipython3",
   "version": "3.7.3-final"
  },
  "orig_nbformat": 2,
  "kernelspec": {
   "name": "python3",
   "display_name": "Python 3",
   "language": "python"
  }
 },
 "nbformat": 4,
 "nbformat_minor": 2,
 "cells": [
  {
   "source": [
    "\n",
    "# pandas\n",
    "데이터를 처리하고 분석하는데에 활용  \n",
    "데이터 프레임의 개체 삽입, 삭제에 용이  \n",
    "group-by함수 제공  \n",
    "csv,엑셀등의 데이터 저장,로드  \n",
    "시계열 데이터를 잘 다루는 (날짜 범위 생성 및 주파수 변환), 날짜 이동 및 지연  \n"
   ],
   "cell_type": "markdown",
   "metadata": {}
  },
  {
   "cell_type": "code",
   "execution_count": 1,
   "metadata": {},
   "outputs": [
    {
     "data": {
      "text/plain": "'1.2.1'"
     },
     "execution_count": 1,
     "metadata": {},
     "output_type": "execute_result"
    }
   ],
   "source": [
    "import numpy as np\n",
    "import pandas as pd\n",
    "pd.__version__"
   ]
  },
  {
   "cell_type": "code",
   "execution_count": 2,
   "metadata": {},
   "outputs": [
    {
     "data": {
      "text/plain": "0    0.00\n1    0.25\n2    0.50\n3    0.75\n4    1.00\ndtype: float64"
     },
     "execution_count": 2,
     "metadata": {},
     "output_type": "execute_result"
    }
   ],
   "source": [
    "#객체 (series객체)\n",
    "\n",
    "s = pd.Series([0,0.25,0.5,0.75,1.0])\n",
    "s"
   ]
  },
  {
   "cell_type": "code",
   "execution_count": 3,
   "metadata": {},
   "outputs": [
    {
     "data": {
      "text/plain": "array([0.  , 0.25, 0.5 , 0.75, 1.  ])"
     },
     "execution_count": 3,
     "metadata": {},
     "output_type": "execute_result"
    }
   ],
   "source": [
    "s.values #값만 관찰"
   ]
  },
  {
   "cell_type": "code",
   "execution_count": 4,
   "metadata": {},
   "outputs": [
    {
     "output_type": "execute_result",
     "data": {
      "text/plain": [
       "RangeIndex(start=0, stop=5, step=1)"
      ]
     },
     "metadata": {},
     "execution_count": 4
    }
   ],
   "source": [
    "s.index #range index"
   ]
  },
  {
   "cell_type": "code",
   "execution_count": 5,
   "metadata": {},
   "outputs": [
    {
     "output_type": "execute_result",
     "data": {
      "text/plain": [
       "0.25"
      ]
     },
     "metadata": {},
     "execution_count": 5
    }
   ],
   "source": [
    "s[1] #개별 요소에 접근 가능"
   ]
  },
  {
   "cell_type": "code",
   "execution_count": 6,
   "metadata": {},
   "outputs": [
    {
     "output_type": "execute_result",
     "data": {
      "text/plain": [
       "1    0.25\n",
       "2    0.50\n",
       "3    0.75\n",
       "dtype: float64"
      ]
     },
     "metadata": {},
     "execution_count": 6
    }
   ],
   "source": [
    "s[1:4]"
   ]
  },
  {
   "cell_type": "code",
   "execution_count": 13,
   "metadata": {},
   "outputs": [
    {
     "ename": "NameError",
     "evalue": "name 'pd' is not defined",
     "output_type": "error",
     "traceback": [
      "\u001B[1;31m---------------------------------------------------------------------------\u001B[0m",
      "\u001B[1;31mNameError\u001B[0m                                 Traceback (most recent call last)",
      "\u001B[1;32m<ipython-input-13-2581ed8bbd6b>\u001B[0m in \u001B[0;36m<module>\u001B[1;34m\u001B[0m\n\u001B[1;32m----> 1\u001B[1;33m s = pd.Series([0,0.25,0.5,0.75,1.0],\n\u001B[0m\u001B[0;32m      2\u001B[0m                 index = ['a','b','c','d','e'])\n\u001B[0;32m      3\u001B[0m \u001B[0ms\u001B[0m \u001B[1;31m#인덱스가 변화한다.\u001B[0m\u001B[1;33m\u001B[0m\u001B[1;33m\u001B[0m\u001B[0m\n\u001B[0;32m      4\u001B[0m \u001B[1;33m\u001B[0m\u001B[0m\n",
      "\u001B[1;31mNameError\u001B[0m: name 'pd' is not defined"
     ]
    }
   ],
   "source": [
    "s = pd.Series([0,0.25,0.5,0.75,1.0],\n",
    "                index = ['a','b','c','d','e'])\n",
    "s #인덱스가 변화한다. "
   ]
  },
  {
   "cell_type": "code",
   "execution_count": 8,
   "metadata": {},
   "outputs": [
    {
     "output_type": "execute_result",
     "data": {
      "text/plain": [
       "0.5"
      ]
     },
     "metadata": {},
     "execution_count": 8
    }
   ],
   "source": [
    "s['c'] #c라는 인덱스로 접근 가능하다. "
   ]
  },
  {
   "cell_type": "code",
   "execution_count": 9,
   "metadata": {},
   "outputs": [
    {
     "output_type": "execute_result",
     "data": {
      "text/plain": [
       "c    0.50\n",
       "d    0.75\n",
       "e    1.00\n",
       "dtype: float64"
      ]
     },
     "metadata": {},
     "execution_count": 9
    }
   ],
   "source": [
    "s[['c','d','e']]"
   ]
  },
  {
   "cell_type": "code",
   "execution_count": 10,
   "metadata": {},
   "outputs": [
    {
     "output_type": "execute_result",
     "data": {
      "text/plain": [
       "True"
      ]
     },
     "metadata": {},
     "execution_count": 10
    }
   ],
   "source": [
    "'b' in s #인덱스의 유무도 확인 가능"
   ]
  },
  {
   "cell_type": "code",
   "execution_count": 11,
   "metadata": {},
   "outputs": [
    {
     "output_type": "execute_result",
     "data": {
      "text/plain": [
       "2     0.00\n",
       "4     0.25\n",
       "6     0.50\n",
       "8     0.75\n",
       "10    1.00\n",
       "dtype: float64"
      ]
     },
     "metadata": {},
     "execution_count": 11
    }
   ],
   "source": [
    "s = pd.Series([0,0.25,0.5,0.75,1.0],\n",
    "                index = [2,4,6,8,10])\n",
    "s"
   ]
  },
  {
   "cell_type": "code",
   "execution_count": 12,
   "metadata": {},
   "outputs": [
    {
     "output_type": "execute_result",
     "data": {
      "text/plain": [
       "0.25"
      ]
     },
     "metadata": {},
     "execution_count": 12
    }
   ],
   "source": [
    "s[4]"
   ]
  },
  {
   "cell_type": "code",
   "execution_count": 13,
   "metadata": {},
   "outputs": [
    {
     "output_type": "execute_result",
     "data": {
      "text/plain": [
       "6     0.50\n",
       "8     0.75\n",
       "10    1.00\n",
       "dtype: float64"
      ]
     },
     "metadata": {},
     "execution_count": 13
    }
   ],
   "source": [
    "s[2:]"
   ]
  },
  {
   "cell_type": "code",
   "execution_count": 14,
   "metadata": {},
   "outputs": [
    {
     "output_type": "execute_result",
     "data": {
      "text/plain": [
       "array([0.  , 0.25, 0.5 , 0.75, 1.  ])"
      ]
     },
     "metadata": {},
     "execution_count": 14
    }
   ],
   "source": [
    "s.unique()"
   ]
  },
  {
   "cell_type": "code",
   "execution_count": 15,
   "metadata": {},
   "outputs": [
    {
     "output_type": "execute_result",
     "data": {
      "text/plain": [
       "1.00    1\n",
       "0.75    1\n",
       "0.50    1\n",
       "0.25    1\n",
       "0.00    1\n",
       "dtype: int64"
      ]
     },
     "metadata": {},
     "execution_count": 15
    }
   ],
   "source": [
    "s.value_counts() #값이 각각 몇개있는지 카운트 가능"
   ]
  },
  {
   "cell_type": "code",
   "execution_count": 16,
   "metadata": {},
   "outputs": [
    {
     "output_type": "execute_result",
     "data": {
      "text/plain": [
       "2     False\n",
       "4      True\n",
       "6     False\n",
       "8      True\n",
       "10    False\n",
       "dtype: bool"
      ]
     },
     "metadata": {},
     "execution_count": 16
    }
   ],
   "source": [
    "s.isin([0.25,0.75]) #이 값이 어디 있는지를 확인할 수도 있다. "
   ]
  },
  {
   "cell_type": "code",
   "execution_count": 17,
   "metadata": {},
   "outputs": [
    {
     "output_type": "execute_result",
     "data": {
      "text/plain": [
       "서울특별시    9720846\n",
       "부산광역시    3404423\n",
       "인천광역시    2947217\n",
       "대구광역시    2427954\n",
       "대전광역시    1471040\n",
       "광주광역시    1455048\n",
       "dtype: int64"
      ]
     },
     "metadata": {},
     "execution_count": 17
    }
   ],
   "source": [
    "pop_tuple = {'서울특별시':9720846,\n",
    "            '부산광역시':3404423,\n",
    "            '인천광역시':2947217,\n",
    "            '대구광역시':2427954,\n",
    "            '대전광역시':1471040,\n",
    "            '광주광역시':1455048}\n",
    "population = pd.Series(pop_tuple)\n",
    "population"
   ]
  },
  {
   "cell_type": "code",
   "execution_count": 18,
   "metadata": {},
   "outputs": [
    {
     "output_type": "execute_result",
     "data": {
      "text/plain": [
       "9720846"
      ]
     },
     "metadata": {},
     "execution_count": 18
    }
   ],
   "source": [
    "population['서울특별시']"
   ]
  },
  {
   "source": [
    "population['서울특별시':'인천광역시'] #슬라이싱 가능"
   ],
   "cell_type": "code",
   "metadata": {},
   "execution_count": 19,
   "outputs": [
    {
     "output_type": "execute_result",
     "data": {
      "text/plain": [
       "서울특별시    9720846\n",
       "부산광역시    3404423\n",
       "인천광역시    2947217\n",
       "dtype: int64"
      ]
     },
     "metadata": {},
     "execution_count": 19
    }
   ]
  },
  {
   "cell_type": "code",
   "execution_count": 20,
   "metadata": {},
   "outputs": [
    {
     "output_type": "execute_result",
     "data": {
      "text/plain": [
       "   A  B    D    C\n",
       "0  2  4  3.0  NaN\n",
       "1  4  5  NaN  7.0"
      ],
      "text/html": "<div>\n<style scoped>\n    .dataframe tbody tr th:only-of-type {\n        vertical-align: middle;\n    }\n\n    .dataframe tbody tr th {\n        vertical-align: top;\n    }\n\n    .dataframe thead th {\n        text-align: right;\n    }\n</style>\n<table border=\"1\" class=\"dataframe\">\n  <thead>\n    <tr style=\"text-align: right;\">\n      <th></th>\n      <th>A</th>\n      <th>B</th>\n      <th>D</th>\n      <th>C</th>\n    </tr>\n  </thead>\n  <tbody>\n    <tr>\n      <th>0</th>\n      <td>2</td>\n      <td>4</td>\n      <td>3.0</td>\n      <td>NaN</td>\n    </tr>\n    <tr>\n      <th>1</th>\n      <td>4</td>\n      <td>5</td>\n      <td>NaN</td>\n      <td>7.0</td>\n    </tr>\n  </tbody>\n</table>\n</div>"
     },
     "metadata": {},
     "execution_count": 20
    }
   ],
   "source": [
    "#DataFrame 객체 (여러 컬럼이 들어간 이차원 특성을 가질 수 있다 )\n",
    "pd.DataFrame([{'A':2,'B':4,'D':3},{'A':4, 'B':5,'C':7}])#dictionary 자료형\n",
    "#missingvalue값을 알아서 포함시켜준다. (Not a number)"
   ]
  },
  {
   "cell_type": "code",
   "execution_count": 21,
   "metadata": {},
   "outputs": [
    {
     "output_type": "execute_result",
     "data": {
      "text/plain": [
       "          A         B         C         D         E\n",
       "1  0.536339  0.188850  0.315874  0.319906  0.698423\n",
       "2  0.188387  0.888141  0.744402  0.959397  0.236837\n",
       "3  0.869578  0.673209  0.536249  0.356601  0.107342\n",
       "4  0.386533  0.246720  0.151893  0.790216  0.024599\n",
       "5  0.416939  0.518585  0.025022  0.959348  0.922722"
      ],
      "text/html": "<div>\n<style scoped>\n    .dataframe tbody tr th:only-of-type {\n        vertical-align: middle;\n    }\n\n    .dataframe tbody tr th {\n        vertical-align: top;\n    }\n\n    .dataframe thead th {\n        text-align: right;\n    }\n</style>\n<table border=\"1\" class=\"dataframe\">\n  <thead>\n    <tr style=\"text-align: right;\">\n      <th></th>\n      <th>A</th>\n      <th>B</th>\n      <th>C</th>\n      <th>D</th>\n      <th>E</th>\n    </tr>\n  </thead>\n  <tbody>\n    <tr>\n      <th>1</th>\n      <td>0.536339</td>\n      <td>0.188850</td>\n      <td>0.315874</td>\n      <td>0.319906</td>\n      <td>0.698423</td>\n    </tr>\n    <tr>\n      <th>2</th>\n      <td>0.188387</td>\n      <td>0.888141</td>\n      <td>0.744402</td>\n      <td>0.959397</td>\n      <td>0.236837</td>\n    </tr>\n    <tr>\n      <th>3</th>\n      <td>0.869578</td>\n      <td>0.673209</td>\n      <td>0.536249</td>\n      <td>0.356601</td>\n      <td>0.107342</td>\n    </tr>\n    <tr>\n      <th>4</th>\n      <td>0.386533</td>\n      <td>0.246720</td>\n      <td>0.151893</td>\n      <td>0.790216</td>\n      <td>0.024599</td>\n    </tr>\n    <tr>\n      <th>5</th>\n      <td>0.416939</td>\n      <td>0.518585</td>\n      <td>0.025022</td>\n      <td>0.959348</td>\n      <td>0.922722</td>\n    </tr>\n  </tbody>\n</table>\n</div>"
     },
     "metadata": {},
     "execution_count": 21
    }
   ],
   "source": [
    "pd.DataFrame(np.random.rand(5,5),\n",
    "            columns=['A','B','C','D','E'],\n",
    "            index=[1,2,3,4,5])"
   ]
  },
  {
   "cell_type": "code",
   "execution_count": 22,
   "metadata": {},
   "outputs": [
    {
     "output_type": "execute_result",
     "data": {
      "text/plain": [
       "서울특별시    4732275\n",
       "부산광역시    1668618\n",
       "인천광역시    1476813\n",
       "대구광역시    1198815\n",
       "대전광역시     734441\n",
       "광주광역시     720060\n",
       "dtype: int64"
      ]
     },
     "metadata": {},
     "execution_count": 22
    }
   ],
   "source": [
    "male_tuple = {'서울특별시':4732275,\n",
    "            '부산광역시':1668618,\n",
    "            '인천광역시':1476813,\n",
    "            '대구광역시':1198815,\n",
    "            '대전광역시':734441,\n",
    "            '광주광역시':720060}\n",
    "male = pd.Series(male_tuple)\n",
    "male"
   ]
  },
  {
   "cell_type": "code",
   "execution_count": 23,
   "metadata": {},
   "outputs": [
    {
     "output_type": "execute_result",
     "data": {
      "text/plain": [
       "서울특별시    4988571\n",
       "부산광역시    1735805\n",
       "인천광역시    1470404\n",
       "대구광역시    1229139\n",
       "대전광역시     736599\n",
       "광주광역시     734988\n",
       "dtype: int64"
      ]
     },
     "metadata": {},
     "execution_count": 23
    }
   ],
   "source": [
    "female_tuple = {'서울특별시':4988571,\n",
    "            '부산광역시':1735805,\n",
    "            '인천광역시':1470404,\n",
    "            '대구광역시':1229139,\n",
    "            '대전광역시':736599,\n",
    "            '광주광역시':734988}\n",
    "female = pd.Series(female_tuple)\n",
    "female"
   ]
  },
  {
   "cell_type": "code",
   "execution_count": 24,
   "metadata": {},
   "outputs": [
    {
     "output_type": "execute_result",
     "data": {
      "text/plain": [
       "           인구수    남자인구수    여자인구수\n",
       "서울특별시  9720846  4732275  4988571\n",
       "부산광역시  3404423  1668618  1735805\n",
       "인천광역시  2947217  1476813  1470404\n",
       "대구광역시  2427954  1198815  1229139\n",
       "대전광역시  1471040   734441   736599\n",
       "광주광역시  1455048   720060   734988"
      ],
      "text/html": "<div>\n<style scoped>\n    .dataframe tbody tr th:only-of-type {\n        vertical-align: middle;\n    }\n\n    .dataframe tbody tr th {\n        vertical-align: top;\n    }\n\n    .dataframe thead th {\n        text-align: right;\n    }\n</style>\n<table border=\"1\" class=\"dataframe\">\n  <thead>\n    <tr style=\"text-align: right;\">\n      <th></th>\n      <th>인구수</th>\n      <th>남자인구수</th>\n      <th>여자인구수</th>\n    </tr>\n  </thead>\n  <tbody>\n    <tr>\n      <th>서울특별시</th>\n      <td>9720846</td>\n      <td>4732275</td>\n      <td>4988571</td>\n    </tr>\n    <tr>\n      <th>부산광역시</th>\n      <td>3404423</td>\n      <td>1668618</td>\n      <td>1735805</td>\n    </tr>\n    <tr>\n      <th>인천광역시</th>\n      <td>2947217</td>\n      <td>1476813</td>\n      <td>1470404</td>\n    </tr>\n    <tr>\n      <th>대구광역시</th>\n      <td>2427954</td>\n      <td>1198815</td>\n      <td>1229139</td>\n    </tr>\n    <tr>\n      <th>대전광역시</th>\n      <td>1471040</td>\n      <td>734441</td>\n      <td>736599</td>\n    </tr>\n    <tr>\n      <th>광주광역시</th>\n      <td>1455048</td>\n      <td>720060</td>\n      <td>734988</td>\n    </tr>\n  </tbody>\n</table>\n</div>"
     },
     "metadata": {},
     "execution_count": 24
    }
   ],
   "source": [
    "korea_df = pd.DataFrame({'인구수':population,\n",
    "                        '남자인구수':male,\n",
    "                        '여자인구수':female})\n",
    "korea_df"
   ]
  },
  {
   "cell_type": "code",
   "execution_count": 25,
   "metadata": {},
   "outputs": [
    {
     "output_type": "execute_result",
     "data": {
      "text/plain": [
       "   인구수  남자인구수  여자인구수\n",
       "0  NaN    NaN    NaN\n",
       "1  NaN    NaN    NaN\n",
       "2  NaN    NaN    NaN"
      ],
      "text/html": "<div>\n<style scoped>\n    .dataframe tbody tr th:only-of-type {\n        vertical-align: middle;\n    }\n\n    .dataframe tbody tr th {\n        vertical-align: top;\n    }\n\n    .dataframe thead th {\n        text-align: right;\n    }\n</style>\n<table border=\"1\" class=\"dataframe\">\n  <thead>\n    <tr style=\"text-align: right;\">\n      <th></th>\n      <th>인구수</th>\n      <th>남자인구수</th>\n      <th>여자인구수</th>\n    </tr>\n  </thead>\n  <tbody>\n    <tr>\n      <th>0</th>\n      <td>NaN</td>\n      <td>NaN</td>\n      <td>NaN</td>\n    </tr>\n    <tr>\n      <th>1</th>\n      <td>NaN</td>\n      <td>NaN</td>\n      <td>NaN</td>\n    </tr>\n    <tr>\n      <th>2</th>\n      <td>NaN</td>\n      <td>NaN</td>\n      <td>NaN</td>\n    </tr>\n  </tbody>\n</table>\n</div>"
     },
     "metadata": {},
     "execution_count": 25
    }
   ],
   "source": [
    "korea_df = pd.DataFrame([population,male,female],columns=['인구수','남자인구수','여자인구수'])\n",
    "korea_df"
   ]
  },
  {
   "cell_type": "code",
   "execution_count": 26,
   "metadata": {},
   "outputs": [
    {
     "output_type": "execute_result",
     "data": {
      "text/plain": [
       "RangeIndex(start=0, stop=3, step=1)"
      ]
     },
     "metadata": {},
     "execution_count": 26
    }
   ],
   "source": [
    "korea_df.index"
   ]
  },
  {
   "cell_type": "code",
   "execution_count": 27,
   "metadata": {},
   "outputs": [
    {
     "output_type": "execute_result",
     "data": {
      "text/plain": [
       "Index(['인구수', '남자인구수', '여자인구수'], dtype='object')"
      ]
     },
     "metadata": {},
     "execution_count": 27
    }
   ],
   "source": [
    "korea_df.columns"
   ]
  },
  {
   "cell_type": "code",
   "execution_count": 28,
   "metadata": {},
   "outputs": [
    {
     "output_type": "execute_result",
     "data": {
      "text/plain": [
       "0   NaN\n",
       "1   NaN\n",
       "2   NaN\n",
       "Name: 여자인구수, dtype: float64"
      ]
     },
     "metadata": {},
     "execution_count": 28
    }
   ],
   "source": [
    "korea_df['여자인구수']"
   ]
  },
  {
   "cell_type": "code",
   "execution_count": 32,
   "metadata": {},
   "outputs": [
    {
     "output_type": "execute_result",
     "data": {
      "text/plain": [
       "Int64Index([2, 4, 6, 8, 10], dtype='int64')"
      ]
     },
     "metadata": {},
     "execution_count": 32
    }
   ],
   "source": [
    "#index 객체, index를 다루는 여러가지 방법\n",
    "\n",
    "idx = pd.Index([2,4,6,8,10])\n",
    "idx"
   ]
  },
  {
   "cell_type": "code",
   "execution_count": 34,
   "metadata": {},
   "outputs": [
    {
     "output_type": "execute_result",
     "data": {
      "text/plain": [
       "4"
      ]
     },
     "metadata": {},
     "execution_count": 34
    }
   ],
   "source": [
    "idx[1]"
   ]
  },
  {
   "cell_type": "code",
   "execution_count": 36,
   "metadata": {},
   "outputs": [
    {
     "output_type": "execute_result",
     "data": {
      "text/plain": [
       "Int64Index([4], dtype='int64')"
      ]
     },
     "metadata": {},
     "execution_count": 36
    }
   ],
   "source": [
    "idx[1:2:2]"
   ]
  },
  {
   "cell_type": "code",
   "execution_count": 38,
   "metadata": {},
   "outputs": [
    {
     "output_type": "execute_result",
     "data": {
      "text/plain": [
       "Int64Index([10], dtype='int64')"
      ]
     },
     "metadata": {},
     "execution_count": 38
    }
   ],
   "source": [
    "idx[-1::]"
   ]
  },
  {
   "cell_type": "code",
   "execution_count": 40,
   "metadata": {},
   "outputs": [
    {
     "output_type": "execute_result",
     "data": {
      "text/plain": [
       "Int64Index([2, 6, 10], dtype='int64')"
      ]
     },
     "metadata": {},
     "execution_count": 40
    }
   ],
   "source": [
    "idx[::2]"
   ]
  },
  {
   "cell_type": "code",
   "execution_count": 42,
   "metadata": {},
   "outputs": [
    {
     "output_type": "stream",
     "name": "stdout",
     "text": [
      "Int64Index([2, 4, 6, 8, 10], dtype='int64')\n5\n(5,)\n1\nint64\n"
     ]
    }
   ],
   "source": [
    "print(idx)\n",
    "print(idx.size)\n",
    "print(idx.shape) #1차원 을 가지는 구나를 알 수 있다. \n",
    "print(idx.ndim)\n",
    "print(idx.dtype)"
   ]
  },
  {
   "cell_type": "code",
   "execution_count": 44,
   "metadata": {},
   "outputs": [
    {
     "output_type": "stream",
     "name": "stdout",
     "text": [
      "Int64Index([1, 2, 4, 6, 8], dtype='int64')\nInt64Index([2, 4, 5, 6, 7], dtype='int64')\nInt64Index([1, 2, 4, 6, 8, 2, 4, 5, 6, 7], dtype='int64')\nInt64Index([1, 8], dtype='int64')\nInt64Index([-1, -2, -1, 0, 1], dtype='int64')\nInt64Index([2, 4, 6], dtype='int64')\nInt64Index([2, 4, 6], dtype='int64')\nInt64Index([1, 2, 4, 5, 6, 7, 8], dtype='int64')\nInt64Index([1, 2, 4, 5, 6, 7, 8], dtype='int64')\nInt64Index([2, 4, 6, 8], dtype='int64')\nInt64Index([2, 4, 6, 8], dtype='int64')\nInt64Index([1, 5, 7, 8], dtype='int64')\n"
     ]
    }
   ],
   "source": [
    "#index 연산\n",
    "\n",
    "idx1 = pd.Index([1,2,4,6,8])\n",
    "idx2 = pd.Index([2,4,5,6,7])\n",
    "print(idx1)\n",
    "print(idx2)\n",
    "print(idx1.append(idx2))\n",
    "print(idx1.difference(idx2))\n",
    "print(idx1 - idx2) #실제 값들을 뺀 결괏값을 보여주므로 difference함수와는 다르다. \n",
    "print(idx1.intersection(idx2)) #교집합\n",
    "print(idx1 & idx2)\n",
    "print(idx1.union(idx2)) #중복값 제외 병합\n",
    "print(idx1 | idx2) #합집합\n",
    "print(idx1.delete(0)) #첫번째 인덱스 제거\n",
    "print(idx1.drop(1)) #요소값을 받아서 제거\n",
    "print(idx1 ^ idx2) #여집합\n"
   ]
  },
  {
   "cell_type": "code",
   "execution_count": 46,
   "metadata": {},
   "outputs": [
    {
     "output_type": "execute_result",
     "data": {
      "text/plain": [
       "a    0.00\n",
       "b    0.25\n",
       "c    0.50\n",
       "d    0.75\n",
       "e    1.00\n",
       "dtype: float64"
      ]
     },
     "metadata": {},
     "execution_count": 46
    }
   ],
   "source": [
    "#인덱싱\n",
    "s = pd.Series([0,0.25,0.5,0.75,1.0],\n",
    "                index=['a','b','c','d','e'])\n",
    "s"
   ]
  },
  {
   "cell_type": "code",
   "execution_count": 48,
   "metadata": {},
   "outputs": [
    {
     "output_type": "execute_result",
     "data": {
      "text/plain": [
       "0.25"
      ]
     },
     "metadata": {},
     "execution_count": 48
    }
   ],
   "source": [
    "s['b']"
   ]
  },
  {
   "cell_type": "code",
   "execution_count": 50,
   "metadata": {},
   "outputs": [
    {
     "output_type": "execute_result",
     "data": {
      "text/plain": [
       "True"
      ]
     },
     "metadata": {},
     "execution_count": 50
    }
   ],
   "source": [
    "'b' in s"
   ]
  },
  {
   "cell_type": "code",
   "execution_count": 52,
   "metadata": {},
   "outputs": [
    {
     "output_type": "execute_result",
     "data": {
      "text/plain": [
       "Index(['a', 'b', 'c', 'd', 'e'], dtype='object')"
      ]
     },
     "metadata": {},
     "execution_count": 52
    }
   ],
   "source": [
    "s.keys() #인덱스 값 알려줌"
   ]
  },
  {
   "cell_type": "code",
   "execution_count": 54,
   "metadata": {},
   "outputs": [
    {
     "output_type": "execute_result",
     "data": {
      "text/plain": [
       "[('a', 0.0), ('b', 0.25), ('c', 0.5), ('d', 0.75), ('e', 1.0), ('f', 1.25)]"
      ]
     },
     "metadata": {},
     "execution_count": 54
    }
   ],
   "source": [
    "list(s.items())"
   ]
  },
  {
   "cell_type": "code",
   "execution_count": 56,
   "metadata": {},
   "outputs": [
    {
     "output_type": "execute_result",
     "data": {
      "text/plain": [
       "a    0.00\n",
       "b    0.25\n",
       "c    0.50\n",
       "d    0.75\n",
       "e    1.00\n",
       "f    1.25\n",
       "dtype: float64"
      ]
     },
     "metadata": {},
     "execution_count": 56
    }
   ],
   "source": [
    "s['f'] = 1.25 #추가할 인덱스를 지정해주면 값이 추가된다. \n",
    "s"
   ]
  },
  {
   "cell_type": "code",
   "execution_count": 58,
   "metadata": {},
   "outputs": [
    {
     "output_type": "execute_result",
     "data": {
      "text/plain": [
       "a    0.00\n",
       "b    0.25\n",
       "c    0.50\n",
       "d    0.75\n",
       "dtype: float64"
      ]
     },
     "metadata": {},
     "execution_count": 58
    }
   ],
   "source": [
    "s['a' : 'd'] #슬라이싱"
   ]
  },
  {
   "cell_type": "code",
   "execution_count": 60,
   "metadata": {},
   "outputs": [
    {
     "output_type": "execute_result",
     "data": {
      "text/plain": [
       "a    0.00\n",
       "b    0.25\n",
       "c    0.50\n",
       "d    0.75\n",
       "dtype: float64"
      ]
     },
     "metadata": {},
     "execution_count": 60
    }
   ],
   "source": [
    "s[0:4] #숫자로도 동일한 결과 출력 가능"
   ]
  },
  {
   "cell_type": "code",
   "execution_count": 62,
   "metadata": {},
   "outputs": [
    {
     "output_type": "execute_result",
     "data": {
      "text/plain": [
       "c    0.50\n",
       "d    0.75\n",
       "dtype: float64"
      ]
     },
     "metadata": {},
     "execution_count": 62
    }
   ],
   "source": [
    "s[ (s>0.4) & (s<0.8)] #조건을 주고 해당하는 것만 출력할 수도 있다. "
   ]
  },
  {
   "cell_type": "code",
   "execution_count": 91,
   "metadata": {},
   "outputs": [
    {
     "output_type": "execute_result",
     "data": {
      "text/plain": [
       "1    a\n",
       "3    b\n",
       "5    c\n",
       "7    d\n",
       "9    e\n",
       "dtype: object"
      ]
     },
     "metadata": {},
     "execution_count": 91
    }
   ],
   "source": [
    "#Series 인덱싱\n",
    "\n",
    "s = pd.Series(['a','b','c','d','e'],\n",
    "                index=[1,3,5,7,9])\n",
    "s"
   ]
  },
  {
   "cell_type": "code",
   "execution_count": 92,
   "metadata": {},
   "outputs": [
    {
     "output_type": "execute_result",
     "data": {
      "text/plain": [
       "'a'"
      ]
     },
     "metadata": {},
     "execution_count": 92
    }
   ],
   "source": [
    "s[1] #내가 지정한 인덱스를 쓰는 방식으로 호출"
   ]
  },
  {
   "cell_type": "code",
   "execution_count": 93,
   "metadata": {},
   "outputs": [
    {
     "output_type": "execute_result",
     "data": {
      "text/plain": [
       "5    c\n",
       "7    d\n",
       "dtype: object"
      ]
     },
     "metadata": {},
     "execution_count": 93
    }
   ],
   "source": [
    "s[2:4]"
   ]
  },
  {
   "cell_type": "code",
   "execution_count": 94,
   "metadata": {},
   "outputs": [
    {
     "output_type": "execute_result",
     "data": {
      "text/plain": [
       "'b'"
      ]
     },
     "metadata": {},
     "execution_count": 94
    }
   ],
   "source": [
    "s.iloc[1] #0부터 시작해서 내가 인덱스의 순서대로 번호가 부여된다. "
   ]
  },
  {
   "cell_type": "code",
   "execution_count": 95,
   "metadata": {},
   "outputs": [
    {
     "output_type": "execute_result",
     "data": {
      "text/plain": [
       "5    c\n",
       "7    d\n",
       "dtype: object"
      ]
     },
     "metadata": {},
     "execution_count": 95
    }
   ],
   "source": [
    "s.iloc[2:4]"
   ]
  },
  {
   "cell_type": "code",
   "execution_count": 96,
   "metadata": {},
   "outputs": [
    {
     "output_type": "execute_result",
     "data": {
      "text/plain": [
       "0    NaN\n",
       "1      a\n",
       "2    NaN\n",
       "3      b\n",
       "4    NaN\n",
       "5      c\n",
       "6    NaN\n",
       "7      d\n",
       "8    NaN\n",
       "9      e\n",
       "dtype: object"
      ]
     },
     "metadata": {},
     "execution_count": 96
    }
   ],
   "source": [
    "s.reindex(range(10)) #새로운 인덱스로 구축을 해버렸다. "
   ]
  },
  {
   "cell_type": "code",
   "execution_count": 97,
   "metadata": {},
   "outputs": [
    {
     "output_type": "execute_result",
     "data": {
      "text/plain": [
       "0    a\n",
       "1    a\n",
       "2    b\n",
       "3    b\n",
       "4    c\n",
       "5    c\n",
       "6    d\n",
       "7    d\n",
       "8    e\n",
       "9    e\n",
       "dtype: object"
      ]
     },
     "metadata": {},
     "execution_count": 97
    }
   ],
   "source": [
    "s.reindex(range(10),method='bfill')\n",
    "#전에 있는 값으로 채워줘라는 method (backfill)"
   ]
  },
  {
   "cell_type": "code",
   "execution_count": 98,
   "metadata": {},
   "outputs": [
    {
     "output_type": "execute_result",
     "data": {
      "text/plain": [
       "   인구수  남자인구수  여자인구수  남녀비율\n",
       "0  NaN    NaN    NaN   NaN\n",
       "1  NaN    NaN    NaN   NaN\n",
       "2  NaN    NaN    NaN   NaN"
      ],
      "text/html": "<div>\n<style scoped>\n    .dataframe tbody tr th:only-of-type {\n        vertical-align: middle;\n    }\n\n    .dataframe tbody tr th {\n        vertical-align: top;\n    }\n\n    .dataframe thead th {\n        text-align: right;\n    }\n</style>\n<table border=\"1\" class=\"dataframe\">\n  <thead>\n    <tr style=\"text-align: right;\">\n      <th></th>\n      <th>인구수</th>\n      <th>남자인구수</th>\n      <th>여자인구수</th>\n      <th>남녀비율</th>\n    </tr>\n  </thead>\n  <tbody>\n    <tr>\n      <th>0</th>\n      <td>NaN</td>\n      <td>NaN</td>\n      <td>NaN</td>\n      <td>NaN</td>\n    </tr>\n    <tr>\n      <th>1</th>\n      <td>NaN</td>\n      <td>NaN</td>\n      <td>NaN</td>\n      <td>NaN</td>\n    </tr>\n    <tr>\n      <th>2</th>\n      <td>NaN</td>\n      <td>NaN</td>\n      <td>NaN</td>\n      <td>NaN</td>\n    </tr>\n  </tbody>\n</table>\n</div>"
     },
     "metadata": {},
     "execution_count": 98
    }
   ],
   "source": [
    "#DataFrame 인덱싱 컬럼선택, at, iloc, etc...\n",
    "\n",
    "korea_df"
   ]
  },
  {
   "cell_type": "code",
   "execution_count": 99,
   "metadata": {},
   "outputs": [
    {
     "output_type": "execute_result",
     "data": {
      "text/plain": [
       "0   NaN\n",
       "1   NaN\n",
       "2   NaN\n",
       "Name: 남자인구수, dtype: float64"
      ]
     },
     "metadata": {},
     "execution_count": 99
    }
   ],
   "source": [
    "korea_df['남자인구수']"
   ]
  },
  {
   "cell_type": "code",
   "execution_count": 100,
   "metadata": {},
   "outputs": [
    {
     "output_type": "execute_result",
     "data": {
      "text/plain": [
       "0   NaN\n",
       "1   NaN\n",
       "2   NaN\n",
       "Name: 남자인구수, dtype: float64"
      ]
     },
     "metadata": {},
     "execution_count": 100
    }
   ],
   "source": [
    "korea_df.남자인구수 #이런식으로도 columns에 접근할 수 있다. "
   ]
  },
  {
   "cell_type": "code",
   "execution_count": 101,
   "metadata": {},
   "outputs": [
    {
     "output_type": "execute_result",
     "data": {
      "text/plain": [
       "0   NaN\n",
       "1   NaN\n",
       "2   NaN\n",
       "Name: 여자인구수, dtype: float64"
      ]
     },
     "metadata": {},
     "execution_count": 101
    }
   ],
   "source": [
    "korea_df.여자인구수"
   ]
  },
  {
   "cell_type": "code",
   "execution_count": 102,
   "metadata": {},
   "outputs": [],
   "source": [
    "korea_df['남녀비율'] = ((korea_df.남자인구수)*100)/korea_df.여자인구수\n",
    "#새로운 columns추가했다. "
   ]
  },
  {
   "cell_type": "code",
   "execution_count": 103,
   "metadata": {},
   "outputs": [
    {
     "output_type": "execute_result",
     "data": {
      "text/plain": [
       "   인구수  남자인구수  여자인구수  남녀비율\n",
       "0  NaN    NaN    NaN   NaN\n",
       "1  NaN    NaN    NaN   NaN\n",
       "2  NaN    NaN    NaN   NaN"
      ],
      "text/html": "<div>\n<style scoped>\n    .dataframe tbody tr th:only-of-type {\n        vertical-align: middle;\n    }\n\n    .dataframe tbody tr th {\n        vertical-align: top;\n    }\n\n    .dataframe thead th {\n        text-align: right;\n    }\n</style>\n<table border=\"1\" class=\"dataframe\">\n  <thead>\n    <tr style=\"text-align: right;\">\n      <th></th>\n      <th>인구수</th>\n      <th>남자인구수</th>\n      <th>여자인구수</th>\n      <th>남녀비율</th>\n    </tr>\n  </thead>\n  <tbody>\n    <tr>\n      <th>0</th>\n      <td>NaN</td>\n      <td>NaN</td>\n      <td>NaN</td>\n      <td>NaN</td>\n    </tr>\n    <tr>\n      <th>1</th>\n      <td>NaN</td>\n      <td>NaN</td>\n      <td>NaN</td>\n      <td>NaN</td>\n    </tr>\n    <tr>\n      <th>2</th>\n      <td>NaN</td>\n      <td>NaN</td>\n      <td>NaN</td>\n      <td>NaN</td>\n    </tr>\n  </tbody>\n</table>\n</div>"
     },
     "metadata": {},
     "execution_count": 103
    }
   ],
   "source": [
    "korea_df"
   ]
  },
  {
   "cell_type": "code",
   "execution_count": 104,
   "metadata": {},
   "outputs": [
    {
     "output_type": "execute_result",
     "data": {
      "text/plain": [
       "array([[nan, nan, nan, nan],\n",
       "       [nan, nan, nan, nan],\n",
       "       [nan, nan, nan, nan]])"
      ]
     },
     "metadata": {},
     "execution_count": 104
    }
   ],
   "source": [
    "korea_df.values #값들만 배열형태로 나타낼 수도 있다. "
   ]
  },
  {
   "cell_type": "code",
   "execution_count": 105,
   "metadata": {},
   "outputs": [
    {
     "output_type": "execute_result",
     "data": {
      "text/plain": [
       "        0   1   2\n",
       "인구수   NaN NaN NaN\n",
       "남자인구수 NaN NaN NaN\n",
       "여자인구수 NaN NaN NaN\n",
       "남녀비율  NaN NaN NaN"
      ],
      "text/html": "<div>\n<style scoped>\n    .dataframe tbody tr th:only-of-type {\n        vertical-align: middle;\n    }\n\n    .dataframe tbody tr th {\n        vertical-align: top;\n    }\n\n    .dataframe thead th {\n        text-align: right;\n    }\n</style>\n<table border=\"1\" class=\"dataframe\">\n  <thead>\n    <tr style=\"text-align: right;\">\n      <th></th>\n      <th>0</th>\n      <th>1</th>\n      <th>2</th>\n    </tr>\n  </thead>\n  <tbody>\n    <tr>\n      <th>인구수</th>\n      <td>NaN</td>\n      <td>NaN</td>\n      <td>NaN</td>\n    </tr>\n    <tr>\n      <th>남자인구수</th>\n      <td>NaN</td>\n      <td>NaN</td>\n      <td>NaN</td>\n    </tr>\n    <tr>\n      <th>여자인구수</th>\n      <td>NaN</td>\n      <td>NaN</td>\n      <td>NaN</td>\n    </tr>\n    <tr>\n      <th>남녀비율</th>\n      <td>NaN</td>\n      <td>NaN</td>\n      <td>NaN</td>\n    </tr>\n  </tbody>\n</table>\n</div>"
     },
     "metadata": {},
     "execution_count": 105
    }
   ],
   "source": [
    "korea_df.T #전치행렬"
   ]
  },
  {
   "cell_type": "code",
   "execution_count": 106,
   "metadata": {},
   "outputs": [
    {
     "output_type": "execute_result",
     "data": {
      "text/plain": [
       "array([nan, nan, nan, nan])"
      ]
     },
     "metadata": {},
     "execution_count": 106
    }
   ],
   "source": [
    "korea_df.values[0]"
   ]
  },
  {
   "cell_type": "code",
   "execution_count": 107,
   "metadata": {},
   "outputs": [
    {
     "output_type": "execute_result",
     "data": {
      "text/plain": [
       "0   NaN\n",
       "1   NaN\n",
       "2   NaN\n",
       "Name: 인구수, dtype: float64"
      ]
     },
     "metadata": {},
     "execution_count": 107
    }
   ],
   "source": [
    "korea_df['인구수']"
   ]
  },
  {
   "cell_type": "code",
   "execution_count": 108,
   "metadata": {},
   "outputs": [
    {
     "output_type": "execute_result",
     "data": {
      "text/plain": [
       "   인구수  남자인구수\n",
       "0  NaN    NaN\n",
       "1  NaN    NaN\n",
       "2  NaN    NaN"
      ],
      "text/html": "<div>\n<style scoped>\n    .dataframe tbody tr th:only-of-type {\n        vertical-align: middle;\n    }\n\n    .dataframe tbody tr th {\n        vertical-align: top;\n    }\n\n    .dataframe thead th {\n        text-align: right;\n    }\n</style>\n<table border=\"1\" class=\"dataframe\">\n  <thead>\n    <tr style=\"text-align: right;\">\n      <th></th>\n      <th>인구수</th>\n      <th>남자인구수</th>\n    </tr>\n  </thead>\n  <tbody>\n    <tr>\n      <th>0</th>\n      <td>NaN</td>\n      <td>NaN</td>\n    </tr>\n    <tr>\n      <th>1</th>\n      <td>NaN</td>\n      <td>NaN</td>\n    </tr>\n    <tr>\n      <th>2</th>\n      <td>NaN</td>\n      <td>NaN</td>\n    </tr>\n  </tbody>\n</table>\n</div>"
     },
     "metadata": {},
     "execution_count": 108
    }
   ],
   "source": [
    "korea_df.loc[:'인천광역시',:'남자인구수']\n",
    "#행과열을 각각 따로 슬라이싱할 수 있다. "
   ]
  },
  {
   "cell_type": "code",
   "execution_count": 109,
   "metadata": {},
   "outputs": [
    {
     "output_type": "execute_result",
     "data": {
      "text/plain": [
       "Empty DataFrame\n",
       "Columns: [인구수, 남자인구수, 여자인구수, 남녀비율]\n",
       "Index: []"
      ],
      "text/html": "<div>\n<style scoped>\n    .dataframe tbody tr th:only-of-type {\n        vertical-align: middle;\n    }\n\n    .dataframe tbody tr th {\n        vertical-align: top;\n    }\n\n    .dataframe thead th {\n        text-align: right;\n    }\n</style>\n<table border=\"1\" class=\"dataframe\">\n  <thead>\n    <tr style=\"text-align: right;\">\n      <th></th>\n      <th>인구수</th>\n      <th>남자인구수</th>\n      <th>여자인구수</th>\n      <th>남녀비율</th>\n    </tr>\n  </thead>\n  <tbody>\n  </tbody>\n</table>\n</div>"
     },
     "metadata": {},
     "execution_count": 109
    }
   ],
   "source": [
    "korea_df.loc[(korea_df.여자인구수)>1000000]\n",
    " #조건에 해당하는 값들만 출력"
   ]
  },
  {
   "cell_type": "code",
   "execution_count": 110,
   "metadata": {},
   "outputs": [
    {
     "output_type": "execute_result",
     "data": {
      "text/plain": [
       "Empty DataFrame\n",
       "Columns: [인구수, 남자인구수, 여자인구수, 남녀비율]\n",
       "Index: []"
      ],
      "text/html": "<div>\n<style scoped>\n    .dataframe tbody tr th:only-of-type {\n        vertical-align: middle;\n    }\n\n    .dataframe tbody tr th {\n        vertical-align: top;\n    }\n\n    .dataframe thead th {\n        text-align: right;\n    }\n</style>\n<table border=\"1\" class=\"dataframe\">\n  <thead>\n    <tr style=\"text-align: right;\">\n      <th></th>\n      <th>인구수</th>\n      <th>남자인구수</th>\n      <th>여자인구수</th>\n      <th>남녀비율</th>\n    </tr>\n  </thead>\n  <tbody>\n  </tbody>\n</table>\n</div>"
     },
     "metadata": {},
     "execution_count": 110
    }
   ],
   "source": [
    "korea_df.loc[(korea_df.인구수)<2000000]"
   ]
  },
  {
   "cell_type": "code",
   "execution_count": 111,
   "metadata": {},
   "outputs": [
    {
     "output_type": "execute_result",
     "data": {
      "text/plain": [
       "Empty DataFrame\n",
       "Columns: [인구수, 남자인구수, 여자인구수, 남녀비율]\n",
       "Index: []"
      ],
      "text/html": "<div>\n<style scoped>\n    .dataframe tbody tr th:only-of-type {\n        vertical-align: middle;\n    }\n\n    .dataframe tbody tr th {\n        vertical-align: top;\n    }\n\n    .dataframe thead th {\n        text-align: right;\n    }\n</style>\n<table border=\"1\" class=\"dataframe\">\n  <thead>\n    <tr style=\"text-align: right;\">\n      <th></th>\n      <th>인구수</th>\n      <th>남자인구수</th>\n      <th>여자인구수</th>\n      <th>남녀비율</th>\n    </tr>\n  </thead>\n  <tbody>\n  </tbody>\n</table>\n</div>"
     },
     "metadata": {},
     "execution_count": 111
    }
   ],
   "source": [
    "korea_df.loc[(korea_df.인구수)>2500000]"
   ]
  },
  {
   "cell_type": "code",
   "execution_count": 112,
   "metadata": {},
   "outputs": [
    {
     "output_type": "execute_result",
     "data": {
      "text/plain": [
       "Empty DataFrame\n",
       "Columns: [인구수, 남자인구수, 여자인구수, 남녀비율]\n",
       "Index: []"
      ],
      "text/html": "<div>\n<style scoped>\n    .dataframe tbody tr th:only-of-type {\n        vertical-align: middle;\n    }\n\n    .dataframe tbody tr th {\n        vertical-align: top;\n    }\n\n    .dataframe thead th {\n        text-align: right;\n    }\n</style>\n<table border=\"1\" class=\"dataframe\">\n  <thead>\n    <tr style=\"text-align: right;\">\n      <th></th>\n      <th>인구수</th>\n      <th>남자인구수</th>\n      <th>여자인구수</th>\n      <th>남녀비율</th>\n    </tr>\n  </thead>\n  <tbody>\n  </tbody>\n</table>\n</div>"
     },
     "metadata": {},
     "execution_count": 112
    }
   ],
   "source": [
    "korea_df.loc[korea_df.남녀비율 > 100]"
   ]
  },
  {
   "cell_type": "code",
   "execution_count": 113,
   "metadata": {},
   "outputs": [
    {
     "output_type": "execute_result",
     "data": {
      "text/plain": [
       "Empty DataFrame\n",
       "Columns: [인구수, 남자인구수, 여자인구수, 남녀비율]\n",
       "Index: []"
      ],
      "text/html": "<div>\n<style scoped>\n    .dataframe tbody tr th:only-of-type {\n        vertical-align: middle;\n    }\n\n    .dataframe tbody tr th {\n        vertical-align: top;\n    }\n\n    .dataframe thead th {\n        text-align: right;\n    }\n</style>\n<table border=\"1\" class=\"dataframe\">\n  <thead>\n    <tr style=\"text-align: right;\">\n      <th></th>\n      <th>인구수</th>\n      <th>남자인구수</th>\n      <th>여자인구수</th>\n      <th>남녀비율</th>\n    </tr>\n  </thead>\n  <tbody>\n  </tbody>\n</table>\n</div>"
     },
     "metadata": {},
     "execution_count": 113
    }
   ],
   "source": [
    "korea_df.loc[(korea_df.인구수>2500000) & (korea_df.남녀비율>100)]"
   ]
  },
  {
   "cell_type": "code",
   "execution_count": 114,
   "metadata": {},
   "outputs": [
    {
     "output_type": "execute_result",
     "data": {
      "text/plain": [
       "   인구수  남자인구수\n",
       "0  NaN    NaN\n",
       "1  NaN    NaN\n",
       "2  NaN    NaN"
      ],
      "text/html": "<div>\n<style scoped>\n    .dataframe tbody tr th:only-of-type {\n        vertical-align: middle;\n    }\n\n    .dataframe tbody tr th {\n        vertical-align: top;\n    }\n\n    .dataframe thead th {\n        text-align: right;\n    }\n</style>\n<table border=\"1\" class=\"dataframe\">\n  <thead>\n    <tr style=\"text-align: right;\">\n      <th></th>\n      <th>인구수</th>\n      <th>남자인구수</th>\n    </tr>\n  </thead>\n  <tbody>\n    <tr>\n      <th>0</th>\n      <td>NaN</td>\n      <td>NaN</td>\n    </tr>\n    <tr>\n      <th>1</th>\n      <td>NaN</td>\n      <td>NaN</td>\n    </tr>\n    <tr>\n      <th>2</th>\n      <td>NaN</td>\n      <td>NaN</td>\n    </tr>\n  </tbody>\n</table>\n</div>"
     },
     "metadata": {},
     "execution_count": 114
    }
   ],
   "source": [
    "korea_df.iloc[:3,:2]\n",
    "#정수 색인을 사용하는 방식 integer location"
   ]
  },
  {
   "cell_type": "code",
   "execution_count": 115,
   "metadata": {},
   "outputs": [
    {
     "output_type": "execute_result",
     "data": {
      "text/plain": [
       "   인구수  남자인구수  여자인구수  남녀비율\n",
       "0  NaN    NaN    NaN   NaN\n",
       "1  NaN    NaN    NaN   NaN\n",
       "2  NaN    NaN    NaN   NaN"
      ],
      "text/html": "<div>\n<style scoped>\n    .dataframe tbody tr th:only-of-type {\n        vertical-align: middle;\n    }\n\n    .dataframe tbody tr th {\n        vertical-align: top;\n    }\n\n    .dataframe thead th {\n        text-align: right;\n    }\n</style>\n<table border=\"1\" class=\"dataframe\">\n  <thead>\n    <tr style=\"text-align: right;\">\n      <th></th>\n      <th>인구수</th>\n      <th>남자인구수</th>\n      <th>여자인구수</th>\n      <th>남녀비율</th>\n    </tr>\n  </thead>\n  <tbody>\n    <tr>\n      <th>0</th>\n      <td>NaN</td>\n      <td>NaN</td>\n      <td>NaN</td>\n      <td>NaN</td>\n    </tr>\n    <tr>\n      <th>1</th>\n      <td>NaN</td>\n      <td>NaN</td>\n      <td>NaN</td>\n      <td>NaN</td>\n    </tr>\n    <tr>\n      <th>2</th>\n      <td>NaN</td>\n      <td>NaN</td>\n      <td>NaN</td>\n      <td>NaN</td>\n    </tr>\n  </tbody>\n</table>\n</div>"
     },
     "metadata": {},
     "execution_count": 115
    }
   ],
   "source": [
    "#다중 인덱싱 3차원 4차원 이상의 고차원 데이터 처리\n",
    "#단일 인덱스 내에 여러 인덱스를 포함하는 다중 인덱싱\n",
    "\n",
    "korea_df"
   ]
  },
  {
   "cell_type": "code",
   "execution_count": 116,
   "metadata": {},
   "outputs": [
    {
     "output_type": "execute_result",
     "data": {
      "text/plain": [
       "[('서울특별시', 2010),\n",
       " ('서울특별시', 2020),\n",
       " ('부산광역시', 2010),\n",
       " ('부산광역시', 2020),\n",
       " ('인천광역시', 2010),\n",
       " ('인천광역시', 2020),\n",
       " ('대구광역시', 2010),\n",
       " ('대구광역시', 2020),\n",
       " ('대전광역시', 2010),\n",
       " ('대전광역시', 2020),\n",
       " ('광주광역시', 2010),\n",
       " ('광주광역시', 2020)]"
      ]
     },
     "metadata": {},
     "execution_count": 116
    }
   ],
   "source": [
    "idx_tuples = [('서울특별시',2010),('서울특별시',2020),\n",
    "                ('부산광역시',2010),('부산광역시',2020),\n",
    "                ('인천광역시',2010),('인천광역시',2020),\n",
    "                ('대구광역시',2010),('대구광역시',2020),\n",
    "                ('대전광역시',2010),('대전광역시',2020),\n",
    "                ('광주광역시',2010),('광주광역시',2020),]\n",
    "idx_tuples"
   ]
  },
  {
   "cell_type": "code",
   "execution_count": 118,
   "metadata": {},
   "outputs": [
    {
     "output_type": "execute_result",
     "data": {
      "text/plain": [
       "MultiIndex([('서울특별시', 2010),\n",
       "            ('서울특별시', 2020),\n",
       "            ('부산광역시', 2010),\n",
       "            ('부산광역시', 2020),\n",
       "            ('인천광역시', 2010),\n",
       "            ('인천광역시', 2020),\n",
       "            ('대구광역시', 2010),\n",
       "            ('대구광역시', 2020),\n",
       "            ('대전광역시', 2010),\n",
       "            ('대전광역시', 2020),\n",
       "            ('광주광역시', 2010),\n",
       "            ('광주광역시', 2020)],\n",
       "           )"
      ]
     },
     "metadata": {},
     "execution_count": 118
    }
   ],
   "source": [
    "midx = pd.MultiIndex.from_tuples(idx_tuples)\n",
    "midx"
   ]
  },
  {
   "cell_type": "code",
   "execution_count": 119,
   "metadata": {},
   "outputs": [
    {
     "output_type": "execute_result",
     "data": {
      "text/plain": [
       "서울특별시  2010    10312545\n",
       "       2020     9720846\n",
       "부산광역시  2010     3567910\n",
       "       2020     3404423\n",
       "인천광역시  2010     2758296\n",
       "       2020     2947217\n",
       "대구광역시  2010     2511676\n",
       "       2020     2427954\n",
       "대전광역시  2010     1503664\n",
       "       2020     1471040\n",
       "광주광역시  2010     1454636\n",
       "       2020     1455048\n",
       "dtype: int64"
      ]
     },
     "metadata": {},
     "execution_count": 119
    }
   ],
   "source": [
    "pop_tuples = [10312545,9720846,\n",
    "            3567910,3404423,\n",
    "            2758296,2947217,\n",
    "            2511676,2427954,\n",
    "            1503664,1471040,\n",
    "            1454636,1455048 ]\n",
    "population = pd.Series(pop_tuples, index=midx)\n",
    "population"
   ]
  },
  {
   "cell_type": "code",
   "execution_count": 120,
   "metadata": {},
   "outputs": [
    {
     "output_type": "execute_result",
     "data": {
      "text/plain": [
       "서울특별시  2010    10312545\n",
       "       2020     9720846\n",
       "부산광역시  2010     3567910\n",
       "       2020     3404423\n",
       "인천광역시  2010     2758296\n",
       "       2020     2947217\n",
       "대구광역시  2010     2511676\n",
       "       2020     2427954\n",
       "대전광역시  2010     1503664\n",
       "       2020     1471040\n",
       "광주광역시  2010     1454636\n",
       "       2020     1455048\n",
       "dtype: int64"
      ]
     },
     "metadata": {},
     "execution_count": 120
    }
   ],
   "source": [
    "population = population.reindex(midx)\n",
    "population\n",
    "#멀티인덱싱을 한 후에 구분을 시켜줄 수 있다. "
   ]
  },
  {
   "cell_type": "code",
   "execution_count": 121,
   "metadata": {},
   "outputs": [
    {
     "output_type": "execute_result",
     "data": {
      "text/plain": [
       "서울특별시    10312545\n",
       "부산광역시     3567910\n",
       "인천광역시     2758296\n",
       "대구광역시     2511676\n",
       "대전광역시     1503664\n",
       "광주광역시     1454636\n",
       "dtype: int64"
      ]
     },
     "metadata": {},
     "execution_count": 121
    }
   ],
   "source": [
    "population[:,2010] #2010년도 것만 보여줘라는 의미이다. "
   ]
  },
  {
   "cell_type": "code",
   "execution_count": 122,
   "metadata": {},
   "outputs": [
    {
     "output_type": "execute_result",
     "data": {
      "text/plain": [
       "2010    1503664\n",
       "2020    1471040\n",
       "dtype: int64"
      ]
     },
     "metadata": {},
     "execution_count": 122
    }
   ],
   "source": [
    "population['대전광역시',:] #년도 두개에 대한 대전광역시의 인구"
   ]
  },
  {
   "cell_type": "code",
   "execution_count": 123,
   "metadata": {},
   "outputs": [
    {
     "output_type": "execute_result",
     "data": {
      "text/plain": [
       "           2010     2020\n",
       "광주광역시   1454636  1455048\n",
       "대구광역시   2511676  2427954\n",
       "대전광역시   1503664  1471040\n",
       "부산광역시   3567910  3404423\n",
       "서울특별시  10312545  9720846\n",
       "인천광역시   2758296  2947217"
      ],
      "text/html": "<div>\n<style scoped>\n    .dataframe tbody tr th:only-of-type {\n        vertical-align: middle;\n    }\n\n    .dataframe tbody tr th {\n        vertical-align: top;\n    }\n\n    .dataframe thead th {\n        text-align: right;\n    }\n</style>\n<table border=\"1\" class=\"dataframe\">\n  <thead>\n    <tr style=\"text-align: right;\">\n      <th></th>\n      <th>2010</th>\n      <th>2020</th>\n    </tr>\n  </thead>\n  <tbody>\n    <tr>\n      <th>광주광역시</th>\n      <td>1454636</td>\n      <td>1455048</td>\n    </tr>\n    <tr>\n      <th>대구광역시</th>\n      <td>2511676</td>\n      <td>2427954</td>\n    </tr>\n    <tr>\n      <th>대전광역시</th>\n      <td>1503664</td>\n      <td>1471040</td>\n    </tr>\n    <tr>\n      <th>부산광역시</th>\n      <td>3567910</td>\n      <td>3404423</td>\n    </tr>\n    <tr>\n      <th>서울특별시</th>\n      <td>10312545</td>\n      <td>9720846</td>\n    </tr>\n    <tr>\n      <th>인천광역시</th>\n      <td>2758296</td>\n      <td>2947217</td>\n    </tr>\n  </tbody>\n</table>\n</div>"
     },
     "metadata": {},
     "execution_count": 123
    }
   ],
   "source": [
    "korea_mdf = population.unstack() #멀티인덱싱을 해 놓은 객체를 데이터 프레임으로 바꿔주는 함수\n",
    "korea_mdf"
   ]
  },
  {
   "cell_type": "code",
   "execution_count": 124,
   "metadata": {},
   "outputs": [
    {
     "output_type": "execute_result",
     "data": {
      "text/plain": [
       "광주광역시  2010     1454636\n",
       "       2020     1455048\n",
       "대구광역시  2010     2511676\n",
       "       2020     2427954\n",
       "대전광역시  2010     1503664\n",
       "       2020     1471040\n",
       "부산광역시  2010     3567910\n",
       "       2020     3404423\n",
       "서울특별시  2010    10312545\n",
       "       2020     9720846\n",
       "인천광역시  2010     2758296\n",
       "       2020     2947217\n",
       "dtype: int64"
      ]
     },
     "metadata": {},
     "execution_count": 124
    }
   ],
   "source": [
    "korea_mdf.stack()\n",
    "#멀티인덱스를 가지는 데이터 프레임을 다시 시리즈로 변환해주는 함수"
   ]
  },
  {
   "cell_type": "code",
   "execution_count": 125,
   "metadata": {},
   "outputs": [
    {
     "output_type": "execute_result",
     "data": {
      "text/plain": [
       "[5111259,\n",
       " 4732275,\n",
       " 1773170,\n",
       " 1668618,\n",
       " 1390356,\n",
       " 1476813,\n",
       " 1255245,\n",
       " 1198815,\n",
       " 753648,\n",
       " 734441,\n",
       " 721780,\n",
       " 720060]"
      ]
     },
     "metadata": {},
     "execution_count": 125
    }
   ],
   "source": [
    "male_tuples = [5111259,4732275,\n",
    "            1773170,1668618,\n",
    "            1390356, 1476813,\n",
    "            1255245, 1198815,\n",
    "            753648, 734441,\n",
    "            721780, 720060]\n",
    "male_tuples"
   ]
  },
  {
   "cell_type": "code",
   "execution_count": 126,
   "metadata": {},
   "outputs": [
    {
     "output_type": "execute_result",
     "data": {
      "text/plain": [
       "                총인구수    남자인구수\n",
       "서울특별시 2010  10312545  5111259\n",
       "      2020   9720846  4732275\n",
       "부산광역시 2010   3567910  1773170\n",
       "      2020   3404423  1668618\n",
       "인천광역시 2010   2758296  1390356\n",
       "      2020   2947217  1476813\n",
       "대구광역시 2010   2511676  1255245\n",
       "      2020   2427954  1198815\n",
       "대전광역시 2010   1503664   753648\n",
       "      2020   1471040   734441\n",
       "광주광역시 2010   1454636   721780\n",
       "      2020   1455048   720060"
      ],
      "text/html": "<div>\n<style scoped>\n    .dataframe tbody tr th:only-of-type {\n        vertical-align: middle;\n    }\n\n    .dataframe tbody tr th {\n        vertical-align: top;\n    }\n\n    .dataframe thead th {\n        text-align: right;\n    }\n</style>\n<table border=\"1\" class=\"dataframe\">\n  <thead>\n    <tr style=\"text-align: right;\">\n      <th></th>\n      <th></th>\n      <th>총인구수</th>\n      <th>남자인구수</th>\n    </tr>\n  </thead>\n  <tbody>\n    <tr>\n      <th rowspan=\"2\" valign=\"top\">서울특별시</th>\n      <th>2010</th>\n      <td>10312545</td>\n      <td>5111259</td>\n    </tr>\n    <tr>\n      <th>2020</th>\n      <td>9720846</td>\n      <td>4732275</td>\n    </tr>\n    <tr>\n      <th rowspan=\"2\" valign=\"top\">부산광역시</th>\n      <th>2010</th>\n      <td>3567910</td>\n      <td>1773170</td>\n    </tr>\n    <tr>\n      <th>2020</th>\n      <td>3404423</td>\n      <td>1668618</td>\n    </tr>\n    <tr>\n      <th rowspan=\"2\" valign=\"top\">인천광역시</th>\n      <th>2010</th>\n      <td>2758296</td>\n      <td>1390356</td>\n    </tr>\n    <tr>\n      <th>2020</th>\n      <td>2947217</td>\n      <td>1476813</td>\n    </tr>\n    <tr>\n      <th rowspan=\"2\" valign=\"top\">대구광역시</th>\n      <th>2010</th>\n      <td>2511676</td>\n      <td>1255245</td>\n    </tr>\n    <tr>\n      <th>2020</th>\n      <td>2427954</td>\n      <td>1198815</td>\n    </tr>\n    <tr>\n      <th rowspan=\"2\" valign=\"top\">대전광역시</th>\n      <th>2010</th>\n      <td>1503664</td>\n      <td>753648</td>\n    </tr>\n    <tr>\n      <th>2020</th>\n      <td>1471040</td>\n      <td>734441</td>\n    </tr>\n    <tr>\n      <th rowspan=\"2\" valign=\"top\">광주광역시</th>\n      <th>2010</th>\n      <td>1454636</td>\n      <td>721780</td>\n    </tr>\n    <tr>\n      <th>2020</th>\n      <td>1455048</td>\n      <td>720060</td>\n    </tr>\n  </tbody>\n</table>\n</div>"
     },
     "metadata": {},
     "execution_count": 126
    }
   ],
   "source": [
    "korea_mdf = pd.DataFrame({\"총인구수\":population,\n",
    "                        '남자인구수':male_tuples})\n",
    "korea_mdf"
   ]
  },
  {
   "cell_type": "code",
   "execution_count": 127,
   "metadata": {},
   "outputs": [
    {
     "output_type": "execute_result",
     "data": {
      "text/plain": [
       "[5201286,\n",
       " 4988571,\n",
       " 1794740,\n",
       " 1735805,\n",
       " 1367940,\n",
       " 1470404,\n",
       " 1256431,\n",
       " 1229139,\n",
       " 750016,\n",
       " 736599,\n",
       " 732856,\n",
       " 734988]"
      ]
     },
     "metadata": {},
     "execution_count": 127
    }
   ],
   "source": [
    "female_tuples = [5201286,4988571,\n",
    "                1794740,1735805,\n",
    "                1367940, 1470404,\n",
    "                1256431, 1229139,\n",
    "                750016, 736599,\n",
    "                732856,734988]\n",
    "female_tuples"
   ]
  },
  {
   "cell_type": "code",
   "execution_count": 128,
   "metadata": {},
   "outputs": [
    {
     "output_type": "execute_result",
     "data": {
      "text/plain": [
       "                총인구수    남자인구수    여자인구수\n",
       "서울특별시 2010  10312545  5111259  5201286\n",
       "      2020   9720846  4732275  4988571\n",
       "부산광역시 2010   3567910  1773170  1794740\n",
       "      2020   3404423  1668618  1735805\n",
       "인천광역시 2010   2758296  1390356  1367940\n",
       "      2020   2947217  1476813  1470404\n",
       "대구광역시 2010   2511676  1255245  1256431\n",
       "      2020   2427954  1198815  1229139\n",
       "대전광역시 2010   1503664   753648   750016\n",
       "      2020   1471040   734441   736599\n",
       "광주광역시 2010   1454636   721780   732856\n",
       "      2020   1455048   720060   734988"
      ],
      "text/html": "<div>\n<style scoped>\n    .dataframe tbody tr th:only-of-type {\n        vertical-align: middle;\n    }\n\n    .dataframe tbody tr th {\n        vertical-align: top;\n    }\n\n    .dataframe thead th {\n        text-align: right;\n    }\n</style>\n<table border=\"1\" class=\"dataframe\">\n  <thead>\n    <tr style=\"text-align: right;\">\n      <th></th>\n      <th></th>\n      <th>총인구수</th>\n      <th>남자인구수</th>\n      <th>여자인구수</th>\n    </tr>\n  </thead>\n  <tbody>\n    <tr>\n      <th rowspan=\"2\" valign=\"top\">서울특별시</th>\n      <th>2010</th>\n      <td>10312545</td>\n      <td>5111259</td>\n      <td>5201286</td>\n    </tr>\n    <tr>\n      <th>2020</th>\n      <td>9720846</td>\n      <td>4732275</td>\n      <td>4988571</td>\n    </tr>\n    <tr>\n      <th rowspan=\"2\" valign=\"top\">부산광역시</th>\n      <th>2010</th>\n      <td>3567910</td>\n      <td>1773170</td>\n      <td>1794740</td>\n    </tr>\n    <tr>\n      <th>2020</th>\n      <td>3404423</td>\n      <td>1668618</td>\n      <td>1735805</td>\n    </tr>\n    <tr>\n      <th rowspan=\"2\" valign=\"top\">인천광역시</th>\n      <th>2010</th>\n      <td>2758296</td>\n      <td>1390356</td>\n      <td>1367940</td>\n    </tr>\n    <tr>\n      <th>2020</th>\n      <td>2947217</td>\n      <td>1476813</td>\n      <td>1470404</td>\n    </tr>\n    <tr>\n      <th rowspan=\"2\" valign=\"top\">대구광역시</th>\n      <th>2010</th>\n      <td>2511676</td>\n      <td>1255245</td>\n      <td>1256431</td>\n    </tr>\n    <tr>\n      <th>2020</th>\n      <td>2427954</td>\n      <td>1198815</td>\n      <td>1229139</td>\n    </tr>\n    <tr>\n      <th rowspan=\"2\" valign=\"top\">대전광역시</th>\n      <th>2010</th>\n      <td>1503664</td>\n      <td>753648</td>\n      <td>750016</td>\n    </tr>\n    <tr>\n      <th>2020</th>\n      <td>1471040</td>\n      <td>734441</td>\n      <td>736599</td>\n    </tr>\n    <tr>\n      <th rowspan=\"2\" valign=\"top\">광주광역시</th>\n      <th>2010</th>\n      <td>1454636</td>\n      <td>721780</td>\n      <td>732856</td>\n    </tr>\n    <tr>\n      <th>2020</th>\n      <td>1455048</td>\n      <td>720060</td>\n      <td>734988</td>\n    </tr>\n  </tbody>\n</table>\n</div>"
     },
     "metadata": {},
     "execution_count": 128
    }
   ],
   "source": [
    "korea_mdf = pd.DataFrame({'총인구수' : population, '남자인구수' : male_tuples, '여자인구수':female_tuples})\n",
    "korea_mdf"
   ]
  },
  {
   "cell_type": "code",
   "execution_count": 129,
   "metadata": {},
   "outputs": [
    {
     "output_type": "execute_result",
     "data": {
      "text/plain": [
       "서울특별시  2010     98.269140\n",
       "       2020     94.862336\n",
       "부산광역시  2010     98.798155\n",
       "       2020     96.129346\n",
       "인천광역시  2010    101.638668\n",
       "       2020    100.435867\n",
       "대구광역시  2010     99.905606\n",
       "       2020     97.532907\n",
       "대전광역시  2010    100.484256\n",
       "       2020     99.707032\n",
       "광주광역시  2010     98.488653\n",
       "       2020     97.968946\n",
       "dtype: float64"
      ]
     },
     "metadata": {},
     "execution_count": 129
    }
   ],
   "source": [
    "ratio = korea_mdf['남자인구수']*100/korea_mdf['여자인구수']\n",
    "ratio"
   ]
  },
  {
   "cell_type": "code",
   "execution_count": 130,
   "metadata": {},
   "outputs": [
    {
     "output_type": "execute_result",
     "data": {
      "text/plain": [
       "             2010        2020\n",
       "광주광역시   98.488653   97.968946\n",
       "대구광역시   99.905606   97.532907\n",
       "대전광역시  100.484256   99.707032\n",
       "부산광역시   98.798155   96.129346\n",
       "서울특별시   98.269140   94.862336\n",
       "인천광역시  101.638668  100.435867"
      ],
      "text/html": "<div>\n<style scoped>\n    .dataframe tbody tr th:only-of-type {\n        vertical-align: middle;\n    }\n\n    .dataframe tbody tr th {\n        vertical-align: top;\n    }\n\n    .dataframe thead th {\n        text-align: right;\n    }\n</style>\n<table border=\"1\" class=\"dataframe\">\n  <thead>\n    <tr style=\"text-align: right;\">\n      <th></th>\n      <th>2010</th>\n      <th>2020</th>\n    </tr>\n  </thead>\n  <tbody>\n    <tr>\n      <th>광주광역시</th>\n      <td>98.488653</td>\n      <td>97.968946</td>\n    </tr>\n    <tr>\n      <th>대구광역시</th>\n      <td>99.905606</td>\n      <td>97.532907</td>\n    </tr>\n    <tr>\n      <th>대전광역시</th>\n      <td>100.484256</td>\n      <td>99.707032</td>\n    </tr>\n    <tr>\n      <th>부산광역시</th>\n      <td>98.798155</td>\n      <td>96.129346</td>\n    </tr>\n    <tr>\n      <th>서울특별시</th>\n      <td>98.269140</td>\n      <td>94.862336</td>\n    </tr>\n    <tr>\n      <th>인천광역시</th>\n      <td>101.638668</td>\n      <td>100.435867</td>\n    </tr>\n  </tbody>\n</table>\n</div>"
     },
     "metadata": {},
     "execution_count": 130
    }
   ],
   "source": [
    "ratio.unstack()"
   ]
  },
  {
   "cell_type": "code",
   "execution_count": 131,
   "metadata": {},
   "outputs": [
    {
     "output_type": "execute_result",
     "data": {
      "text/plain": [
       "                총인구수    남자인구수    여자인구수        남녀비율\n",
       "서울특별시 2010  10312545  5111259  5201286   98.269140\n",
       "      2020   9720846  4732275  4988571   94.862336\n",
       "부산광역시 2010   3567910  1773170  1794740   98.798155\n",
       "      2020   3404423  1668618  1735805   96.129346\n",
       "인천광역시 2010   2758296  1390356  1367940  101.638668\n",
       "      2020   2947217  1476813  1470404  100.435867\n",
       "대구광역시 2010   2511676  1255245  1256431   99.905606\n",
       "      2020   2427954  1198815  1229139   97.532907\n",
       "대전광역시 2010   1503664   753648   750016  100.484256\n",
       "      2020   1471040   734441   736599   99.707032\n",
       "광주광역시 2010   1454636   721780   732856   98.488653\n",
       "      2020   1455048   720060   734988   97.968946"
      ],
      "text/html": "<div>\n<style scoped>\n    .dataframe tbody tr th:only-of-type {\n        vertical-align: middle;\n    }\n\n    .dataframe tbody tr th {\n        vertical-align: top;\n    }\n\n    .dataframe thead th {\n        text-align: right;\n    }\n</style>\n<table border=\"1\" class=\"dataframe\">\n  <thead>\n    <tr style=\"text-align: right;\">\n      <th></th>\n      <th></th>\n      <th>총인구수</th>\n      <th>남자인구수</th>\n      <th>여자인구수</th>\n      <th>남녀비율</th>\n    </tr>\n  </thead>\n  <tbody>\n    <tr>\n      <th rowspan=\"2\" valign=\"top\">서울특별시</th>\n      <th>2010</th>\n      <td>10312545</td>\n      <td>5111259</td>\n      <td>5201286</td>\n      <td>98.269140</td>\n    </tr>\n    <tr>\n      <th>2020</th>\n      <td>9720846</td>\n      <td>4732275</td>\n      <td>4988571</td>\n      <td>94.862336</td>\n    </tr>\n    <tr>\n      <th rowspan=\"2\" valign=\"top\">부산광역시</th>\n      <th>2010</th>\n      <td>3567910</td>\n      <td>1773170</td>\n      <td>1794740</td>\n      <td>98.798155</td>\n    </tr>\n    <tr>\n      <th>2020</th>\n      <td>3404423</td>\n      <td>1668618</td>\n      <td>1735805</td>\n      <td>96.129346</td>\n    </tr>\n    <tr>\n      <th rowspan=\"2\" valign=\"top\">인천광역시</th>\n      <th>2010</th>\n      <td>2758296</td>\n      <td>1390356</td>\n      <td>1367940</td>\n      <td>101.638668</td>\n    </tr>\n    <tr>\n      <th>2020</th>\n      <td>2947217</td>\n      <td>1476813</td>\n      <td>1470404</td>\n      <td>100.435867</td>\n    </tr>\n    <tr>\n      <th rowspan=\"2\" valign=\"top\">대구광역시</th>\n      <th>2010</th>\n      <td>2511676</td>\n      <td>1255245</td>\n      <td>1256431</td>\n      <td>99.905606</td>\n    </tr>\n    <tr>\n      <th>2020</th>\n      <td>2427954</td>\n      <td>1198815</td>\n      <td>1229139</td>\n      <td>97.532907</td>\n    </tr>\n    <tr>\n      <th rowspan=\"2\" valign=\"top\">대전광역시</th>\n      <th>2010</th>\n      <td>1503664</td>\n      <td>753648</td>\n      <td>750016</td>\n      <td>100.484256</td>\n    </tr>\n    <tr>\n      <th>2020</th>\n      <td>1471040</td>\n      <td>734441</td>\n      <td>736599</td>\n      <td>99.707032</td>\n    </tr>\n    <tr>\n      <th rowspan=\"2\" valign=\"top\">광주광역시</th>\n      <th>2010</th>\n      <td>1454636</td>\n      <td>721780</td>\n      <td>732856</td>\n      <td>98.488653</td>\n    </tr>\n    <tr>\n      <th>2020</th>\n      <td>1455048</td>\n      <td>720060</td>\n      <td>734988</td>\n      <td>97.968946</td>\n    </tr>\n  </tbody>\n</table>\n</div>"
     },
     "metadata": {},
     "execution_count": 131
    }
   ],
   "source": [
    "\n",
    "korea_mdf = pd.DataFrame({'총인구수' : population, '남자인구수' : male_tuples, '여자인구수':female_tuples,'남녀비율':ratio})\n",
    "korea_mdf"
   ]
  },
  {
   "cell_type": "code",
   "execution_count": 132,
   "metadata": {},
   "outputs": [
    {
     "output_type": "execute_result",
     "data": {
      "text/plain": [
       "           c1        c2        c3\n",
       "a 1  0.680282  0.625151  0.788578\n",
       "  2  0.744944  0.655773  0.778082\n",
       "b 1  0.928939  0.584801  0.184736\n",
       "  2  0.563530  0.458541  0.907022\n",
       "c 1  0.913727  0.221524  0.726608\n",
       "  2  0.194488  0.357718  0.394133"
      ],
      "text/html": "<div>\n<style scoped>\n    .dataframe tbody tr th:only-of-type {\n        vertical-align: middle;\n    }\n\n    .dataframe tbody tr th {\n        vertical-align: top;\n    }\n\n    .dataframe thead th {\n        text-align: right;\n    }\n</style>\n<table border=\"1\" class=\"dataframe\">\n  <thead>\n    <tr style=\"text-align: right;\">\n      <th></th>\n      <th></th>\n      <th>c1</th>\n      <th>c2</th>\n      <th>c3</th>\n    </tr>\n  </thead>\n  <tbody>\n    <tr>\n      <th rowspan=\"2\" valign=\"top\">a</th>\n      <th>1</th>\n      <td>0.680282</td>\n      <td>0.625151</td>\n      <td>0.788578</td>\n    </tr>\n    <tr>\n      <th>2</th>\n      <td>0.744944</td>\n      <td>0.655773</td>\n      <td>0.778082</td>\n    </tr>\n    <tr>\n      <th rowspan=\"2\" valign=\"top\">b</th>\n      <th>1</th>\n      <td>0.928939</td>\n      <td>0.584801</td>\n      <td>0.184736</td>\n    </tr>\n    <tr>\n      <th>2</th>\n      <td>0.563530</td>\n      <td>0.458541</td>\n      <td>0.907022</td>\n    </tr>\n    <tr>\n      <th rowspan=\"2\" valign=\"top\">c</th>\n      <th>1</th>\n      <td>0.913727</td>\n      <td>0.221524</td>\n      <td>0.726608</td>\n    </tr>\n    <tr>\n      <th>2</th>\n      <td>0.194488</td>\n      <td>0.357718</td>\n      <td>0.394133</td>\n    </tr>\n  </tbody>\n</table>\n</div>"
     },
     "metadata": {},
     "execution_count": 132
    }
   ],
   "source": [
    "#다중인덱스 생성\n",
    "df = pd.DataFrame(np.random.rand(6,3),\n",
    "                index=[['a','a','b','b','c','c'],[1,2,1,2,1,2]],\n",
    "                columns=['c1','c2','c3'])\n",
    "df #인덱스가 중복되지만 멀티인덱스로 표현된다. "
   ]
  },
  {
   "cell_type": "code",
   "execution_count": 133,
   "metadata": {},
   "outputs": [
    {
     "output_type": "execute_result",
     "data": {
      "text/plain": [
       "MultiIndex([('a', 1),\n",
       "            ('a', 2),\n",
       "            ('b', 1),\n",
       "            ('b', 2),\n",
       "            ('c', 1),\n",
       "            ('c', 2)],\n",
       "           )"
      ]
     },
     "metadata": {},
     "execution_count": 133
    }
   ],
   "source": [
    "pd.MultiIndex.from_arrays([['a','a','b','b','c','c'],[1,2,1,2,1,2]])"
   ]
  },
  {
   "cell_type": "code",
   "execution_count": 134,
   "metadata": {},
   "outputs": [
    {
     "output_type": "execute_result",
     "data": {
      "text/plain": [
       "MultiIndex([('a', 1),\n",
       "            ('a', 2),\n",
       "            ('b', 1),\n",
       "            ('b', 2),\n",
       "            ('c', 1),\n",
       "            ('c', 2)],\n",
       "           )"
      ]
     },
     "metadata": {},
     "execution_count": 134
    }
   ],
   "source": [
    "pd.MultiIndex.from_tuples([('a',1),('a',2),('b',1),('b',2),('c',1),('c',2)])\n",
    "#대상이 array인지 tuple인지에 따라 from_XX의 함수가 달라진다. "
   ]
  },
  {
   "cell_type": "code",
   "execution_count": 135,
   "metadata": {},
   "outputs": [
    {
     "output_type": "execute_result",
     "data": {
      "text/plain": [
       "MultiIndex([('a', 1),\n",
       "            ('a', 2),\n",
       "            ('b', 1),\n",
       "            ('b', 2),\n",
       "            ('c', 1),\n",
       "            ('c', 2)],\n",
       "           )"
      ]
     },
     "metadata": {},
     "execution_count": 135
    }
   ],
   "source": [
    "pd.MultiIndex.from_product([['a','b','c'],[1,2]])"
   ]
  },
  {
   "cell_type": "code",
   "execution_count": 136,
   "metadata": {},
   "outputs": [
    {
     "output_type": "execute_result",
     "data": {
      "text/plain": [
       "MultiIndex([('a', 1),\n",
       "            ('a', 2),\n",
       "            ('b', 1),\n",
       "            ('b', 2),\n",
       "            ('c', 1),\n",
       "            ('c', 2)],\n",
       "           )"
      ]
     },
     "metadata": {},
     "execution_count": 136
    }
   ],
   "source": [
    "pd.MultiIndex(levels=[['a','b','c'],[1,2]],\n",
    "            codes=[[0,0,1,1,2,2],[0,1,0,1,0,1]])"
   ]
  },
  {
   "cell_type": "code",
   "execution_count": 137,
   "metadata": {},
   "outputs": [
    {
     "output_type": "execute_result",
     "data": {
      "text/plain": [
       "서울특별시  2010    10312545\n",
       "       2020     9720846\n",
       "부산광역시  2010     3567910\n",
       "       2020     3404423\n",
       "인천광역시  2010     2758296\n",
       "       2020     2947217\n",
       "대구광역시  2010     2511676\n",
       "       2020     2427954\n",
       "대전광역시  2010     1503664\n",
       "       2020     1471040\n",
       "광주광역시  2010     1454636\n",
       "       2020     1455048\n",
       "dtype: int64"
      ]
     },
     "metadata": {},
     "execution_count": 137
    }
   ],
   "source": [
    "population"
   ]
  },
  {
   "cell_type": "code",
   "execution_count": 138,
   "metadata": {},
   "outputs": [
    {
     "output_type": "execute_result",
     "data": {
      "text/plain": [
       "행정구역   년도  \n",
       "서울특별시  2010    10312545\n",
       "       2020     9720846\n",
       "부산광역시  2010     3567910\n",
       "       2020     3404423\n",
       "인천광역시  2010     2758296\n",
       "       2020     2947217\n",
       "대구광역시  2010     2511676\n",
       "       2020     2427954\n",
       "대전광역시  2010     1503664\n",
       "       2020     1471040\n",
       "광주광역시  2010     1454636\n",
       "       2020     1455048\n",
       "dtype: int64"
      ]
     },
     "metadata": {},
     "execution_count": 138
    }
   ],
   "source": [
    "population.index.names = ['행정구역','년도']\n",
    "population"
   ]
  },
  {
   "cell_type": "code",
   "execution_count": 139,
   "metadata": {},
   "outputs": [
    {
     "output_type": "execute_result",
     "data": {
      "text/plain": [
       "col_name1      c1          c2          c3      \n",
       "col_name2       1     2     1     2     1     2\n",
       "name1 name2                                    \n",
       "a     1     -1.11 -0.34 -0.37 -0.85  1.32 -0.97\n",
       "      2     -0.27 -0.26 -1.28 -1.70 -0.95 -0.33\n",
       "b     1      0.99 -1.09 -1.26  0.75 -0.59 -0.74\n",
       "      2      0.03  0.76  1.87  1.46 -0.34  1.34\n",
       "c     1      1.55 -0.45 -0.27  0.11  0.90  0.56\n",
       "      2     -0.00 -0.68  0.38  0.46  1.91  1.06"
      ],
      "text/html": "<div>\n<style scoped>\n    .dataframe tbody tr th:only-of-type {\n        vertical-align: middle;\n    }\n\n    .dataframe tbody tr th {\n        vertical-align: top;\n    }\n\n    .dataframe thead tr th {\n        text-align: left;\n    }\n\n    .dataframe thead tr:last-of-type th {\n        text-align: right;\n    }\n</style>\n<table border=\"1\" class=\"dataframe\">\n  <thead>\n    <tr>\n      <th></th>\n      <th>col_name1</th>\n      <th colspan=\"2\" halign=\"left\">c1</th>\n      <th colspan=\"2\" halign=\"left\">c2</th>\n      <th colspan=\"2\" halign=\"left\">c3</th>\n    </tr>\n    <tr>\n      <th></th>\n      <th>col_name2</th>\n      <th>1</th>\n      <th>2</th>\n      <th>1</th>\n      <th>2</th>\n      <th>1</th>\n      <th>2</th>\n    </tr>\n    <tr>\n      <th>name1</th>\n      <th>name2</th>\n      <th></th>\n      <th></th>\n      <th></th>\n      <th></th>\n      <th></th>\n      <th></th>\n    </tr>\n  </thead>\n  <tbody>\n    <tr>\n      <th rowspan=\"2\" valign=\"top\">a</th>\n      <th>1</th>\n      <td>-1.11</td>\n      <td>-0.34</td>\n      <td>-0.37</td>\n      <td>-0.85</td>\n      <td>1.32</td>\n      <td>-0.97</td>\n    </tr>\n    <tr>\n      <th>2</th>\n      <td>-0.27</td>\n      <td>-0.26</td>\n      <td>-1.28</td>\n      <td>-1.70</td>\n      <td>-0.95</td>\n      <td>-0.33</td>\n    </tr>\n    <tr>\n      <th rowspan=\"2\" valign=\"top\">b</th>\n      <th>1</th>\n      <td>0.99</td>\n      <td>-1.09</td>\n      <td>-1.26</td>\n      <td>0.75</td>\n      <td>-0.59</td>\n      <td>-0.74</td>\n    </tr>\n    <tr>\n      <th>2</th>\n      <td>0.03</td>\n      <td>0.76</td>\n      <td>1.87</td>\n      <td>1.46</td>\n      <td>-0.34</td>\n      <td>1.34</td>\n    </tr>\n    <tr>\n      <th rowspan=\"2\" valign=\"top\">c</th>\n      <th>1</th>\n      <td>1.55</td>\n      <td>-0.45</td>\n      <td>-0.27</td>\n      <td>0.11</td>\n      <td>0.90</td>\n      <td>0.56</td>\n    </tr>\n    <tr>\n      <th>2</th>\n      <td>-0.00</td>\n      <td>-0.68</td>\n      <td>0.38</td>\n      <td>0.46</td>\n      <td>1.91</td>\n      <td>1.06</td>\n    </tr>\n  </tbody>\n</table>\n</div>"
     },
     "metadata": {},
     "execution_count": 139
    }
   ],
   "source": [
    "idx = pd.MultiIndex.from_product([['a','b','c'],[1,2]],names=['name1','name2'])\n",
    "cols = pd.MultiIndex.from_product([['c1','c2','c3'],[1,2]],\n",
    "                    names=['col_name1','col_name2'])\n",
    "data = np.round(np.random.randn(6,6),2) #소숫점 이하 2번째 자리까지 반올림\n",
    "mdf = pd.DataFrame(data,index=idx,columns=cols)\n",
    "mdf"
   ]
  },
  {
   "cell_type": "code",
   "execution_count": 140,
   "metadata": {},
   "outputs": [
    {
     "output_type": "execute_result",
     "data": {
      "text/plain": [
       "col_name2       1     2\n",
       "name1 name2            \n",
       "a     1     -0.37 -0.85\n",
       "      2     -1.28 -1.70\n",
       "b     1     -1.26  0.75\n",
       "      2      1.87  1.46\n",
       "c     1     -0.27  0.11\n",
       "      2      0.38  0.46"
      ],
      "text/html": "<div>\n<style scoped>\n    .dataframe tbody tr th:only-of-type {\n        vertical-align: middle;\n    }\n\n    .dataframe tbody tr th {\n        vertical-align: top;\n    }\n\n    .dataframe thead th {\n        text-align: right;\n    }\n</style>\n<table border=\"1\" class=\"dataframe\">\n  <thead>\n    <tr style=\"text-align: right;\">\n      <th></th>\n      <th>col_name2</th>\n      <th>1</th>\n      <th>2</th>\n    </tr>\n    <tr>\n      <th>name1</th>\n      <th>name2</th>\n      <th></th>\n      <th></th>\n    </tr>\n  </thead>\n  <tbody>\n    <tr>\n      <th rowspan=\"2\" valign=\"top\">a</th>\n      <th>1</th>\n      <td>-0.37</td>\n      <td>-0.85</td>\n    </tr>\n    <tr>\n      <th>2</th>\n      <td>-1.28</td>\n      <td>-1.70</td>\n    </tr>\n    <tr>\n      <th rowspan=\"2\" valign=\"top\">b</th>\n      <th>1</th>\n      <td>-1.26</td>\n      <td>0.75</td>\n    </tr>\n    <tr>\n      <th>2</th>\n      <td>1.87</td>\n      <td>1.46</td>\n    </tr>\n    <tr>\n      <th rowspan=\"2\" valign=\"top\">c</th>\n      <th>1</th>\n      <td>-0.27</td>\n      <td>0.11</td>\n    </tr>\n    <tr>\n      <th>2</th>\n      <td>0.38</td>\n      <td>0.46</td>\n    </tr>\n  </tbody>\n</table>\n</div>"
     },
     "metadata": {},
     "execution_count": 140
    }
   ],
   "source": [
    "mdf['c2']"
   ]
  },
  {
   "cell_type": "code",
   "execution_count": 141,
   "metadata": {},
   "outputs": [
    {
     "output_type": "execute_result",
     "data": {
      "text/plain": [
       "행정구역   년도  \n",
       "서울특별시  2010    10312545\n",
       "       2020     9720846\n",
       "부산광역시  2010     3567910\n",
       "       2020     3404423\n",
       "인천광역시  2010     2758296\n",
       "       2020     2947217\n",
       "대구광역시  2010     2511676\n",
       "       2020     2427954\n",
       "대전광역시  2010     1503664\n",
       "       2020     1471040\n",
       "광주광역시  2010     1454636\n",
       "       2020     1455048\n",
       "dtype: int64"
      ]
     },
     "metadata": {},
     "execution_count": 141
    }
   ],
   "source": [
    "# 인덱싱 슬라이싱 \n",
    "population"
   ]
  },
  {
   "cell_type": "code",
   "execution_count": 142,
   "metadata": {},
   "outputs": [
    {
     "output_type": "execute_result",
     "data": {
      "text/plain": [
       "2758296"
      ]
     },
     "metadata": {},
     "execution_count": 142
    }
   ],
   "source": [
    "population['인천광역시',2010]"
   ]
  },
  {
   "cell_type": "code",
   "execution_count": 143,
   "metadata": {},
   "outputs": [
    {
     "output_type": "execute_result",
     "data": {
      "text/plain": [
       "행정구역\n",
       "서울특별시    10312545\n",
       "부산광역시     3567910\n",
       "인천광역시     2758296\n",
       "대구광역시     2511676\n",
       "대전광역시     1503664\n",
       "광주광역시     1454636\n",
       "dtype: int64"
      ]
     },
     "metadata": {},
     "execution_count": 143
    }
   ],
   "source": [
    "population[:,2010] #2010년도에 대한 값 출력"
   ]
  },
  {
   "cell_type": "code",
   "execution_count": 144,
   "metadata": {},
   "outputs": [
    {
     "output_type": "execute_result",
     "data": {
      "text/plain": [
       "행정구역   년도  \n",
       "서울특별시  2010    10312545\n",
       "       2020     9720846\n",
       "부산광역시  2010     3567910\n",
       "       2020     3404423\n",
       "dtype: int64"
      ]
     },
     "metadata": {},
     "execution_count": 144
    }
   ],
   "source": [
    "population[population>3000000]"
   ]
  },
  {
   "cell_type": "code",
   "execution_count": 145,
   "metadata": {},
   "outputs": [
    {
     "output_type": "execute_result",
     "data": {
      "text/plain": [
       "행정구역   년도  \n",
       "대구광역시  2010    2511676\n",
       "       2020    2427954\n",
       "대전광역시  2010    1503664\n",
       "       2020    1471040\n",
       "dtype: int64"
      ]
     },
     "metadata": {},
     "execution_count": 145
    }
   ],
   "source": [
    "population[['대구광역시','대전광역시']]"
   ]
  },
  {
   "cell_type": "code",
   "execution_count": 147,
   "metadata": {},
   "outputs": [
    {
     "output_type": "execute_result",
     "data": {
      "text/plain": [
       "col_name1      c1          c2          c3      \n",
       "col_name2       1     2     1     2     1     2\n",
       "name1 name2                                    \n",
       "a     1     -1.11 -0.34 -0.37 -0.85  1.32 -0.97\n",
       "      2     -0.27 -0.26 -1.28 -1.70 -0.95 -0.33\n",
       "b     1      0.99 -1.09 -1.26  0.75 -0.59 -0.74\n",
       "      2      0.03  0.76  1.87  1.46 -0.34  1.34\n",
       "c     1      1.55 -0.45 -0.27  0.11  0.90  0.56\n",
       "      2     -0.00 -0.68  0.38  0.46  1.91  1.06"
      ],
      "text/html": "<div>\n<style scoped>\n    .dataframe tbody tr th:only-of-type {\n        vertical-align: middle;\n    }\n\n    .dataframe tbody tr th {\n        vertical-align: top;\n    }\n\n    .dataframe thead tr th {\n        text-align: left;\n    }\n\n    .dataframe thead tr:last-of-type th {\n        text-align: right;\n    }\n</style>\n<table border=\"1\" class=\"dataframe\">\n  <thead>\n    <tr>\n      <th></th>\n      <th>col_name1</th>\n      <th colspan=\"2\" halign=\"left\">c1</th>\n      <th colspan=\"2\" halign=\"left\">c2</th>\n      <th colspan=\"2\" halign=\"left\">c3</th>\n    </tr>\n    <tr>\n      <th></th>\n      <th>col_name2</th>\n      <th>1</th>\n      <th>2</th>\n      <th>1</th>\n      <th>2</th>\n      <th>1</th>\n      <th>2</th>\n    </tr>\n    <tr>\n      <th>name1</th>\n      <th>name2</th>\n      <th></th>\n      <th></th>\n      <th></th>\n      <th></th>\n      <th></th>\n      <th></th>\n    </tr>\n  </thead>\n  <tbody>\n    <tr>\n      <th rowspan=\"2\" valign=\"top\">a</th>\n      <th>1</th>\n      <td>-1.11</td>\n      <td>-0.34</td>\n      <td>-0.37</td>\n      <td>-0.85</td>\n      <td>1.32</td>\n      <td>-0.97</td>\n    </tr>\n    <tr>\n      <th>2</th>\n      <td>-0.27</td>\n      <td>-0.26</td>\n      <td>-1.28</td>\n      <td>-1.70</td>\n      <td>-0.95</td>\n      <td>-0.33</td>\n    </tr>\n    <tr>\n      <th rowspan=\"2\" valign=\"top\">b</th>\n      <th>1</th>\n      <td>0.99</td>\n      <td>-1.09</td>\n      <td>-1.26</td>\n      <td>0.75</td>\n      <td>-0.59</td>\n      <td>-0.74</td>\n    </tr>\n    <tr>\n      <th>2</th>\n      <td>0.03</td>\n      <td>0.76</td>\n      <td>1.87</td>\n      <td>1.46</td>\n      <td>-0.34</td>\n      <td>1.34</td>\n    </tr>\n    <tr>\n      <th rowspan=\"2\" valign=\"top\">c</th>\n      <th>1</th>\n      <td>1.55</td>\n      <td>-0.45</td>\n      <td>-0.27</td>\n      <td>0.11</td>\n      <td>0.90</td>\n      <td>0.56</td>\n    </tr>\n    <tr>\n      <th>2</th>\n      <td>-0.00</td>\n      <td>-0.68</td>\n      <td>0.38</td>\n      <td>0.46</td>\n      <td>1.91</td>\n      <td>1.06</td>\n    </tr>\n  </tbody>\n</table>\n</div>"
     },
     "metadata": {},
     "execution_count": 147
    }
   ],
   "source": [
    "mdf"
   ]
  },
  {
   "cell_type": "code",
   "execution_count": 148,
   "metadata": {},
   "outputs": [
    {
     "output_type": "execute_result",
     "data": {
      "text/plain": [
       "name1  name2\n",
       "a      1       -0.37\n",
       "       2       -1.28\n",
       "b      1       -1.26\n",
       "       2        1.87\n",
       "c      1       -0.27\n",
       "       2        0.38\n",
       "Name: (c2, 1), dtype: float64"
      ]
     },
     "metadata": {},
     "execution_count": 148
    }
   ],
   "source": [
    "mdf['c2',1]"
   ]
  },
  {
   "cell_type": "code",
   "execution_count": 149,
   "metadata": {},
   "outputs": [
    {
     "output_type": "execute_result",
     "data": {
      "text/plain": [
       "col_name1      c1          c2      \n",
       "col_name2       1     2     1     2\n",
       "name1 name2                        \n",
       "a     1     -1.11 -0.34 -0.37 -0.85\n",
       "      2     -0.27 -0.26 -1.28 -1.70\n",
       "b     1      0.99 -1.09 -1.26  0.75"
      ],
      "text/html": "<div>\n<style scoped>\n    .dataframe tbody tr th:only-of-type {\n        vertical-align: middle;\n    }\n\n    .dataframe tbody tr th {\n        vertical-align: top;\n    }\n\n    .dataframe thead tr th {\n        text-align: left;\n    }\n\n    .dataframe thead tr:last-of-type th {\n        text-align: right;\n    }\n</style>\n<table border=\"1\" class=\"dataframe\">\n  <thead>\n    <tr>\n      <th></th>\n      <th>col_name1</th>\n      <th colspan=\"2\" halign=\"left\">c1</th>\n      <th colspan=\"2\" halign=\"left\">c2</th>\n    </tr>\n    <tr>\n      <th></th>\n      <th>col_name2</th>\n      <th>1</th>\n      <th>2</th>\n      <th>1</th>\n      <th>2</th>\n    </tr>\n    <tr>\n      <th>name1</th>\n      <th>name2</th>\n      <th></th>\n      <th></th>\n      <th></th>\n      <th></th>\n    </tr>\n  </thead>\n  <tbody>\n    <tr>\n      <th rowspan=\"2\" valign=\"top\">a</th>\n      <th>1</th>\n      <td>-1.11</td>\n      <td>-0.34</td>\n      <td>-0.37</td>\n      <td>-0.85</td>\n    </tr>\n    <tr>\n      <th>2</th>\n      <td>-0.27</td>\n      <td>-0.26</td>\n      <td>-1.28</td>\n      <td>-1.70</td>\n    </tr>\n    <tr>\n      <th>b</th>\n      <th>1</th>\n      <td>0.99</td>\n      <td>-1.09</td>\n      <td>-1.26</td>\n      <td>0.75</td>\n    </tr>\n  </tbody>\n</table>\n</div>"
     },
     "metadata": {},
     "execution_count": 149
    }
   ],
   "source": [
    "mdf.iloc[:3,:4]"
   ]
  },
  {
   "cell_type": "code",
   "execution_count": 150,
   "metadata": {},
   "outputs": [
    {
     "output_type": "execute_result",
     "data": {
      "text/plain": [
       "name1  name2\n",
       "a      1       -0.37\n",
       "       2       -1.28\n",
       "b      1       -1.26\n",
       "       2        1.87\n",
       "c      1       -0.27\n",
       "       2        0.38\n",
       "Name: (c2, 1), dtype: float64"
      ]
     },
     "metadata": {},
     "execution_count": 150
    }
   ],
   "source": [
    "mdf.loc[:,('c2',1)] #c2에 첫번째에 해당하는 전체 행을 출력해줘"
   ]
  },
  {
   "cell_type": "code",
   "execution_count": 152,
   "metadata": {},
   "outputs": [
    {
     "output_type": "execute_result",
     "data": {
      "text/plain": [
       "col_name1      c1    c2    c3\n",
       "col_name2       2     2     2\n",
       "name1 name2                  \n",
       "a     2     -0.26 -1.70 -0.33\n",
       "b     2      0.76  1.46  1.34\n",
       "c     2     -0.68  0.46  1.06"
      ],
      "text/html": "<div>\n<style scoped>\n    .dataframe tbody tr th:only-of-type {\n        vertical-align: middle;\n    }\n\n    .dataframe tbody tr th {\n        vertical-align: top;\n    }\n\n    .dataframe thead tr th {\n        text-align: left;\n    }\n\n    .dataframe thead tr:last-of-type th {\n        text-align: right;\n    }\n</style>\n<table border=\"1\" class=\"dataframe\">\n  <thead>\n    <tr>\n      <th></th>\n      <th>col_name1</th>\n      <th>c1</th>\n      <th>c2</th>\n      <th>c3</th>\n    </tr>\n    <tr>\n      <th></th>\n      <th>col_name2</th>\n      <th>2</th>\n      <th>2</th>\n      <th>2</th>\n    </tr>\n    <tr>\n      <th>name1</th>\n      <th>name2</th>\n      <th></th>\n      <th></th>\n      <th></th>\n    </tr>\n  </thead>\n  <tbody>\n    <tr>\n      <th>a</th>\n      <th>2</th>\n      <td>-0.26</td>\n      <td>-1.70</td>\n      <td>-0.33</td>\n    </tr>\n    <tr>\n      <th>b</th>\n      <th>2</th>\n      <td>0.76</td>\n      <td>1.46</td>\n      <td>1.34</td>\n    </tr>\n    <tr>\n      <th>c</th>\n      <th>2</th>\n      <td>-0.68</td>\n      <td>0.46</td>\n      <td>1.06</td>\n    </tr>\n  </tbody>\n</table>\n</div>"
     },
     "metadata": {},
     "execution_count": 152
    }
   ],
   "source": [
    "idx_slice = pd.IndexSlice #슬라이스 객체를 사용하여 그 부분만 해당하게 지정할 수도 있다.\n",
    "mdf.loc[idx_slice[:,2],idx_slice[:,2]]"
   ]
  },
  {
   "cell_type": "code",
   "execution_count": 153,
   "metadata": {},
   "outputs": [
    {
     "output_type": "execute_result",
     "data": {
      "text/plain": [
       "MultiIndex([('a', 1),\n",
       "            ('a', 2),\n",
       "            ('b', 1),\n",
       "            ('b', 2),\n",
       "            ('c', 1),\n",
       "            ('c', 2)],\n",
       "           names=['name1', 'name2'])"
      ]
     },
     "metadata": {},
     "execution_count": 153
    }
   ],
   "source": [
    "# 다중인덱스 재정렬\n",
    "idx"
   ]
  },
  {
   "cell_type": "code",
   "execution_count": 154,
   "metadata": {},
   "outputs": [
    {
     "output_type": "execute_result",
     "data": {
      "text/plain": [
       "                총인구수    남자인구수    여자인구수        남녀비율\n",
       "행정구역  년도                                          \n",
       "서울특별시 2010  10312545  5111259  5201286   98.269140\n",
       "      2020   9720846  4732275  4988571   94.862336\n",
       "부산광역시 2010   3567910  1773170  1794740   98.798155\n",
       "      2020   3404423  1668618  1735805   96.129346\n",
       "인천광역시 2010   2758296  1390356  1367940  101.638668\n",
       "      2020   2947217  1476813  1470404  100.435867\n",
       "대구광역시 2010   2511676  1255245  1256431   99.905606\n",
       "      2020   2427954  1198815  1229139   97.532907\n",
       "대전광역시 2010   1503664   753648   750016  100.484256\n",
       "      2020   1471040   734441   736599   99.707032\n",
       "광주광역시 2010   1454636   721780   732856   98.488653\n",
       "      2020   1455048   720060   734988   97.968946"
      ],
      "text/html": "<div>\n<style scoped>\n    .dataframe tbody tr th:only-of-type {\n        vertical-align: middle;\n    }\n\n    .dataframe tbody tr th {\n        vertical-align: top;\n    }\n\n    .dataframe thead th {\n        text-align: right;\n    }\n</style>\n<table border=\"1\" class=\"dataframe\">\n  <thead>\n    <tr style=\"text-align: right;\">\n      <th></th>\n      <th></th>\n      <th>총인구수</th>\n      <th>남자인구수</th>\n      <th>여자인구수</th>\n      <th>남녀비율</th>\n    </tr>\n    <tr>\n      <th>행정구역</th>\n      <th>년도</th>\n      <th></th>\n      <th></th>\n      <th></th>\n      <th></th>\n    </tr>\n  </thead>\n  <tbody>\n    <tr>\n      <th rowspan=\"2\" valign=\"top\">서울특별시</th>\n      <th>2010</th>\n      <td>10312545</td>\n      <td>5111259</td>\n      <td>5201286</td>\n      <td>98.269140</td>\n    </tr>\n    <tr>\n      <th>2020</th>\n      <td>9720846</td>\n      <td>4732275</td>\n      <td>4988571</td>\n      <td>94.862336</td>\n    </tr>\n    <tr>\n      <th rowspan=\"2\" valign=\"top\">부산광역시</th>\n      <th>2010</th>\n      <td>3567910</td>\n      <td>1773170</td>\n      <td>1794740</td>\n      <td>98.798155</td>\n    </tr>\n    <tr>\n      <th>2020</th>\n      <td>3404423</td>\n      <td>1668618</td>\n      <td>1735805</td>\n      <td>96.129346</td>\n    </tr>\n    <tr>\n      <th rowspan=\"2\" valign=\"top\">인천광역시</th>\n      <th>2010</th>\n      <td>2758296</td>\n      <td>1390356</td>\n      <td>1367940</td>\n      <td>101.638668</td>\n    </tr>\n    <tr>\n      <th>2020</th>\n      <td>2947217</td>\n      <td>1476813</td>\n      <td>1470404</td>\n      <td>100.435867</td>\n    </tr>\n    <tr>\n      <th rowspan=\"2\" valign=\"top\">대구광역시</th>\n      <th>2010</th>\n      <td>2511676</td>\n      <td>1255245</td>\n      <td>1256431</td>\n      <td>99.905606</td>\n    </tr>\n    <tr>\n      <th>2020</th>\n      <td>2427954</td>\n      <td>1198815</td>\n      <td>1229139</td>\n      <td>97.532907</td>\n    </tr>\n    <tr>\n      <th rowspan=\"2\" valign=\"top\">대전광역시</th>\n      <th>2010</th>\n      <td>1503664</td>\n      <td>753648</td>\n      <td>750016</td>\n      <td>100.484256</td>\n    </tr>\n    <tr>\n      <th>2020</th>\n      <td>1471040</td>\n      <td>734441</td>\n      <td>736599</td>\n      <td>99.707032</td>\n    </tr>\n    <tr>\n      <th rowspan=\"2\" valign=\"top\">광주광역시</th>\n      <th>2010</th>\n      <td>1454636</td>\n      <td>721780</td>\n      <td>732856</td>\n      <td>98.488653</td>\n    </tr>\n    <tr>\n      <th>2020</th>\n      <td>1455048</td>\n      <td>720060</td>\n      <td>734988</td>\n      <td>97.968946</td>\n    </tr>\n  </tbody>\n</table>\n</div>"
     },
     "metadata": {},
     "execution_count": 154
    }
   ],
   "source": [
    "korea_mdf"
   ]
  },
  {
   "cell_type": "code",
   "execution_count": 158,
   "metadata": {},
   "outputs": [
    {
     "output_type": "execute_result",
     "data": {
      "text/plain": [
       "                총인구수    남자인구수    여자인구수        남녀비율\n",
       "행정구역  년도                                          \n",
       "광주광역시 2010   1454636   721780   732856   98.488653\n",
       "      2020   1455048   720060   734988   97.968946\n",
       "대구광역시 2010   2511676  1255245  1256431   99.905606\n",
       "      2020   2427954  1198815  1229139   97.532907\n",
       "대전광역시 2010   1503664   753648   750016  100.484256\n",
       "      2020   1471040   734441   736599   99.707032\n",
       "부산광역시 2010   3567910  1773170  1794740   98.798155\n",
       "      2020   3404423  1668618  1735805   96.129346\n",
       "서울특별시 2010  10312545  5111259  5201286   98.269140\n",
       "      2020   9720846  4732275  4988571   94.862336\n",
       "인천광역시 2010   2758296  1390356  1367940  101.638668\n",
       "      2020   2947217  1476813  1470404  100.435867"
      ],
      "text/html": "<div>\n<style scoped>\n    .dataframe tbody tr th:only-of-type {\n        vertical-align: middle;\n    }\n\n    .dataframe tbody tr th {\n        vertical-align: top;\n    }\n\n    .dataframe thead th {\n        text-align: right;\n    }\n</style>\n<table border=\"1\" class=\"dataframe\">\n  <thead>\n    <tr style=\"text-align: right;\">\n      <th></th>\n      <th></th>\n      <th>총인구수</th>\n      <th>남자인구수</th>\n      <th>여자인구수</th>\n      <th>남녀비율</th>\n    </tr>\n    <tr>\n      <th>행정구역</th>\n      <th>년도</th>\n      <th></th>\n      <th></th>\n      <th></th>\n      <th></th>\n    </tr>\n  </thead>\n  <tbody>\n    <tr>\n      <th rowspan=\"2\" valign=\"top\">광주광역시</th>\n      <th>2010</th>\n      <td>1454636</td>\n      <td>721780</td>\n      <td>732856</td>\n      <td>98.488653</td>\n    </tr>\n    <tr>\n      <th>2020</th>\n      <td>1455048</td>\n      <td>720060</td>\n      <td>734988</td>\n      <td>97.968946</td>\n    </tr>\n    <tr>\n      <th rowspan=\"2\" valign=\"top\">대구광역시</th>\n      <th>2010</th>\n      <td>2511676</td>\n      <td>1255245</td>\n      <td>1256431</td>\n      <td>99.905606</td>\n    </tr>\n    <tr>\n      <th>2020</th>\n      <td>2427954</td>\n      <td>1198815</td>\n      <td>1229139</td>\n      <td>97.532907</td>\n    </tr>\n    <tr>\n      <th rowspan=\"2\" valign=\"top\">대전광역시</th>\n      <th>2010</th>\n      <td>1503664</td>\n      <td>753648</td>\n      <td>750016</td>\n      <td>100.484256</td>\n    </tr>\n    <tr>\n      <th>2020</th>\n      <td>1471040</td>\n      <td>734441</td>\n      <td>736599</td>\n      <td>99.707032</td>\n    </tr>\n    <tr>\n      <th rowspan=\"2\" valign=\"top\">부산광역시</th>\n      <th>2010</th>\n      <td>3567910</td>\n      <td>1773170</td>\n      <td>1794740</td>\n      <td>98.798155</td>\n    </tr>\n    <tr>\n      <th>2020</th>\n      <td>3404423</td>\n      <td>1668618</td>\n      <td>1735805</td>\n      <td>96.129346</td>\n    </tr>\n    <tr>\n      <th rowspan=\"2\" valign=\"top\">서울특별시</th>\n      <th>2010</th>\n      <td>10312545</td>\n      <td>5111259</td>\n      <td>5201286</td>\n      <td>98.269140</td>\n    </tr>\n    <tr>\n      <th>2020</th>\n      <td>9720846</td>\n      <td>4732275</td>\n      <td>4988571</td>\n      <td>94.862336</td>\n    </tr>\n    <tr>\n      <th rowspan=\"2\" valign=\"top\">인천광역시</th>\n      <th>2010</th>\n      <td>2758296</td>\n      <td>1390356</td>\n      <td>1367940</td>\n      <td>101.638668</td>\n    </tr>\n    <tr>\n      <th>2020</th>\n      <td>2947217</td>\n      <td>1476813</td>\n      <td>1470404</td>\n      <td>100.435867</td>\n    </tr>\n  </tbody>\n</table>\n</div>"
     },
     "metadata": {},
     "execution_count": 158
    }
   ],
   "source": [
    "#korea_mdf['서울특별시':'인천광역시']\n",
    "#에러 발생, 정렬이 안되어있어서\n",
    "korea_mdf = korea_mdf.sort_index()\n",
    "korea_mdf #가나다순으로 정렬을 해주었다. "
   ]
  },
  {
   "cell_type": "code",
   "execution_count": 159,
   "metadata": {},
   "outputs": [
    {
     "output_type": "execute_result",
     "data": {
      "text/plain": [
       "                총인구수    남자인구수    여자인구수        남녀비율\n",
       "행정구역  년도                                          \n",
       "광주광역시 2010   1454636   721780   732856   98.488653\n",
       "      2020   1455048   720060   734988   97.968946\n",
       "대구광역시 2010   2511676  1255245  1256431   99.905606\n",
       "      2020   2427954  1198815  1229139   97.532907\n",
       "대전광역시 2010   1503664   753648   750016  100.484256\n",
       "      2020   1471040   734441   736599   99.707032\n",
       "부산광역시 2010   3567910  1773170  1794740   98.798155\n",
       "      2020   3404423  1668618  1735805   96.129346\n",
       "서울특별시 2010  10312545  5111259  5201286   98.269140\n",
       "      2020   9720846  4732275  4988571   94.862336"
      ],
      "text/html": "<div>\n<style scoped>\n    .dataframe tbody tr th:only-of-type {\n        vertical-align: middle;\n    }\n\n    .dataframe tbody tr th {\n        vertical-align: top;\n    }\n\n    .dataframe thead th {\n        text-align: right;\n    }\n</style>\n<table border=\"1\" class=\"dataframe\">\n  <thead>\n    <tr style=\"text-align: right;\">\n      <th></th>\n      <th></th>\n      <th>총인구수</th>\n      <th>남자인구수</th>\n      <th>여자인구수</th>\n      <th>남녀비율</th>\n    </tr>\n    <tr>\n      <th>행정구역</th>\n      <th>년도</th>\n      <th></th>\n      <th></th>\n      <th></th>\n      <th></th>\n    </tr>\n  </thead>\n  <tbody>\n    <tr>\n      <th rowspan=\"2\" valign=\"top\">광주광역시</th>\n      <th>2010</th>\n      <td>1454636</td>\n      <td>721780</td>\n      <td>732856</td>\n      <td>98.488653</td>\n    </tr>\n    <tr>\n      <th>2020</th>\n      <td>1455048</td>\n      <td>720060</td>\n      <td>734988</td>\n      <td>97.968946</td>\n    </tr>\n    <tr>\n      <th rowspan=\"2\" valign=\"top\">대구광역시</th>\n      <th>2010</th>\n      <td>2511676</td>\n      <td>1255245</td>\n      <td>1256431</td>\n      <td>99.905606</td>\n    </tr>\n    <tr>\n      <th>2020</th>\n      <td>2427954</td>\n      <td>1198815</td>\n      <td>1229139</td>\n      <td>97.532907</td>\n    </tr>\n    <tr>\n      <th rowspan=\"2\" valign=\"top\">대전광역시</th>\n      <th>2010</th>\n      <td>1503664</td>\n      <td>753648</td>\n      <td>750016</td>\n      <td>100.484256</td>\n    </tr>\n    <tr>\n      <th>2020</th>\n      <td>1471040</td>\n      <td>734441</td>\n      <td>736599</td>\n      <td>99.707032</td>\n    </tr>\n    <tr>\n      <th rowspan=\"2\" valign=\"top\">부산광역시</th>\n      <th>2010</th>\n      <td>3567910</td>\n      <td>1773170</td>\n      <td>1794740</td>\n      <td>98.798155</td>\n    </tr>\n    <tr>\n      <th>2020</th>\n      <td>3404423</td>\n      <td>1668618</td>\n      <td>1735805</td>\n      <td>96.129346</td>\n    </tr>\n    <tr>\n      <th rowspan=\"2\" valign=\"top\">서울특별시</th>\n      <th>2010</th>\n      <td>10312545</td>\n      <td>5111259</td>\n      <td>5201286</td>\n      <td>98.269140</td>\n    </tr>\n    <tr>\n      <th>2020</th>\n      <td>9720846</td>\n      <td>4732275</td>\n      <td>4988571</td>\n      <td>94.862336</td>\n    </tr>\n  </tbody>\n</table>\n</div>"
     },
     "metadata": {},
     "execution_count": 159
    }
   ],
   "source": [
    "korea_mdf['광주광역시':'서울특별시']"
   ]
  },
  {
   "cell_type": "code",
   "execution_count": 160,
   "metadata": {},
   "outputs": [
    {
     "output_type": "execute_result",
     "data": {
      "text/plain": [
       "         총인구수                                                 남자인구수           \\\n",
       "행정구역    광주광역시    대구광역시    대전광역시    부산광역시     서울특별시    인천광역시   광주광역시    대구광역시   \n",
       "년도                                                                             \n",
       "2010  1454636  2511676  1503664  3567910  10312545  2758296  721780  1255245   \n",
       "2020  1455048  2427954  1471040  3404423   9720846  2947217  720060  1198815   \n",
       "\n",
       "                       ...   여자인구수                                  남녀비율  \\\n",
       "행정구역   대전광역시    부산광역시  ...   대전광역시    부산광역시    서울특별시    인천광역시      광주광역시   \n",
       "년도                     ...                                                 \n",
       "2010  753648  1773170  ...  750016  1794740  5201286  1367940  98.488653   \n",
       "2020  734441  1668618  ...  736599  1735805  4988571  1470404  97.968946   \n",
       "\n",
       "                                                               \n",
       "행정구역      대구광역시       대전광역시      부산광역시      서울특별시       인천광역시  \n",
       "년도                                                             \n",
       "2010  99.905606  100.484256  98.798155  98.269140  101.638668  \n",
       "2020  97.532907   99.707032  96.129346  94.862336  100.435867  \n",
       "\n",
       "[2 rows x 24 columns]"
      ],
      "text/html": "<div>\n<style scoped>\n    .dataframe tbody tr th:only-of-type {\n        vertical-align: middle;\n    }\n\n    .dataframe tbody tr th {\n        vertical-align: top;\n    }\n\n    .dataframe thead tr th {\n        text-align: left;\n    }\n\n    .dataframe thead tr:last-of-type th {\n        text-align: right;\n    }\n</style>\n<table border=\"1\" class=\"dataframe\">\n  <thead>\n    <tr>\n      <th></th>\n      <th colspan=\"6\" halign=\"left\">총인구수</th>\n      <th colspan=\"4\" halign=\"left\">남자인구수</th>\n      <th>...</th>\n      <th colspan=\"4\" halign=\"left\">여자인구수</th>\n      <th colspan=\"6\" halign=\"left\">남녀비율</th>\n    </tr>\n    <tr>\n      <th>행정구역</th>\n      <th>광주광역시</th>\n      <th>대구광역시</th>\n      <th>대전광역시</th>\n      <th>부산광역시</th>\n      <th>서울특별시</th>\n      <th>인천광역시</th>\n      <th>광주광역시</th>\n      <th>대구광역시</th>\n      <th>대전광역시</th>\n      <th>부산광역시</th>\n      <th>...</th>\n      <th>대전광역시</th>\n      <th>부산광역시</th>\n      <th>서울특별시</th>\n      <th>인천광역시</th>\n      <th>광주광역시</th>\n      <th>대구광역시</th>\n      <th>대전광역시</th>\n      <th>부산광역시</th>\n      <th>서울특별시</th>\n      <th>인천광역시</th>\n    </tr>\n    <tr>\n      <th>년도</th>\n      <th></th>\n      <th></th>\n      <th></th>\n      <th></th>\n      <th></th>\n      <th></th>\n      <th></th>\n      <th></th>\n      <th></th>\n      <th></th>\n      <th></th>\n      <th></th>\n      <th></th>\n      <th></th>\n      <th></th>\n      <th></th>\n      <th></th>\n      <th></th>\n      <th></th>\n      <th></th>\n      <th></th>\n    </tr>\n  </thead>\n  <tbody>\n    <tr>\n      <th>2010</th>\n      <td>1454636</td>\n      <td>2511676</td>\n      <td>1503664</td>\n      <td>3567910</td>\n      <td>10312545</td>\n      <td>2758296</td>\n      <td>721780</td>\n      <td>1255245</td>\n      <td>753648</td>\n      <td>1773170</td>\n      <td>...</td>\n      <td>750016</td>\n      <td>1794740</td>\n      <td>5201286</td>\n      <td>1367940</td>\n      <td>98.488653</td>\n      <td>99.905606</td>\n      <td>100.484256</td>\n      <td>98.798155</td>\n      <td>98.269140</td>\n      <td>101.638668</td>\n    </tr>\n    <tr>\n      <th>2020</th>\n      <td>1455048</td>\n      <td>2427954</td>\n      <td>1471040</td>\n      <td>3404423</td>\n      <td>9720846</td>\n      <td>2947217</td>\n      <td>720060</td>\n      <td>1198815</td>\n      <td>734441</td>\n      <td>1668618</td>\n      <td>...</td>\n      <td>736599</td>\n      <td>1735805</td>\n      <td>4988571</td>\n      <td>1470404</td>\n      <td>97.968946</td>\n      <td>97.532907</td>\n      <td>99.707032</td>\n      <td>96.129346</td>\n      <td>94.862336</td>\n      <td>100.435867</td>\n    </tr>\n  </tbody>\n</table>\n<p>2 rows × 24 columns</p>\n</div>"
     },
     "metadata": {},
     "execution_count": 160
    }
   ],
   "source": [
    "korea_mdf.unstack(level=0)"
   ]
  },
  {
   "cell_type": "code",
   "execution_count": 161,
   "metadata": {},
   "outputs": [
    {
     "output_type": "execute_result",
     "data": {
      "text/plain": [
       "           총인구수             남자인구수             여자인구수                 남녀비율  \\\n",
       "년도         2010     2020     2010     2020     2010     2020        2010   \n",
       "행정구역                                                                       \n",
       "광주광역시   1454636  1455048   721780   720060   732856   734988   98.488653   \n",
       "대구광역시   2511676  2427954  1255245  1198815  1256431  1229139   99.905606   \n",
       "대전광역시   1503664  1471040   753648   734441   750016   736599  100.484256   \n",
       "부산광역시   3567910  3404423  1773170  1668618  1794740  1735805   98.798155   \n",
       "서울특별시  10312545  9720846  5111259  4732275  5201286  4988571   98.269140   \n",
       "인천광역시   2758296  2947217  1390356  1476813  1367940  1470404  101.638668   \n",
       "\n",
       "                   \n",
       "년도           2020  \n",
       "행정구역               \n",
       "광주광역시   97.968946  \n",
       "대구광역시   97.532907  \n",
       "대전광역시   99.707032  \n",
       "부산광역시   96.129346  \n",
       "서울특별시   94.862336  \n",
       "인천광역시  100.435867  "
      ],
      "text/html": "<div>\n<style scoped>\n    .dataframe tbody tr th:only-of-type {\n        vertical-align: middle;\n    }\n\n    .dataframe tbody tr th {\n        vertical-align: top;\n    }\n\n    .dataframe thead tr th {\n        text-align: left;\n    }\n\n    .dataframe thead tr:last-of-type th {\n        text-align: right;\n    }\n</style>\n<table border=\"1\" class=\"dataframe\">\n  <thead>\n    <tr>\n      <th></th>\n      <th colspan=\"2\" halign=\"left\">총인구수</th>\n      <th colspan=\"2\" halign=\"left\">남자인구수</th>\n      <th colspan=\"2\" halign=\"left\">여자인구수</th>\n      <th colspan=\"2\" halign=\"left\">남녀비율</th>\n    </tr>\n    <tr>\n      <th>년도</th>\n      <th>2010</th>\n      <th>2020</th>\n      <th>2010</th>\n      <th>2020</th>\n      <th>2010</th>\n      <th>2020</th>\n      <th>2010</th>\n      <th>2020</th>\n    </tr>\n    <tr>\n      <th>행정구역</th>\n      <th></th>\n      <th></th>\n      <th></th>\n      <th></th>\n      <th></th>\n      <th></th>\n      <th></th>\n      <th></th>\n    </tr>\n  </thead>\n  <tbody>\n    <tr>\n      <th>광주광역시</th>\n      <td>1454636</td>\n      <td>1455048</td>\n      <td>721780</td>\n      <td>720060</td>\n      <td>732856</td>\n      <td>734988</td>\n      <td>98.488653</td>\n      <td>97.968946</td>\n    </tr>\n    <tr>\n      <th>대구광역시</th>\n      <td>2511676</td>\n      <td>2427954</td>\n      <td>1255245</td>\n      <td>1198815</td>\n      <td>1256431</td>\n      <td>1229139</td>\n      <td>99.905606</td>\n      <td>97.532907</td>\n    </tr>\n    <tr>\n      <th>대전광역시</th>\n      <td>1503664</td>\n      <td>1471040</td>\n      <td>753648</td>\n      <td>734441</td>\n      <td>750016</td>\n      <td>736599</td>\n      <td>100.484256</td>\n      <td>99.707032</td>\n    </tr>\n    <tr>\n      <th>부산광역시</th>\n      <td>3567910</td>\n      <td>3404423</td>\n      <td>1773170</td>\n      <td>1668618</td>\n      <td>1794740</td>\n      <td>1735805</td>\n      <td>98.798155</td>\n      <td>96.129346</td>\n    </tr>\n    <tr>\n      <th>서울특별시</th>\n      <td>10312545</td>\n      <td>9720846</td>\n      <td>5111259</td>\n      <td>4732275</td>\n      <td>5201286</td>\n      <td>4988571</td>\n      <td>98.269140</td>\n      <td>94.862336</td>\n    </tr>\n    <tr>\n      <th>인천광역시</th>\n      <td>2758296</td>\n      <td>2947217</td>\n      <td>1390356</td>\n      <td>1476813</td>\n      <td>1367940</td>\n      <td>1470404</td>\n      <td>101.638668</td>\n      <td>100.435867</td>\n    </tr>\n  </tbody>\n</table>\n</div>"
     },
     "metadata": {},
     "execution_count": 161
    }
   ],
   "source": [
    "korea_mdf.unstack(level=1)#level에 따라 연도와 행정구역 스위치가능하다. "
   ]
  },
  {
   "cell_type": "code",
   "execution_count": 162,
   "metadata": {},
   "outputs": [
    {
     "output_type": "execute_result",
     "data": {
      "text/plain": [
       "행정구역   년도         \n",
       "광주광역시  2010  총인구수     1.454636e+06\n",
       "             남자인구수    7.217800e+05\n",
       "             여자인구수    7.328560e+05\n",
       "             남녀비율     9.848865e+01\n",
       "       2020  총인구수     1.455048e+06\n",
       "             남자인구수    7.200600e+05\n",
       "             여자인구수    7.349880e+05\n",
       "             남녀비율     9.796895e+01\n",
       "대구광역시  2010  총인구수     2.511676e+06\n",
       "             남자인구수    1.255245e+06\n",
       "             여자인구수    1.256431e+06\n",
       "             남녀비율     9.990561e+01\n",
       "       2020  총인구수     2.427954e+06\n",
       "             남자인구수    1.198815e+06\n",
       "             여자인구수    1.229139e+06\n",
       "             남녀비율     9.753291e+01\n",
       "대전광역시  2010  총인구수     1.503664e+06\n",
       "             남자인구수    7.536480e+05\n",
       "             여자인구수    7.500160e+05\n",
       "             남녀비율     1.004843e+02\n",
       "       2020  총인구수     1.471040e+06\n",
       "             남자인구수    7.344410e+05\n",
       "             여자인구수    7.365990e+05\n",
       "             남녀비율     9.970703e+01\n",
       "부산광역시  2010  총인구수     3.567910e+06\n",
       "             남자인구수    1.773170e+06\n",
       "             여자인구수    1.794740e+06\n",
       "             남녀비율     9.879815e+01\n",
       "       2020  총인구수     3.404423e+06\n",
       "             남자인구수    1.668618e+06\n",
       "             여자인구수    1.735805e+06\n",
       "             남녀비율     9.612935e+01\n",
       "서울특별시  2010  총인구수     1.031254e+07\n",
       "             남자인구수    5.111259e+06\n",
       "             여자인구수    5.201286e+06\n",
       "             남녀비율     9.826914e+01\n",
       "       2020  총인구수     9.720846e+06\n",
       "             남자인구수    4.732275e+06\n",
       "             여자인구수    4.988571e+06\n",
       "             남녀비율     9.486234e+01\n",
       "인천광역시  2010  총인구수     2.758296e+06\n",
       "             남자인구수    1.390356e+06\n",
       "             여자인구수    1.367940e+06\n",
       "             남녀비율     1.016387e+02\n",
       "       2020  총인구수     2.947217e+06\n",
       "             남자인구수    1.476813e+06\n",
       "             여자인구수    1.470404e+06\n",
       "             남녀비율     1.004359e+02\n",
       "dtype: float64"
      ]
     },
     "metadata": {},
     "execution_count": 162
    }
   ],
   "source": [
    "korea_mdf.stack() #원상복귀"
   ]
  },
  {
   "cell_type": "code",
   "execution_count": 11,
   "metadata": {},
   "outputs": [
    {
     "ename": "NameError",
     "evalue": "name 'korea_mdf' is not defined",
     "output_type": "error",
     "traceback": [
      "\u001B[1;31m---------------------------------------------------------------------------\u001B[0m",
      "\u001B[1;31mNameError\u001B[0m                                 Traceback (most recent call last)",
      "\u001B[1;32m<ipython-input-11-3415fb3c6018>\u001B[0m in \u001B[0;36m<module>\u001B[1;34m\u001B[0m\n\u001B[1;32m----> 1\u001B[1;33m \u001B[0mkorea_mdf\u001B[0m\u001B[1;33m\u001B[0m\u001B[1;33m\u001B[0m\u001B[0m\n\u001B[0m\u001B[0;32m      2\u001B[0m \u001B[1;33m\u001B[0m\u001B[0m\n",
      "\u001B[1;31mNameError\u001B[0m: name 'korea_mdf' is not defined"
     ]
    }
   ],
   "source": [
    "korea_mdf"
   ]
  },
  {
   "cell_type": "code",
   "execution_count": 164,
   "metadata": {},
   "outputs": [
    {
     "output_type": "execute_result",
     "data": {
      "text/plain": [
       "       행정구역      총인구수    남자인구수    여자인구수        남녀비율\n",
       "년도                                                 \n",
       "2010  광주광역시   1454636   721780   732856   98.488653\n",
       "2020  광주광역시   1455048   720060   734988   97.968946\n",
       "2010  대구광역시   2511676  1255245  1256431   99.905606\n",
       "2020  대구광역시   2427954  1198815  1229139   97.532907\n",
       "2010  대전광역시   1503664   753648   750016  100.484256\n",
       "2020  대전광역시   1471040   734441   736599   99.707032\n",
       "2010  부산광역시   3567910  1773170  1794740   98.798155\n",
       "2020  부산광역시   3404423  1668618  1735805   96.129346\n",
       "2010  서울특별시  10312545  5111259  5201286   98.269140\n",
       "2020  서울특별시   9720846  4732275  4988571   94.862336\n",
       "2010  인천광역시   2758296  1390356  1367940  101.638668\n",
       "2020  인천광역시   2947217  1476813  1470404  100.435867"
      ],
      "text/html": "<div>\n<style scoped>\n    .dataframe tbody tr th:only-of-type {\n        vertical-align: middle;\n    }\n\n    .dataframe tbody tr th {\n        vertical-align: top;\n    }\n\n    .dataframe thead th {\n        text-align: right;\n    }\n</style>\n<table border=\"1\" class=\"dataframe\">\n  <thead>\n    <tr style=\"text-align: right;\">\n      <th></th>\n      <th>행정구역</th>\n      <th>총인구수</th>\n      <th>남자인구수</th>\n      <th>여자인구수</th>\n      <th>남녀비율</th>\n    </tr>\n    <tr>\n      <th>년도</th>\n      <th></th>\n      <th></th>\n      <th></th>\n      <th></th>\n      <th></th>\n    </tr>\n  </thead>\n  <tbody>\n    <tr>\n      <th>2010</th>\n      <td>광주광역시</td>\n      <td>1454636</td>\n      <td>721780</td>\n      <td>732856</td>\n      <td>98.488653</td>\n    </tr>\n    <tr>\n      <th>2020</th>\n      <td>광주광역시</td>\n      <td>1455048</td>\n      <td>720060</td>\n      <td>734988</td>\n      <td>97.968946</td>\n    </tr>\n    <tr>\n      <th>2010</th>\n      <td>대구광역시</td>\n      <td>2511676</td>\n      <td>1255245</td>\n      <td>1256431</td>\n      <td>99.905606</td>\n    </tr>\n    <tr>\n      <th>2020</th>\n      <td>대구광역시</td>\n      <td>2427954</td>\n      <td>1198815</td>\n      <td>1229139</td>\n      <td>97.532907</td>\n    </tr>\n    <tr>\n      <th>2010</th>\n      <td>대전광역시</td>\n      <td>1503664</td>\n      <td>753648</td>\n      <td>750016</td>\n      <td>100.484256</td>\n    </tr>\n    <tr>\n      <th>2020</th>\n      <td>대전광역시</td>\n      <td>1471040</td>\n      <td>734441</td>\n      <td>736599</td>\n      <td>99.707032</td>\n    </tr>\n    <tr>\n      <th>2010</th>\n      <td>부산광역시</td>\n      <td>3567910</td>\n      <td>1773170</td>\n      <td>1794740</td>\n      <td>98.798155</td>\n    </tr>\n    <tr>\n      <th>2020</th>\n      <td>부산광역시</td>\n      <td>3404423</td>\n      <td>1668618</td>\n      <td>1735805</td>\n      <td>96.129346</td>\n    </tr>\n    <tr>\n      <th>2010</th>\n      <td>서울특별시</td>\n      <td>10312545</td>\n      <td>5111259</td>\n      <td>5201286</td>\n      <td>98.269140</td>\n    </tr>\n    <tr>\n      <th>2020</th>\n      <td>서울특별시</td>\n      <td>9720846</td>\n      <td>4732275</td>\n      <td>4988571</td>\n      <td>94.862336</td>\n    </tr>\n    <tr>\n      <th>2010</th>\n      <td>인천광역시</td>\n      <td>2758296</td>\n      <td>1390356</td>\n      <td>1367940</td>\n      <td>101.638668</td>\n    </tr>\n    <tr>\n      <th>2020</th>\n      <td>인천광역시</td>\n      <td>2947217</td>\n      <td>1476813</td>\n      <td>1470404</td>\n      <td>100.435867</td>\n    </tr>\n  </tbody>\n</table>\n</div>"
     },
     "metadata": {},
     "execution_count": 164
    }
   ],
   "source": [
    "idx_flat = korea_mdf.reset_index(level=0)\n",
    "idx_flat #index reset"
   ]
  },
  {
   "cell_type": "code",
   "execution_count": 165,
   "metadata": {},
   "outputs": [
    {
     "output_type": "execute_result",
     "data": {
      "text/plain": [
       "     행정구역    년도      총인구수    남자인구수    여자인구수        남녀비율\n",
       "0   광주광역시  2010   1454636   721780   732856   98.488653\n",
       "1   광주광역시  2020   1455048   720060   734988   97.968946\n",
       "2   대구광역시  2010   2511676  1255245  1256431   99.905606\n",
       "3   대구광역시  2020   2427954  1198815  1229139   97.532907\n",
       "4   대전광역시  2010   1503664   753648   750016  100.484256\n",
       "5   대전광역시  2020   1471040   734441   736599   99.707032\n",
       "6   부산광역시  2010   3567910  1773170  1794740   98.798155\n",
       "7   부산광역시  2020   3404423  1668618  1735805   96.129346\n",
       "8   서울특별시  2010  10312545  5111259  5201286   98.269140\n",
       "9   서울특별시  2020   9720846  4732275  4988571   94.862336\n",
       "10  인천광역시  2010   2758296  1390356  1367940  101.638668\n",
       "11  인천광역시  2020   2947217  1476813  1470404  100.435867"
      ],
      "text/html": "<div>\n<style scoped>\n    .dataframe tbody tr th:only-of-type {\n        vertical-align: middle;\n    }\n\n    .dataframe tbody tr th {\n        vertical-align: top;\n    }\n\n    .dataframe thead th {\n        text-align: right;\n    }\n</style>\n<table border=\"1\" class=\"dataframe\">\n  <thead>\n    <tr style=\"text-align: right;\">\n      <th></th>\n      <th>행정구역</th>\n      <th>년도</th>\n      <th>총인구수</th>\n      <th>남자인구수</th>\n      <th>여자인구수</th>\n      <th>남녀비율</th>\n    </tr>\n  </thead>\n  <tbody>\n    <tr>\n      <th>0</th>\n      <td>광주광역시</td>\n      <td>2010</td>\n      <td>1454636</td>\n      <td>721780</td>\n      <td>732856</td>\n      <td>98.488653</td>\n    </tr>\n    <tr>\n      <th>1</th>\n      <td>광주광역시</td>\n      <td>2020</td>\n      <td>1455048</td>\n      <td>720060</td>\n      <td>734988</td>\n      <td>97.968946</td>\n    </tr>\n    <tr>\n      <th>2</th>\n      <td>대구광역시</td>\n      <td>2010</td>\n      <td>2511676</td>\n      <td>1255245</td>\n      <td>1256431</td>\n      <td>99.905606</td>\n    </tr>\n    <tr>\n      <th>3</th>\n      <td>대구광역시</td>\n      <td>2020</td>\n      <td>2427954</td>\n      <td>1198815</td>\n      <td>1229139</td>\n      <td>97.532907</td>\n    </tr>\n    <tr>\n      <th>4</th>\n      <td>대전광역시</td>\n      <td>2010</td>\n      <td>1503664</td>\n      <td>753648</td>\n      <td>750016</td>\n      <td>100.484256</td>\n    </tr>\n    <tr>\n      <th>5</th>\n      <td>대전광역시</td>\n      <td>2020</td>\n      <td>1471040</td>\n      <td>734441</td>\n      <td>736599</td>\n      <td>99.707032</td>\n    </tr>\n    <tr>\n      <th>6</th>\n      <td>부산광역시</td>\n      <td>2010</td>\n      <td>3567910</td>\n      <td>1773170</td>\n      <td>1794740</td>\n      <td>98.798155</td>\n    </tr>\n    <tr>\n      <th>7</th>\n      <td>부산광역시</td>\n      <td>2020</td>\n      <td>3404423</td>\n      <td>1668618</td>\n      <td>1735805</td>\n      <td>96.129346</td>\n    </tr>\n    <tr>\n      <th>8</th>\n      <td>서울특별시</td>\n      <td>2010</td>\n      <td>10312545</td>\n      <td>5111259</td>\n      <td>5201286</td>\n      <td>98.269140</td>\n    </tr>\n    <tr>\n      <th>9</th>\n      <td>서울특별시</td>\n      <td>2020</td>\n      <td>9720846</td>\n      <td>4732275</td>\n      <td>4988571</td>\n      <td>94.862336</td>\n    </tr>\n    <tr>\n      <th>10</th>\n      <td>인천광역시</td>\n      <td>2010</td>\n      <td>2758296</td>\n      <td>1390356</td>\n      <td>1367940</td>\n      <td>101.638668</td>\n    </tr>\n    <tr>\n      <th>11</th>\n      <td>인천광역시</td>\n      <td>2020</td>\n      <td>2947217</td>\n      <td>1476813</td>\n      <td>1470404</td>\n      <td>100.435867</td>\n    </tr>\n  </tbody>\n</table>\n</div>"
     },
     "metadata": {},
     "execution_count": 165
    }
   ],
   "source": [
    "idx_flat = korea_mdf.reset_index(level=(0,1))\n",
    "idx_flat #행정구역과 년도 모두 인덱스로 구분되었다. "
   ]
  },
  {
   "cell_type": "code",
   "execution_count": 166,
   "metadata": {},
   "outputs": [
    {
     "output_type": "execute_result",
     "data": {
      "text/plain": [
       "                총인구수    남자인구수    여자인구수        남녀비율\n",
       "행정구역  년도                                          \n",
       "광주광역시 2010   1454636   721780   732856   98.488653\n",
       "      2020   1455048   720060   734988   97.968946\n",
       "대구광역시 2010   2511676  1255245  1256431   99.905606\n",
       "      2020   2427954  1198815  1229139   97.532907\n",
       "대전광역시 2010   1503664   753648   750016  100.484256\n",
       "      2020   1471040   734441   736599   99.707032\n",
       "부산광역시 2010   3567910  1773170  1794740   98.798155\n",
       "      2020   3404423  1668618  1735805   96.129346\n",
       "서울특별시 2010  10312545  5111259  5201286   98.269140\n",
       "      2020   9720846  4732275  4988571   94.862336\n",
       "인천광역시 2010   2758296  1390356  1367940  101.638668\n",
       "      2020   2947217  1476813  1470404  100.435867"
      ],
      "text/html": "<div>\n<style scoped>\n    .dataframe tbody tr th:only-of-type {\n        vertical-align: middle;\n    }\n\n    .dataframe tbody tr th {\n        vertical-align: top;\n    }\n\n    .dataframe thead th {\n        text-align: right;\n    }\n</style>\n<table border=\"1\" class=\"dataframe\">\n  <thead>\n    <tr style=\"text-align: right;\">\n      <th></th>\n      <th></th>\n      <th>총인구수</th>\n      <th>남자인구수</th>\n      <th>여자인구수</th>\n      <th>남녀비율</th>\n    </tr>\n    <tr>\n      <th>행정구역</th>\n      <th>년도</th>\n      <th></th>\n      <th></th>\n      <th></th>\n      <th></th>\n    </tr>\n  </thead>\n  <tbody>\n    <tr>\n      <th rowspan=\"2\" valign=\"top\">광주광역시</th>\n      <th>2010</th>\n      <td>1454636</td>\n      <td>721780</td>\n      <td>732856</td>\n      <td>98.488653</td>\n    </tr>\n    <tr>\n      <th>2020</th>\n      <td>1455048</td>\n      <td>720060</td>\n      <td>734988</td>\n      <td>97.968946</td>\n    </tr>\n    <tr>\n      <th rowspan=\"2\" valign=\"top\">대구광역시</th>\n      <th>2010</th>\n      <td>2511676</td>\n      <td>1255245</td>\n      <td>1256431</td>\n      <td>99.905606</td>\n    </tr>\n    <tr>\n      <th>2020</th>\n      <td>2427954</td>\n      <td>1198815</td>\n      <td>1229139</td>\n      <td>97.532907</td>\n    </tr>\n    <tr>\n      <th rowspan=\"2\" valign=\"top\">대전광역시</th>\n      <th>2010</th>\n      <td>1503664</td>\n      <td>753648</td>\n      <td>750016</td>\n      <td>100.484256</td>\n    </tr>\n    <tr>\n      <th>2020</th>\n      <td>1471040</td>\n      <td>734441</td>\n      <td>736599</td>\n      <td>99.707032</td>\n    </tr>\n    <tr>\n      <th rowspan=\"2\" valign=\"top\">부산광역시</th>\n      <th>2010</th>\n      <td>3567910</td>\n      <td>1773170</td>\n      <td>1794740</td>\n      <td>98.798155</td>\n    </tr>\n    <tr>\n      <th>2020</th>\n      <td>3404423</td>\n      <td>1668618</td>\n      <td>1735805</td>\n      <td>96.129346</td>\n    </tr>\n    <tr>\n      <th rowspan=\"2\" valign=\"top\">서울특별시</th>\n      <th>2010</th>\n      <td>10312545</td>\n      <td>5111259</td>\n      <td>5201286</td>\n      <td>98.269140</td>\n    </tr>\n    <tr>\n      <th>2020</th>\n      <td>9720846</td>\n      <td>4732275</td>\n      <td>4988571</td>\n      <td>94.862336</td>\n    </tr>\n    <tr>\n      <th rowspan=\"2\" valign=\"top\">인천광역시</th>\n      <th>2010</th>\n      <td>2758296</td>\n      <td>1390356</td>\n      <td>1367940</td>\n      <td>101.638668</td>\n    </tr>\n    <tr>\n      <th>2020</th>\n      <td>2947217</td>\n      <td>1476813</td>\n      <td>1470404</td>\n      <td>100.435867</td>\n    </tr>\n  </tbody>\n</table>\n</div>"
     },
     "metadata": {},
     "execution_count": 166
    }
   ],
   "source": [
    "idx_flat.set_index(['행정구역','년도'])\n",
    "#행정구역과 년도가 다시 붙는다. "
   ]
  },
  {
   "cell_type": "code",
   "execution_count": 167,
   "metadata": {},
   "outputs": [
    {
     "output_type": "execute_result",
     "data": {
      "text/plain": [
       "0    6\n",
       "1    9\n",
       "2    4\n",
       "3    7\n",
       "4    1\n",
       "dtype: int32"
      ]
     },
     "metadata": {},
     "execution_count": 167
    }
   ],
   "source": [
    "# 데이터 연산\n",
    "s  = pd.Series(np.random.randint(0,10,5))\n",
    "s"
   ]
  },
  {
   "cell_type": "code",
   "execution_count": 171,
   "metadata": {},
   "outputs": [
    {
     "output_type": "execute_result",
     "data": {
      "text/plain": [
       "   A  B  C\n",
       "0  5  5  1\n",
       "1  5  5  0\n",
       "2  7  5  6"
      ],
      "text/html": "<div>\n<style scoped>\n    .dataframe tbody tr th:only-of-type {\n        vertical-align: middle;\n    }\n\n    .dataframe tbody tr th {\n        vertical-align: top;\n    }\n\n    .dataframe thead th {\n        text-align: right;\n    }\n</style>\n<table border=\"1\" class=\"dataframe\">\n  <thead>\n    <tr style=\"text-align: right;\">\n      <th></th>\n      <th>A</th>\n      <th>B</th>\n      <th>C</th>\n    </tr>\n  </thead>\n  <tbody>\n    <tr>\n      <th>0</th>\n      <td>5</td>\n      <td>5</td>\n      <td>1</td>\n    </tr>\n    <tr>\n      <th>1</th>\n      <td>5</td>\n      <td>5</td>\n      <td>0</td>\n    </tr>\n    <tr>\n      <th>2</th>\n      <td>7</td>\n      <td>5</td>\n      <td>6</td>\n    </tr>\n  </tbody>\n</table>\n</div>"
     },
     "metadata": {},
     "execution_count": 171
    }
   ],
   "source": [
    "df = pd.DataFrame(np.random.randint(0,10,9).reshape(3,3),\n",
    "                columns=['A','B','C'])\n",
    "df"
   ]
  },
  {
   "cell_type": "code",
   "execution_count": 172,
   "metadata": {},
   "outputs": [
    {
     "output_type": "execute_result",
     "data": {
      "text/plain": [
       "0     403.428793\n",
       "1    8103.083928\n",
       "2      54.598150\n",
       "3    1096.633158\n",
       "4       2.718282\n",
       "dtype: float64"
      ]
     },
     "metadata": {},
     "execution_count": 172
    }
   ],
   "source": [
    "np.exp(s)"
   ]
  },
  {
   "cell_type": "code",
   "execution_count": 173,
   "metadata": {},
   "outputs": [
    {
     "output_type": "execute_result",
     "data": {
      "text/plain": [
       "          A         B             C\n",
       "0 -0.707107 -0.707107  7.071068e-01\n",
       "1 -0.707107 -0.707107  1.000000e+00\n",
       "2  0.707107 -0.707107 -1.836970e-16"
      ],
      "text/html": "<div>\n<style scoped>\n    .dataframe tbody tr th:only-of-type {\n        vertical-align: middle;\n    }\n\n    .dataframe tbody tr th {\n        vertical-align: top;\n    }\n\n    .dataframe thead th {\n        text-align: right;\n    }\n</style>\n<table border=\"1\" class=\"dataframe\">\n  <thead>\n    <tr style=\"text-align: right;\">\n      <th></th>\n      <th>A</th>\n      <th>B</th>\n      <th>C</th>\n    </tr>\n  </thead>\n  <tbody>\n    <tr>\n      <th>0</th>\n      <td>-0.707107</td>\n      <td>-0.707107</td>\n      <td>7.071068e-01</td>\n    </tr>\n    <tr>\n      <th>1</th>\n      <td>-0.707107</td>\n      <td>-0.707107</td>\n      <td>1.000000e+00</td>\n    </tr>\n    <tr>\n      <th>2</th>\n      <td>0.707107</td>\n      <td>-0.707107</td>\n      <td>-1.836970e-16</td>\n    </tr>\n  </tbody>\n</table>\n</div>"
     },
     "metadata": {},
     "execution_count": 173
    }
   ],
   "source": [
    "np.cos(df *np.pi/4)"
   ]
  },
  {
   "cell_type": "code",
   "execution_count": 174,
   "metadata": {},
   "outputs": [
    {
     "output_type": "execute_result",
     "data": {
      "text/plain": [
       "0     NaN\n",
       "1     5.0\n",
       "2     9.0\n",
       "3    13.0\n",
       "4    17.0\n",
       "5     NaN\n",
       "dtype: float64"
      ]
     },
     "metadata": {},
     "execution_count": 174
    }
   ],
   "source": [
    "s1 = pd.Series([1,3,5,7,9],index=[0,1,2,3,4])\n",
    "s2 = pd.Series([2,4,6,8,10],index=[1,2,3,4,5])\n",
    "s1 + s2 #index가 기준이므로 인덱스가 같은것끼리 덧셈연산을 했다."
   ]
  },
  {
   "cell_type": "code",
   "execution_count": 175,
   "metadata": {},
   "outputs": [
    {
     "output_type": "execute_result",
     "data": {
      "text/plain": [
       "0     1.0\n",
       "1     5.0\n",
       "2     9.0\n",
       "3    13.0\n",
       "4    17.0\n",
       "5    10.0\n",
       "dtype: float64"
      ]
     },
     "metadata": {},
     "execution_count": 175
    }
   ],
   "source": [
    "s1.add(s2,fill_value=0)\n",
    " #fill_value : Nan일 경우에 지정값으로 채워주라는 의미이다. "
   ]
  },
  {
   "cell_type": "code",
   "execution_count": 178,
   "metadata": {},
   "outputs": [
    {
     "output_type": "execute_result",
     "data": {
      "text/plain": [
       "   A  C  D\n",
       "0  3  7  1\n",
       "1  3  1  3\n",
       "2  2  8  5"
      ],
      "text/html": "<div>\n<style scoped>\n    .dataframe tbody tr th:only-of-type {\n        vertical-align: middle;\n    }\n\n    .dataframe tbody tr th {\n        vertical-align: top;\n    }\n\n    .dataframe thead th {\n        text-align: right;\n    }\n</style>\n<table border=\"1\" class=\"dataframe\">\n  <thead>\n    <tr style=\"text-align: right;\">\n      <th></th>\n      <th>A</th>\n      <th>C</th>\n      <th>D</th>\n    </tr>\n  </thead>\n  <tbody>\n    <tr>\n      <th>0</th>\n      <td>3</td>\n      <td>7</td>\n      <td>1</td>\n    </tr>\n    <tr>\n      <th>1</th>\n      <td>3</td>\n      <td>1</td>\n      <td>3</td>\n    </tr>\n    <tr>\n      <th>2</th>\n      <td>2</td>\n      <td>8</td>\n      <td>5</td>\n    </tr>\n  </tbody>\n</table>\n</div>"
     },
     "metadata": {},
     "execution_count": 178
    }
   ],
   "source": [
    "df1 = pd.DataFrame(np.random.randint(0,10,(3,3)),\n",
    "                    columns=list('ACD'))\n",
    "df1"
   ]
  },
  {
   "cell_type": "code",
   "execution_count": 179,
   "metadata": {},
   "outputs": [
    {
     "output_type": "execute_result",
     "data": {
      "text/plain": [
       "    B   A   E   C   D\n",
       "0  12  19  15  17   9\n",
       "1  19   5  10  12   1\n",
       "2  15  12  18  15   7\n",
       "3  13  13   2  12  14\n",
       "4   4   8  11  14   8"
      ],
      "text/html": "<div>\n<style scoped>\n    .dataframe tbody tr th:only-of-type {\n        vertical-align: middle;\n    }\n\n    .dataframe tbody tr th {\n        vertical-align: top;\n    }\n\n    .dataframe thead th {\n        text-align: right;\n    }\n</style>\n<table border=\"1\" class=\"dataframe\">\n  <thead>\n    <tr style=\"text-align: right;\">\n      <th></th>\n      <th>B</th>\n      <th>A</th>\n      <th>E</th>\n      <th>C</th>\n      <th>D</th>\n    </tr>\n  </thead>\n  <tbody>\n    <tr>\n      <th>0</th>\n      <td>12</td>\n      <td>19</td>\n      <td>15</td>\n      <td>17</td>\n      <td>9</td>\n    </tr>\n    <tr>\n      <th>1</th>\n      <td>19</td>\n      <td>5</td>\n      <td>10</td>\n      <td>12</td>\n      <td>1</td>\n    </tr>\n    <tr>\n      <th>2</th>\n      <td>15</td>\n      <td>12</td>\n      <td>18</td>\n      <td>15</td>\n      <td>7</td>\n    </tr>\n    <tr>\n      <th>3</th>\n      <td>13</td>\n      <td>13</td>\n      <td>2</td>\n      <td>12</td>\n      <td>14</td>\n    </tr>\n    <tr>\n      <th>4</th>\n      <td>4</td>\n      <td>8</td>\n      <td>11</td>\n      <td>14</td>\n      <td>8</td>\n    </tr>\n  </tbody>\n</table>\n</div>"
     },
     "metadata": {},
     "execution_count": 179
    }
   ],
   "source": [
    "df2 = pd.DataFrame(np.random.randint(0,20,(5,5)),\n",
    "                    columns=list('BAECD'))\n",
    "df2"
   ]
  },
  {
   "cell_type": "code",
   "execution_count": 183,
   "metadata": {},
   "outputs": [
    {
     "output_type": "execute_result",
     "data": {
      "text/plain": [
       "      A   B     C     D   E\n",
       "0  22.0 NaN  24.0  10.0 NaN\n",
       "1   8.0 NaN  13.0   4.0 NaN\n",
       "2  14.0 NaN  23.0  12.0 NaN\n",
       "3   NaN NaN   NaN   NaN NaN\n",
       "4   NaN NaN   NaN   NaN NaN"
      ],
      "text/html": "<div>\n<style scoped>\n    .dataframe tbody tr th:only-of-type {\n        vertical-align: middle;\n    }\n\n    .dataframe tbody tr th {\n        vertical-align: top;\n    }\n\n    .dataframe thead th {\n        text-align: right;\n    }\n</style>\n<table border=\"1\" class=\"dataframe\">\n  <thead>\n    <tr style=\"text-align: right;\">\n      <th></th>\n      <th>A</th>\n      <th>B</th>\n      <th>C</th>\n      <th>D</th>\n      <th>E</th>\n    </tr>\n  </thead>\n  <tbody>\n    <tr>\n      <th>0</th>\n      <td>22.0</td>\n      <td>NaN</td>\n      <td>24.0</td>\n      <td>10.0</td>\n      <td>NaN</td>\n    </tr>\n    <tr>\n      <th>1</th>\n      <td>8.0</td>\n      <td>NaN</td>\n      <td>13.0</td>\n      <td>4.0</td>\n      <td>NaN</td>\n    </tr>\n    <tr>\n      <th>2</th>\n      <td>14.0</td>\n      <td>NaN</td>\n      <td>23.0</td>\n      <td>12.0</td>\n      <td>NaN</td>\n    </tr>\n    <tr>\n      <th>3</th>\n      <td>NaN</td>\n      <td>NaN</td>\n      <td>NaN</td>\n      <td>NaN</td>\n      <td>NaN</td>\n    </tr>\n    <tr>\n      <th>4</th>\n      <td>NaN</td>\n      <td>NaN</td>\n      <td>NaN</td>\n      <td>NaN</td>\n      <td>NaN</td>\n    </tr>\n  </tbody>\n</table>\n</div>"
     },
     "metadata": {},
     "execution_count": 183
    }
   ],
   "source": [
    "df1 + df2 #비어있는 값이 상당히 많이 존재하게 된다. "
   ]
  },
  {
   "cell_type": "code",
   "execution_count": 181,
   "metadata": {},
   "outputs": [
    {
     "output_type": "execute_result",
     "data": {
      "text/plain": [
       "           A          B          C          D          E\n",
       "0  22.000000  15.666667  24.000000  10.000000  18.666667\n",
       "1   8.000000  22.666667  13.000000   4.000000  13.666667\n",
       "2  14.000000  18.666667  23.000000  12.000000  21.666667\n",
       "3  16.666667  16.666667  15.666667  17.666667   5.666667\n",
       "4  11.666667   7.666667  17.666667  11.666667  14.666667"
      ],
      "text/html": "<div>\n<style scoped>\n    .dataframe tbody tr th:only-of-type {\n        vertical-align: middle;\n    }\n\n    .dataframe tbody tr th {\n        vertical-align: top;\n    }\n\n    .dataframe thead th {\n        text-align: right;\n    }\n</style>\n<table border=\"1\" class=\"dataframe\">\n  <thead>\n    <tr style=\"text-align: right;\">\n      <th></th>\n      <th>A</th>\n      <th>B</th>\n      <th>C</th>\n      <th>D</th>\n      <th>E</th>\n    </tr>\n  </thead>\n  <tbody>\n    <tr>\n      <th>0</th>\n      <td>22.000000</td>\n      <td>15.666667</td>\n      <td>24.000000</td>\n      <td>10.000000</td>\n      <td>18.666667</td>\n    </tr>\n    <tr>\n      <th>1</th>\n      <td>8.000000</td>\n      <td>22.666667</td>\n      <td>13.000000</td>\n      <td>4.000000</td>\n      <td>13.666667</td>\n    </tr>\n    <tr>\n      <th>2</th>\n      <td>14.000000</td>\n      <td>18.666667</td>\n      <td>23.000000</td>\n      <td>12.000000</td>\n      <td>21.666667</td>\n    </tr>\n    <tr>\n      <th>3</th>\n      <td>16.666667</td>\n      <td>16.666667</td>\n      <td>15.666667</td>\n      <td>17.666667</td>\n      <td>5.666667</td>\n    </tr>\n    <tr>\n      <th>4</th>\n      <td>11.666667</td>\n      <td>7.666667</td>\n      <td>17.666667</td>\n      <td>11.666667</td>\n      <td>14.666667</td>\n    </tr>\n  </tbody>\n</table>\n</div>"
     },
     "metadata": {},
     "execution_count": 181
    }
   ],
   "source": [
    "fvalue = df1.stack().mean() #df1의 값들의 평균값\n",
    "df1.add(df2,fill_value=fvalue)"
   ]
  },
  {
   "cell_type": "code",
   "execution_count": 184,
   "metadata": {},
   "outputs": [
    {
     "output_type": "execute_result",
     "data": {
      "text/plain": [
       "array([[8, 6, 2],\n",
       "       [3, 7, 6],\n",
       "       [2, 3, 4]])"
      ]
     },
     "metadata": {},
     "execution_count": 184
    }
   ],
   "source": [
    "#연산자 범용함수\n",
    "#add()\n",
    "a = np.random.randint(1,10,(3,3))\n",
    "a"
   ]
  },
  {
   "cell_type": "code",
   "execution_count": 185,
   "metadata": {},
   "outputs": [
    {
     "output_type": "execute_result",
     "data": {
      "text/plain": [
       "array([[16, 12,  4],\n",
       "       [11, 13,  8],\n",
       "       [10,  9,  6]])"
      ]
     },
     "metadata": {},
     "execution_count": 185
    }
   ],
   "source": [
    "a + a[0]"
   ]
  },
  {
   "cell_type": "code",
   "execution_count": 189,
   "metadata": {},
   "outputs": [
    {
     "output_type": "execute_result",
     "data": {
      "text/plain": [
       "   A  B  C\n",
       "0  8  6  2\n",
       "1  3  7  6\n",
       "2  2  3  4"
      ],
      "text/html": "<div>\n<style scoped>\n    .dataframe tbody tr th:only-of-type {\n        vertical-align: middle;\n    }\n\n    .dataframe tbody tr th {\n        vertical-align: top;\n    }\n\n    .dataframe thead th {\n        text-align: right;\n    }\n</style>\n<table border=\"1\" class=\"dataframe\">\n  <thead>\n    <tr style=\"text-align: right;\">\n      <th></th>\n      <th>A</th>\n      <th>B</th>\n      <th>C</th>\n    </tr>\n  </thead>\n  <tbody>\n    <tr>\n      <th>0</th>\n      <td>8</td>\n      <td>6</td>\n      <td>2</td>\n    </tr>\n    <tr>\n      <th>1</th>\n      <td>3</td>\n      <td>7</td>\n      <td>6</td>\n    </tr>\n    <tr>\n      <th>2</th>\n      <td>2</td>\n      <td>3</td>\n      <td>4</td>\n    </tr>\n  </tbody>\n</table>\n</div>"
     },
     "metadata": {},
     "execution_count": 189
    }
   ],
   "source": [
    "df = pd.DataFrame(a,columns=list('ABC'))\n",
    "df"
   ]
  },
  {
   "cell_type": "code",
   "execution_count": 190,
   "metadata": {},
   "outputs": [
    {
     "output_type": "execute_result",
     "data": {
      "text/plain": [
       "    A   B  C\n",
       "0  16  12  4\n",
       "1  11  13  8\n",
       "2  10   9  6"
      ],
      "text/html": "<div>\n<style scoped>\n    .dataframe tbody tr th:only-of-type {\n        vertical-align: middle;\n    }\n\n    .dataframe tbody tr th {\n        vertical-align: top;\n    }\n\n    .dataframe thead th {\n        text-align: right;\n    }\n</style>\n<table border=\"1\" class=\"dataframe\">\n  <thead>\n    <tr style=\"text-align: right;\">\n      <th></th>\n      <th>A</th>\n      <th>B</th>\n      <th>C</th>\n    </tr>\n  </thead>\n  <tbody>\n    <tr>\n      <th>0</th>\n      <td>16</td>\n      <td>12</td>\n      <td>4</td>\n    </tr>\n    <tr>\n      <th>1</th>\n      <td>11</td>\n      <td>13</td>\n      <td>8</td>\n    </tr>\n    <tr>\n      <th>2</th>\n      <td>10</td>\n      <td>9</td>\n      <td>6</td>\n    </tr>\n  </tbody>\n</table>\n</div>"
     },
     "metadata": {},
     "execution_count": 190
    }
   ],
   "source": [
    "df + df.iloc[0]"
   ]
  },
  {
   "cell_type": "code",
   "execution_count": 191,
   "metadata": {},
   "outputs": [
    {
     "output_type": "execute_result",
     "data": {
      "text/plain": [
       "    A   B  C\n",
       "0  16  12  4\n",
       "1  11  13  8\n",
       "2  10   9  6"
      ],
      "text/html": "<div>\n<style scoped>\n    .dataframe tbody tr th:only-of-type {\n        vertical-align: middle;\n    }\n\n    .dataframe tbody tr th {\n        vertical-align: top;\n    }\n\n    .dataframe thead th {\n        text-align: right;\n    }\n</style>\n<table border=\"1\" class=\"dataframe\">\n  <thead>\n    <tr style=\"text-align: right;\">\n      <th></th>\n      <th>A</th>\n      <th>B</th>\n      <th>C</th>\n    </tr>\n  </thead>\n  <tbody>\n    <tr>\n      <th>0</th>\n      <td>16</td>\n      <td>12</td>\n      <td>4</td>\n    </tr>\n    <tr>\n      <th>1</th>\n      <td>11</td>\n      <td>13</td>\n      <td>8</td>\n    </tr>\n    <tr>\n      <th>2</th>\n      <td>10</td>\n      <td>9</td>\n      <td>6</td>\n    </tr>\n  </tbody>\n</table>\n</div>"
     },
     "metadata": {},
     "execution_count": 191
    }
   ],
   "source": [
    "df.add(df.iloc[0])"
   ]
  },
  {
   "cell_type": "code",
   "execution_count": 192,
   "metadata": {},
   "outputs": [
    {
     "output_type": "execute_result",
     "data": {
      "text/plain": [
       "array([[8, 6, 2],\n",
       "       [3, 7, 6],\n",
       "       [2, 3, 4]])"
      ]
     },
     "metadata": {},
     "execution_count": 192
    }
   ],
   "source": [
    "#sub() / subtract()\n",
    "a"
   ]
  },
  {
   "cell_type": "code",
   "execution_count": 193,
   "metadata": {},
   "outputs": [
    {
     "output_type": "execute_result",
     "data": {
      "text/plain": [
       "array([[ 0,  0,  0],\n",
       "       [-5,  1,  4],\n",
       "       [-6, -3,  2]])"
      ]
     },
     "metadata": {},
     "execution_count": 193
    }
   ],
   "source": [
    "a - a[0]"
   ]
  },
  {
   "cell_type": "code",
   "execution_count": 194,
   "metadata": {},
   "outputs": [
    {
     "output_type": "execute_result",
     "data": {
      "text/plain": [
       "   A  B  C\n",
       "0  8  6  2\n",
       "1  3  7  6\n",
       "2  2  3  4"
      ],
      "text/html": "<div>\n<style scoped>\n    .dataframe tbody tr th:only-of-type {\n        vertical-align: middle;\n    }\n\n    .dataframe tbody tr th {\n        vertical-align: top;\n    }\n\n    .dataframe thead th {\n        text-align: right;\n    }\n</style>\n<table border=\"1\" class=\"dataframe\">\n  <thead>\n    <tr style=\"text-align: right;\">\n      <th></th>\n      <th>A</th>\n      <th>B</th>\n      <th>C</th>\n    </tr>\n  </thead>\n  <tbody>\n    <tr>\n      <th>0</th>\n      <td>8</td>\n      <td>6</td>\n      <td>2</td>\n    </tr>\n    <tr>\n      <th>1</th>\n      <td>3</td>\n      <td>7</td>\n      <td>6</td>\n    </tr>\n    <tr>\n      <th>2</th>\n      <td>2</td>\n      <td>3</td>\n      <td>4</td>\n    </tr>\n  </tbody>\n</table>\n</div>"
     },
     "metadata": {},
     "execution_count": 194
    }
   ],
   "source": [
    "df"
   ]
  },
  {
   "cell_type": "code",
   "execution_count": 195,
   "metadata": {},
   "outputs": [
    {
     "output_type": "execute_result",
     "data": {
      "text/plain": [
       "   A  B  C\n",
       "0  0  0  0\n",
       "1 -5  1  4\n",
       "2 -6 -3  2"
      ],
      "text/html": "<div>\n<style scoped>\n    .dataframe tbody tr th:only-of-type {\n        vertical-align: middle;\n    }\n\n    .dataframe tbody tr th {\n        vertical-align: top;\n    }\n\n    .dataframe thead th {\n        text-align: right;\n    }\n</style>\n<table border=\"1\" class=\"dataframe\">\n  <thead>\n    <tr style=\"text-align: right;\">\n      <th></th>\n      <th>A</th>\n      <th>B</th>\n      <th>C</th>\n    </tr>\n  </thead>\n  <tbody>\n    <tr>\n      <th>0</th>\n      <td>0</td>\n      <td>0</td>\n      <td>0</td>\n    </tr>\n    <tr>\n      <th>1</th>\n      <td>-5</td>\n      <td>1</td>\n      <td>4</td>\n    </tr>\n    <tr>\n      <th>2</th>\n      <td>-6</td>\n      <td>-3</td>\n      <td>2</td>\n    </tr>\n  </tbody>\n</table>\n</div>"
     },
     "metadata": {},
     "execution_count": 195
    }
   ],
   "source": [
    "df-df.iloc[0]"
   ]
  },
  {
   "cell_type": "code",
   "execution_count": 196,
   "metadata": {},
   "outputs": [
    {
     "output_type": "execute_result",
     "data": {
      "text/plain": [
       "   A  B  C\n",
       "0  0  0  0\n",
       "1 -5  1  4\n",
       "2 -6 -3  2"
      ],
      "text/html": "<div>\n<style scoped>\n    .dataframe tbody tr th:only-of-type {\n        vertical-align: middle;\n    }\n\n    .dataframe tbody tr th {\n        vertical-align: top;\n    }\n\n    .dataframe thead th {\n        text-align: right;\n    }\n</style>\n<table border=\"1\" class=\"dataframe\">\n  <thead>\n    <tr style=\"text-align: right;\">\n      <th></th>\n      <th>A</th>\n      <th>B</th>\n      <th>C</th>\n    </tr>\n  </thead>\n  <tbody>\n    <tr>\n      <th>0</th>\n      <td>0</td>\n      <td>0</td>\n      <td>0</td>\n    </tr>\n    <tr>\n      <th>1</th>\n      <td>-5</td>\n      <td>1</td>\n      <td>4</td>\n    </tr>\n    <tr>\n      <th>2</th>\n      <td>-6</td>\n      <td>-3</td>\n      <td>2</td>\n    </tr>\n  </tbody>\n</table>\n</div>"
     },
     "metadata": {},
     "execution_count": 196
    }
   ],
   "source": [
    "df.sub(df.iloc[0])"
   ]
  },
  {
   "cell_type": "code",
   "execution_count": 197,
   "metadata": {},
   "outputs": [
    {
     "output_type": "execute_result",
     "data": {
      "text/plain": [
       "   A  B  C\n",
       "0  2  0 -4\n",
       "1 -4  0 -1\n",
       "2 -1  0  1"
      ],
      "text/html": "<div>\n<style scoped>\n    .dataframe tbody tr th:only-of-type {\n        vertical-align: middle;\n    }\n\n    .dataframe tbody tr th {\n        vertical-align: top;\n    }\n\n    .dataframe thead th {\n        text-align: right;\n    }\n</style>\n<table border=\"1\" class=\"dataframe\">\n  <thead>\n    <tr style=\"text-align: right;\">\n      <th></th>\n      <th>A</th>\n      <th>B</th>\n      <th>C</th>\n    </tr>\n  </thead>\n  <tbody>\n    <tr>\n      <th>0</th>\n      <td>2</td>\n      <td>0</td>\n      <td>-4</td>\n    </tr>\n    <tr>\n      <th>1</th>\n      <td>-4</td>\n      <td>0</td>\n      <td>-1</td>\n    </tr>\n    <tr>\n      <th>2</th>\n      <td>-1</td>\n      <td>0</td>\n      <td>1</td>\n    </tr>\n  </tbody>\n</table>\n</div>"
     },
     "metadata": {},
     "execution_count": 197
    }
   ],
   "source": [
    "df.subtract(df['B'],axis = 0)"
   ]
  },
  {
   "cell_type": "code",
   "execution_count": 198,
   "metadata": {},
   "outputs": [
    {
     "output_type": "execute_result",
     "data": {
      "text/plain": [
       "array([[8, 6, 2],\n",
       "       [3, 7, 6],\n",
       "       [2, 3, 4]])"
      ]
     },
     "metadata": {},
     "execution_count": 198
    }
   ],
   "source": [
    "#mul()\n",
    "a"
   ]
  },
  {
   "cell_type": "code",
   "execution_count": 199,
   "metadata": {},
   "outputs": [
    {
     "output_type": "execute_result",
     "data": {
      "text/plain": [
       "array([[64, 36,  4],\n",
       "       [24, 42, 12],\n",
       "       [16, 18,  8]])"
      ]
     },
     "metadata": {},
     "execution_count": 199
    }
   ],
   "source": [
    "a * a[0]"
   ]
  },
  {
   "cell_type": "code",
   "execution_count": 200,
   "metadata": {},
   "outputs": [
    {
     "output_type": "execute_result",
     "data": {
      "text/plain": [
       "   A  B  C\n",
       "0  8  6  2\n",
       "1  3  7  6\n",
       "2  2  3  4"
      ],
      "text/html": "<div>\n<style scoped>\n    .dataframe tbody tr th:only-of-type {\n        vertical-align: middle;\n    }\n\n    .dataframe tbody tr th {\n        vertical-align: top;\n    }\n\n    .dataframe thead th {\n        text-align: right;\n    }\n</style>\n<table border=\"1\" class=\"dataframe\">\n  <thead>\n    <tr style=\"text-align: right;\">\n      <th></th>\n      <th>A</th>\n      <th>B</th>\n      <th>C</th>\n    </tr>\n  </thead>\n  <tbody>\n    <tr>\n      <th>0</th>\n      <td>8</td>\n      <td>6</td>\n      <td>2</td>\n    </tr>\n    <tr>\n      <th>1</th>\n      <td>3</td>\n      <td>7</td>\n      <td>6</td>\n    </tr>\n    <tr>\n      <th>2</th>\n      <td>2</td>\n      <td>3</td>\n      <td>4</td>\n    </tr>\n  </tbody>\n</table>\n</div>"
     },
     "metadata": {},
     "execution_count": 200
    }
   ],
   "source": [
    "df"
   ]
  },
  {
   "cell_type": "code",
   "execution_count": 202,
   "metadata": {},
   "outputs": [
    {
     "output_type": "execute_result",
     "data": {
      "text/plain": [
       "    A   B   C\n",
       "0  24  42  12\n",
       "1   9  49  36\n",
       "2   6  21  24"
      ],
      "text/html": "<div>\n<style scoped>\n    .dataframe tbody tr th:only-of-type {\n        vertical-align: middle;\n    }\n\n    .dataframe tbody tr th {\n        vertical-align: top;\n    }\n\n    .dataframe thead th {\n        text-align: right;\n    }\n</style>\n<table border=\"1\" class=\"dataframe\">\n  <thead>\n    <tr style=\"text-align: right;\">\n      <th></th>\n      <th>A</th>\n      <th>B</th>\n      <th>C</th>\n    </tr>\n  </thead>\n  <tbody>\n    <tr>\n      <th>0</th>\n      <td>24</td>\n      <td>42</td>\n      <td>12</td>\n    </tr>\n    <tr>\n      <th>1</th>\n      <td>9</td>\n      <td>49</td>\n      <td>36</td>\n    </tr>\n    <tr>\n      <th>2</th>\n      <td>6</td>\n      <td>21</td>\n      <td>24</td>\n    </tr>\n  </tbody>\n</table>\n</div>"
     },
     "metadata": {},
     "execution_count": 202
    }
   ],
   "source": [
    "df*df.iloc[1]"
   ]
  },
  {
   "cell_type": "code",
   "execution_count": 203,
   "metadata": {},
   "outputs": [
    {
     "output_type": "execute_result",
     "data": {
      "text/plain": [
       "    A   B   C\n",
       "0  24  42  12\n",
       "1   9  49  36\n",
       "2   6  21  24"
      ],
      "text/html": "<div>\n<style scoped>\n    .dataframe tbody tr th:only-of-type {\n        vertical-align: middle;\n    }\n\n    .dataframe tbody tr th {\n        vertical-align: top;\n    }\n\n    .dataframe thead th {\n        text-align: right;\n    }\n</style>\n<table border=\"1\" class=\"dataframe\">\n  <thead>\n    <tr style=\"text-align: right;\">\n      <th></th>\n      <th>A</th>\n      <th>B</th>\n      <th>C</th>\n    </tr>\n  </thead>\n  <tbody>\n    <tr>\n      <th>0</th>\n      <td>24</td>\n      <td>42</td>\n      <td>12</td>\n    </tr>\n    <tr>\n      <th>1</th>\n      <td>9</td>\n      <td>49</td>\n      <td>36</td>\n    </tr>\n    <tr>\n      <th>2</th>\n      <td>6</td>\n      <td>21</td>\n      <td>24</td>\n    </tr>\n  </tbody>\n</table>\n</div>"
     },
     "metadata": {},
     "execution_count": 203
    }
   ],
   "source": [
    "df.mul(df.iloc[1])"
   ]
  },
  {
   "cell_type": "code",
   "execution_count": 204,
   "metadata": {},
   "outputs": [
    {
     "output_type": "execute_result",
     "data": {
      "text/plain": [
       "array([[8, 6, 2],\n",
       "       [3, 7, 6],\n",
       "       [2, 3, 4]])"
      ]
     },
     "metadata": {},
     "execution_count": 204
    }
   ],
   "source": [
    "#truediv(),div(),divide(),floordiv()\n",
    "a"
   ]
  },
  {
   "cell_type": "code",
   "execution_count": 205,
   "metadata": {},
   "outputs": [
    {
     "output_type": "execute_result",
     "data": {
      "text/plain": [
       "array([[1.        , 1.        , 1.        ],\n",
       "       [0.375     , 1.16666667, 3.        ],\n",
       "       [0.25      , 0.5       , 2.        ]])"
      ]
     },
     "metadata": {},
     "execution_count": 205
    }
   ],
   "source": [
    "a / a[0]"
   ]
  },
  {
   "cell_type": "code",
   "execution_count": 206,
   "metadata": {},
   "outputs": [
    {
     "output_type": "execute_result",
     "data": {
      "text/plain": [
       "   A  B  C\n",
       "0  8  6  2\n",
       "1  3  7  6\n",
       "2  2  3  4"
      ],
      "text/html": "<div>\n<style scoped>\n    .dataframe tbody tr th:only-of-type {\n        vertical-align: middle;\n    }\n\n    .dataframe tbody tr th {\n        vertical-align: top;\n    }\n\n    .dataframe thead th {\n        text-align: right;\n    }\n</style>\n<table border=\"1\" class=\"dataframe\">\n  <thead>\n    <tr style=\"text-align: right;\">\n      <th></th>\n      <th>A</th>\n      <th>B</th>\n      <th>C</th>\n    </tr>\n  </thead>\n  <tbody>\n    <tr>\n      <th>0</th>\n      <td>8</td>\n      <td>6</td>\n      <td>2</td>\n    </tr>\n    <tr>\n      <th>1</th>\n      <td>3</td>\n      <td>7</td>\n      <td>6</td>\n    </tr>\n    <tr>\n      <th>2</th>\n      <td>2</td>\n      <td>3</td>\n      <td>4</td>\n    </tr>\n  </tbody>\n</table>\n</div>"
     },
     "metadata": {},
     "execution_count": 206
    }
   ],
   "source": [
    "df"
   ]
  },
  {
   "cell_type": "code",
   "execution_count": 207,
   "metadata": {},
   "outputs": [
    {
     "output_type": "execute_result",
     "data": {
      "text/plain": [
       "       A         B    C\n",
       "0  1.000  1.000000  1.0\n",
       "1  0.375  1.166667  3.0\n",
       "2  0.250  0.500000  2.0"
      ],
      "text/html": "<div>\n<style scoped>\n    .dataframe tbody tr th:only-of-type {\n        vertical-align: middle;\n    }\n\n    .dataframe tbody tr th {\n        vertical-align: top;\n    }\n\n    .dataframe thead th {\n        text-align: right;\n    }\n</style>\n<table border=\"1\" class=\"dataframe\">\n  <thead>\n    <tr style=\"text-align: right;\">\n      <th></th>\n      <th>A</th>\n      <th>B</th>\n      <th>C</th>\n    </tr>\n  </thead>\n  <tbody>\n    <tr>\n      <th>0</th>\n      <td>1.000</td>\n      <td>1.000000</td>\n      <td>1.0</td>\n    </tr>\n    <tr>\n      <th>1</th>\n      <td>0.375</td>\n      <td>1.166667</td>\n      <td>3.0</td>\n    </tr>\n    <tr>\n      <th>2</th>\n      <td>0.250</td>\n      <td>0.500000</td>\n      <td>2.0</td>\n    </tr>\n  </tbody>\n</table>\n</div>"
     },
     "metadata": {},
     "execution_count": 207
    }
   ],
   "source": [
    "df / df.iloc[0]"
   ]
  },
  {
   "cell_type": "code",
   "execution_count": 208,
   "metadata": {},
   "outputs": [
    {
     "output_type": "execute_result",
     "data": {
      "text/plain": [
       "       A         B    C\n",
       "0  1.000  1.000000  1.0\n",
       "1  0.375  1.166667  3.0\n",
       "2  0.250  0.500000  2.0"
      ],
      "text/html": "<div>\n<style scoped>\n    .dataframe tbody tr th:only-of-type {\n        vertical-align: middle;\n    }\n\n    .dataframe tbody tr th {\n        vertical-align: top;\n    }\n\n    .dataframe thead th {\n        text-align: right;\n    }\n</style>\n<table border=\"1\" class=\"dataframe\">\n  <thead>\n    <tr style=\"text-align: right;\">\n      <th></th>\n      <th>A</th>\n      <th>B</th>\n      <th>C</th>\n    </tr>\n  </thead>\n  <tbody>\n    <tr>\n      <th>0</th>\n      <td>1.000</td>\n      <td>1.000000</td>\n      <td>1.0</td>\n    </tr>\n    <tr>\n      <th>1</th>\n      <td>0.375</td>\n      <td>1.166667</td>\n      <td>3.0</td>\n    </tr>\n    <tr>\n      <th>2</th>\n      <td>0.250</td>\n      <td>0.500000</td>\n      <td>2.0</td>\n    </tr>\n  </tbody>\n</table>\n</div>"
     },
     "metadata": {},
     "execution_count": 208
    }
   ],
   "source": [
    "df.truediv(df.iloc[0])"
   ]
  },
  {
   "cell_type": "code",
   "execution_count": 209,
   "metadata": {},
   "outputs": [
    {
     "output_type": "execute_result",
     "data": {
      "text/plain": [
       "       A         B    C\n",
       "0  1.000  1.000000  1.0\n",
       "1  0.375  1.166667  3.0\n",
       "2  0.250  0.500000  2.0"
      ],
      "text/html": "<div>\n<style scoped>\n    .dataframe tbody tr th:only-of-type {\n        vertical-align: middle;\n    }\n\n    .dataframe tbody tr th {\n        vertical-align: top;\n    }\n\n    .dataframe thead th {\n        text-align: right;\n    }\n</style>\n<table border=\"1\" class=\"dataframe\">\n  <thead>\n    <tr style=\"text-align: right;\">\n      <th></th>\n      <th>A</th>\n      <th>B</th>\n      <th>C</th>\n    </tr>\n  </thead>\n  <tbody>\n    <tr>\n      <th>0</th>\n      <td>1.000</td>\n      <td>1.000000</td>\n      <td>1.0</td>\n    </tr>\n    <tr>\n      <th>1</th>\n      <td>0.375</td>\n      <td>1.166667</td>\n      <td>3.0</td>\n    </tr>\n    <tr>\n      <th>2</th>\n      <td>0.250</td>\n      <td>0.500000</td>\n      <td>2.0</td>\n    </tr>\n  </tbody>\n</table>\n</div>"
     },
     "metadata": {},
     "execution_count": 209
    }
   ],
   "source": [
    "df.div(df.iloc[0])"
   ]
  },
  {
   "cell_type": "code",
   "execution_count": 210,
   "metadata": {},
   "outputs": [
    {
     "output_type": "execute_result",
     "data": {
      "text/plain": [
       "array([[1, 1, 1],\n",
       "       [0, 1, 3],\n",
       "       [0, 0, 2]], dtype=int32)"
      ]
     },
     "metadata": {},
     "execution_count": 210
    }
   ],
   "source": [
    "a//a[0]"
   ]
  },
  {
   "cell_type": "code",
   "execution_count": 211,
   "metadata": {},
   "outputs": [
    {
     "output_type": "execute_result",
     "data": {
      "text/plain": [
       "   A  B  C\n",
       "0  1  1  1\n",
       "1  0  1  3\n",
       "2  0  0  2"
      ],
      "text/html": "<div>\n<style scoped>\n    .dataframe tbody tr th:only-of-type {\n        vertical-align: middle;\n    }\n\n    .dataframe tbody tr th {\n        vertical-align: top;\n    }\n\n    .dataframe thead th {\n        text-align: right;\n    }\n</style>\n<table border=\"1\" class=\"dataframe\">\n  <thead>\n    <tr style=\"text-align: right;\">\n      <th></th>\n      <th>A</th>\n      <th>B</th>\n      <th>C</th>\n    </tr>\n  </thead>\n  <tbody>\n    <tr>\n      <th>0</th>\n      <td>1</td>\n      <td>1</td>\n      <td>1</td>\n    </tr>\n    <tr>\n      <th>1</th>\n      <td>0</td>\n      <td>1</td>\n      <td>3</td>\n    </tr>\n    <tr>\n      <th>2</th>\n      <td>0</td>\n      <td>0</td>\n      <td>2</td>\n    </tr>\n  </tbody>\n</table>\n</div>"
     },
     "metadata": {},
     "execution_count": 211
    }
   ],
   "source": [
    "df.floordiv(df.iloc[0]) #반올림"
   ]
  },
  {
   "cell_type": "code",
   "execution_count": 212,
   "metadata": {},
   "outputs": [
    {
     "output_type": "execute_result",
     "data": {
      "text/plain": [
       "array([[0, 0, 0],\n",
       "       [3, 1, 0],\n",
       "       [2, 3, 0]], dtype=int32)"
      ]
     },
     "metadata": {},
     "execution_count": 212
    }
   ],
   "source": [
    "a % a[0]"
   ]
  },
  {
   "cell_type": "code",
   "execution_count": 213,
   "metadata": {},
   "outputs": [
    {
     "output_type": "execute_result",
     "data": {
      "text/plain": [
       "   A  B  C\n",
       "0  0  0  0\n",
       "1  3  1  0\n",
       "2  2  3  0"
      ],
      "text/html": "<div>\n<style scoped>\n    .dataframe tbody tr th:only-of-type {\n        vertical-align: middle;\n    }\n\n    .dataframe tbody tr th {\n        vertical-align: top;\n    }\n\n    .dataframe thead th {\n        text-align: right;\n    }\n</style>\n<table border=\"1\" class=\"dataframe\">\n  <thead>\n    <tr style=\"text-align: right;\">\n      <th></th>\n      <th>A</th>\n      <th>B</th>\n      <th>C</th>\n    </tr>\n  </thead>\n  <tbody>\n    <tr>\n      <th>0</th>\n      <td>0</td>\n      <td>0</td>\n      <td>0</td>\n    </tr>\n    <tr>\n      <th>1</th>\n      <td>3</td>\n      <td>1</td>\n      <td>0</td>\n    </tr>\n    <tr>\n      <th>2</th>\n      <td>2</td>\n      <td>3</td>\n      <td>0</td>\n    </tr>\n  </tbody>\n</table>\n</div>"
     },
     "metadata": {},
     "execution_count": 213
    }
   ],
   "source": [
    "df.mod(df.iloc[0])"
   ]
  },
  {
   "cell_type": "code",
   "execution_count": 214,
   "metadata": {},
   "outputs": [
    {
     "output_type": "execute_result",
     "data": {
      "text/plain": [
       "array([[16777216,    46656,        4],\n",
       "       [    6561,   117649,       36],\n",
       "       [     256,      729,       16]], dtype=int32)"
      ]
     },
     "metadata": {},
     "execution_count": 214
    }
   ],
   "source": [
    "a ** a[0] #제곱"
   ]
  },
  {
   "cell_type": "code",
   "execution_count": 216,
   "metadata": {},
   "outputs": [
    {
     "output_type": "execute_result",
     "data": {
      "text/plain": [
       "          A       B   C\n",
       "0  16777216   46656   4\n",
       "1      6561  117649  36\n",
       "2       256     729  16"
      ],
      "text/html": "<div>\n<style scoped>\n    .dataframe tbody tr th:only-of-type {\n        vertical-align: middle;\n    }\n\n    .dataframe tbody tr th {\n        vertical-align: top;\n    }\n\n    .dataframe thead th {\n        text-align: right;\n    }\n</style>\n<table border=\"1\" class=\"dataframe\">\n  <thead>\n    <tr style=\"text-align: right;\">\n      <th></th>\n      <th>A</th>\n      <th>B</th>\n      <th>C</th>\n    </tr>\n  </thead>\n  <tbody>\n    <tr>\n      <th>0</th>\n      <td>16777216</td>\n      <td>46656</td>\n      <td>4</td>\n    </tr>\n    <tr>\n      <th>1</th>\n      <td>6561</td>\n      <td>117649</td>\n      <td>36</td>\n    </tr>\n    <tr>\n      <th>2</th>\n      <td>256</td>\n      <td>729</td>\n      <td>16</td>\n    </tr>\n  </tbody>\n</table>\n</div>"
     },
     "metadata": {},
     "execution_count": 216
    }
   ],
   "source": [
    "df.pow(df.iloc[0])"
   ]
  },
  {
   "cell_type": "code",
   "execution_count": 217,
   "metadata": {},
   "outputs": [
    {
     "output_type": "execute_result",
     "data": {
      "text/plain": [
       "A    8\n",
       "C    2\n",
       "Name: 0, dtype: int32"
      ]
     },
     "metadata": {},
     "execution_count": 217
    }
   ],
   "source": [
    "row = df.iloc[0,::2]\n",
    "row"
   ]
  },
  {
   "cell_type": "code",
   "execution_count": 218,
   "metadata": {},
   "outputs": [
    {
     "output_type": "execute_result",
     "data": {
      "text/plain": [
       "     A   B    C\n",
       "0  0.0 NaN  0.0\n",
       "1 -5.0 NaN  4.0\n",
       "2 -6.0 NaN  2.0"
      ],
      "text/html": "<div>\n<style scoped>\n    .dataframe tbody tr th:only-of-type {\n        vertical-align: middle;\n    }\n\n    .dataframe tbody tr th {\n        vertical-align: top;\n    }\n\n    .dataframe thead th {\n        text-align: right;\n    }\n</style>\n<table border=\"1\" class=\"dataframe\">\n  <thead>\n    <tr style=\"text-align: right;\">\n      <th></th>\n      <th>A</th>\n      <th>B</th>\n      <th>C</th>\n    </tr>\n  </thead>\n  <tbody>\n    <tr>\n      <th>0</th>\n      <td>0.0</td>\n      <td>NaN</td>\n      <td>0.0</td>\n    </tr>\n    <tr>\n      <th>1</th>\n      <td>-5.0</td>\n      <td>NaN</td>\n      <td>4.0</td>\n    </tr>\n    <tr>\n      <th>2</th>\n      <td>-6.0</td>\n      <td>NaN</td>\n      <td>2.0</td>\n    </tr>\n  </tbody>\n</table>\n</div>"
     },
     "metadata": {},
     "execution_count": 218
    }
   ],
   "source": [
    "df-row"
   ]
  },
  {
   "cell_type": "code",
   "execution_count": null,
   "metadata": {
    "pycharm": {
     "name": "#%%\n"
    }
   },
   "outputs": [],
   "source": [
    "#sort() , 정렬"
   ]
  },
  {
   "cell_type": "code",
   "execution_count": 4,
   "outputs": [
    {
     "ename": "SyntaxError",
     "evalue": "invalid syntax (<ipython-input-4-8adc41b01fc0>, line 1)",
     "output_type": "error",
     "traceback": [
      "\u001B[1;36m  File \u001B[1;32m\"<ipython-input-4-8adc41b01fc0>\"\u001B[1;36m, line \u001B[1;32m1\u001B[0m\n\u001B[1;33m    git remote add origin https://github.com/JunKi-Park/Tutorial.git\u001B[0m\n\u001B[1;37m             ^\u001B[0m\n\u001B[1;31mSyntaxError\u001B[0m\u001B[1;31m:\u001B[0m invalid syntax\n"
     ]
    }
   ],
   "source": [
    "git remote add origin https://github.com/JunKi-Park/Tutorial.git\n",
    "git branch -M main\n",
    "git push -u origin main"
   ],
   "metadata": {
    "collapsed": false,
    "pycharm": {
     "name": "#%%\n"
    }
   }
  },
  {
   "cell_type": "code",
   "execution_count": null,
   "outputs": [],
   "source": [],
   "metadata": {
    "collapsed": false,
    "pycharm": {
     "name": "#%%\n"
    }
   }
  }
 ]
}